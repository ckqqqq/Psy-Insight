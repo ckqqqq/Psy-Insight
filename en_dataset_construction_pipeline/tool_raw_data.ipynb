{
 "cells": [
  {
   "cell_type": "code",
   "execution_count": 1,
   "metadata": {},
   "outputs": [
    {
     "name": "stdout",
     "output_type": "stream",
     "text": [
      "Copied 40 random JSON files to ./raw_data_examples\n"
     ]
    }
   ],
   "source": [
    "import os\n",
    "import shutil\n",
    "import random\n",
    "\n",
    "def copy_random_json_files(source_folder, destination_folder, num_files=40):\n",
    "    # 确保目标文件夹存在\n",
    "    if not os.path.exists(destination_folder):\n",
    "        os.makedirs(destination_folder)\n",
    "\n",
    "    # 获取源文件夹中的所有json文件\n",
    "    json_files = [f for f in os.listdir(source_folder) if f.endswith('.json')]\n",
    "\n",
    "    # 随机挑选num_files个文件\n",
    "    selected_files = random.sample(json_files, num_files)\n",
    "\n",
    "    # 复制选中的文件到目标文件夹\n",
    "    for file_name in selected_files:\n",
    "        src_file_path = os.path.join(source_folder, file_name)\n",
    "        dest_file_path = os.path.join(destination_folder, file_name)\n",
    "        shutil.copy2(src_file_path, dest_file_path)\n",
    "\n",
    "    print(f\"Copied {num_files} random JSON files to {destination_folder}\")\n",
    "\n",
    "# 使用示例\n",
    "source_folder = './raw_data'\n",
    "destination_folder = './raw_data_examples'\n",
    "copy_random_json_files(source_folder, destination_folder)"
   ]
  }
 ],
 "metadata": {
  "kernelspec": {
   "display_name": "trl",
   "language": "python",
   "name": "python3"
  },
  "language_info": {
   "codemirror_mode": {
    "name": "ipython",
    "version": 3
   },
   "file_extension": ".py",
   "mimetype": "text/x-python",
   "name": "python",
   "nbconvert_exporter": "python",
   "pygments_lexer": "ipython3",
   "version": "3.9.0"
  }
 },
 "nbformat": 4,
 "nbformat_minor": 2
}
