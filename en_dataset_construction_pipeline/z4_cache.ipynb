{
 "cells": [
  {
   "cell_type": "code",
   "execution_count": 7,
   "metadata": {},
   "outputs": [],
   "source": [
    "## 将这些文件全部处理为缓存文件夹\n",
    "import json\n",
    "english_input_file_path=\"/home/ckqsudo/code2024/0dataset/E-bed/English/z3_gpt_mapping.ipynb/输入文件夹/En_data_for_cache.json\"\n",
    "with open(english_input_file_path,\"r\",encoding=\"utf-8\") as i_f:\n",
    "    en_data=json.load(i_f)\n",
    "\n"
   ]
  },
  {
   "cell_type": "code",
   "execution_count": null,
   "metadata": {},
   "outputs": [],
   "source": []
  },
  {
   "cell_type": "code",
   "execution_count": 8,
   "metadata": {},
   "outputs": [],
   "source": [
    "import json\n"
   ]
  },
  {
   "cell_type": "code",
   "execution_count": 9,
   "metadata": {},
   "outputs": [],
   "source": [
    "from shutil import unregister_archive_format\n",
    "\n",
    "title=\"\"\n",
    "for x,item in enumerate(en_data[:]):\n",
    "    if item[\"key\"]==\"title\":\n",
    "        title=item[\"content\"]\n",
    "    if item[\"key\"]==\"fewshot\":\n",
    "        unit_del_list=[\"content\",\"source\",\"participant\",\"participant_num\"]\n",
    "        for unit_del in unit_del_list:\n",
    "            item.pop(unit_del)\n",
    "        for y,dialog_item in enumerate(item[\"dialog\"]):\n",
    "            item[\"dialog\"][y].pop(\"speaker\")\n",
    "            if \"labels\" in item[\"dialog\"][y]:\n",
    "                item[\"dialog\"][y][\"reference_labels\"]=[]\n",
    "                for label_unit in item[\"dialog\"][y][\"labels\"]:\n",
    "                    item[\"dialog\"][y][\"reference_labels\"].append(label_unit[\"label\"])\n",
    "                item[\"dialog\"][y].pop(\"labels\")\n",
    "            \n",
    "        pre_idx,post_idx=x-1,x+1\n",
    "        pre_reasoning,post_reasoning=[],[]\n",
    "        while pre_idx>=0 and en_data[pre_idx][\"key\"]==\"reasoning\":\n",
    "            pre_reasoning.insert(0,en_data[pre_idx][\"content\"])\n",
    "            pre_idx-=1\n",
    "        while post_idx<=len(en_data)-1 and en_data[post_idx][\"key\"]==\"reasoning\":\n",
    "            post_reasoning.append(en_data[post_idx][\"content\"])\n",
    "            post_idx+=1\n",
    "        unit_cache={\"case_theme\":title,\"pre_reasoning\":pre_reasoning,\"topic_dialog\": item,\"post_reasoning\":post_reasoning}\n",
    "        \n",
    "        # 文件读写\n",
    "        file_id=item[\"unit_id\"]\n",
    "        file_name=f\"{str(file_id)}_cache.json\"\n",
    "        with open(\"/home/ckqsudo/code2024/0dataset/E-bed/English/z3_gpt_mapping.ipynb/缓存文件夹\"+\"/\"+file_name,\"w\",encoding=\"utf-8\") as o_f:\n",
    "            json.dump(unit_cache,o_f,ensure_ascii=False)\n"
   ]
  }
 ],
 "metadata": {
  "kernelspec": {
   "display_name": "trl",
   "language": "python",
   "name": "python3"
  },
  "language_info": {
   "codemirror_mode": {
    "name": "ipython",
    "version": 3
   },
   "file_extension": ".py",
   "mimetype": "text/x-python",
   "name": "python",
   "nbconvert_exporter": "python",
   "pygments_lexer": "ipython3",
   "version": "3.9.0"
  }
 },
 "nbformat": 4,
 "nbformat_minor": 2
}
