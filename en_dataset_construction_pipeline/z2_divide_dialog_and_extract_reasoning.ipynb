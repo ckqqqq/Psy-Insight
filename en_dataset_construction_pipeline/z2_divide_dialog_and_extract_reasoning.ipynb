{
 "cells": [
  {
   "cell_type": "markdown",
   "metadata": {},
   "source": [
    "## 标签\n",
    "\n",
    "from curses import keyname\n",
    "\n",
    "\n",
    "key 这里有 reasoning chat_stage dialog 三个keyname 相比于纯中文多的还有“标题\"\n",
    "content 这里是对话或reasoning 的具体内容\n",
    "source 这里是对话的来源,就是书籍的来源吧，这个随便挑选就可以\n",
    "mapping 这里是对话的映射关系 有总结上文，承上启下，引出下文等关系 这个标签只有 reasoning才有，这个需要用gpt去生成\n",
    "method 具体是什么方法：这个标签只有\n",
    "dialog 这是一个列表，列表中对话单轮次的标识，有speaker, origin_text 等标识\n",
    "\n",
    "Participant 等标识\n",
    "\n",
    "\n",
    "## 先这样处理"
   ]
  },
  {
   "cell_type": "code",
   "execution_count": 305,
   "metadata": {},
   "outputs": [
    {
     "data": {
      "text/plain": [
       "['Cognitive Behaviour Therapy 100_signed.txt',\n",
       " 'Doing Something Different Solution-Focused Brief Therapy Practices_signed.txt',\n",
       " 'Acceptance  Commitment Therapy (ACT) 100_signed.txt',\n",
       " 'Solution-Focused Brief Therapy with Families_signed.txt',\n",
       " 'Solution-Focused Brief Therapy in Schools_signed.txt',\n",
       " 'Solution focused brief therapy_100_signed.txt',\n",
       " 'Brief Counseling That Works A Solution-Focused Therapy Approach for School Counselors_signed.txt',\n",
       " 'Doing Psychotherapy_signed.txt',\n",
       " 'Becoming Solution-Focused In Brief Therapy_signed.txt',\n",
       " 'Gestalt Therapy 100_signed.txt',\n",
       " 'More than miracles_ the state of the art of solution-focused brief therapy_signed.txt',\n",
       " 'Rational Emotive Behavior Therapy 100_signed.txt']"
      ]
     },
     "execution_count": 305,
     "metadata": {},
     "output_type": "execute_result"
    }
   ],
   "source": [
    "import regex\n",
    "import os\n",
    "import re\n",
    "input_path=\"/home/ckqsudo/code2024/0dataset/E-bed/English/z1_datastream_划分reasoning和对话/输入文件夹\"\n",
    "files=os.listdir(input_path) # 读取文件夹目录\n",
    "res=[]\n",
    "files"
   ]
  },
  {
   "cell_type": "code",
   "execution_count": 316,
   "metadata": {},
   "outputs": [],
   "source": [
    "paricipant=['George', 'Mrs. D',  'Emma', 'Dan', 'Phil', 'Hamid', 'Paul',  'Mother', 'Fam', 'Daughter', 'Fancy', 'Eleanor', 'Bob', 'Korley', 'Shantel', 'Beth', 'Worker', 'Wife', 'Sara', 'Mn Arianes',  'Josie', 'Susan', 'Bry', 'Boy', 'Robert', 'Mr. Arianes', 'Mr. Arians',  'Parents', 'Jake', 'Sherri', 'Mac',   'Student 2', 'Young person', 'Father', 'Ms. Valdez', 'James',  'Cora', 'Jessica',  'Student', 'Tom',  'Shawn', 'Counselor', 'Jasmine', 'Karen', 'Sandra', 'Miss Banks', 'Student 4', 'Anita', 'Scott', 'Jackie', 'Janet', 'Margaret', 'Marie', 'Student 3', 'Example', 'Carl', 'Mr. D', 'M’Lin', 'Both', 'Dick', 'Emily', 'Janine', 'Dorothy', 'Pete', 'Ms. Wilson',  'Resident', 'Sarah', 'Students', 'Brad', 'Client', 'All', 'Pedro', 'Ben and Paul', 'Student 1', 'Mum', 'Kasey', 'Mr. Smith', 'Victoria', 'Jamel',  'Christine', 'Ben','Mrs. Smith (MS)','Mrs. Smith','Mrs. Smith','Mr. Daniels (Mr. D)','Mrs. Daniels (Mrs. D)','Peter','Sophie','Mrs. Daniels (Mrs. D)','Mrs. Daniels']"
   ]
  },
  {
   "cell_type": "code",
   "execution_count": 317,
   "metadata": {},
   "outputs": [],
   "source": [
    "# Acceptance  Commitment Therapy (ACT) 100\n",
    "\n",
    "source_method_mapping={'Cognitive Behaviour Therapy 100_signed.txt':\"Cognitive Behaviour Therapy\",\n",
    " 'Doing Something Different Solution-Focused Brief Therapy Practices_signed.txt':\"Solution-Focused Brief Therapy\",\n",
    " 'Acceptance  Commitment Therapy (ACT) 100_signed.txt':\"Acceptance  Commitment Therapy\",\n",
    " 'Solution-Focused Brief Therapy with Families_signed.txt':\"Solution-Focused Brief Therapy\",\n",
    " 'Solution-Focused Brief Therapy in Schools_signed.txt':\"Solution-Focused Brief Therapy\",\n",
    " 'Solution focused brief therapy_100_signed.txt':\"Solution-Focused Brief Therapy\",\n",
    " 'Brief Counseling That Works A Solution-Focused Therapy Approach for School Counselors_signed.txt':\"Solution-Focused Brief Therapy\",\n",
    " 'Doing Psychotherapy_signed.txt':\"Unknown\",\n",
    " 'Becoming Solution-Focused In Brief Therapy_signed.txt':\"Solution-Focused Brief Therapy\",\n",
    " 'Gestalt Therapy 100_signed.txt':\"Gestalt Therapy\",\n",
    " 'More than miracles_ the state of the art of solution-focused brief therapy_signed.txt':\"Solution-Focused Brief Therapy\",\n",
    " 'Rational Emotive Behavior Therapy 100_signed.txt':\"Rational Emotive Behavior Therapy\"}"
   ]
  },
  {
   "cell_type": "code",
   "execution_count": 308,
   "metadata": {},
   "outputs": [],
   "source": [
    "printed_methods=['Gestalt Therapy', 'Rational Emotive Behavior Therapy', 'Unknown', 'Acceptance  Commitment Therapy', 'Solution-Focused Brief Therapy', 'Cognitive Behaviour Therapy']"
   ]
  },
  {
   "cell_type": "code",
   "execution_count": 309,
   "metadata": {},
   "outputs": [],
   "source": [
    "noisy=['8\\n',\n",
    " '(Task)\\n',\n",
    " 'Sessions 26-55\\n',\n",
    " '41\\n',\n",
    " 'Scaling questions.\\n',\n",
    " 'Laura,\\n',\n",
    " 'Example 1\\n',\n",
    " '\\t\\n',\n",
    " '(Summary statement)\\n',\n",
    " 'Session 1\\n',\n",
    " 'Session 6\\n',\n",
    " '40\\n',\n",
    " 'Solution-focused goals.\\n',\n",
    " 'Example 3\\n',\n",
    " 'Chapter 1\\n',\n",
    " 'or.\\n',\n",
    " '(1993: 29)\\n',\n",
    " '92\\n',\n",
    " 'Session 22\\n',\n",
    " 'Session 85\\n',\n",
    " '15\\n',\n",
    " 'Chapter 7\\n',\n",
    " '\\n',\n",
    " '(Scaling)\\n',\n",
    " 'Sessions 17-70\\n',\n",
    " '(Message)\\n',\n",
    " '12\\n',\n",
    " 'Exceptions elicitation:\\n',\n",
    " '20\\n',\n",
    " 'Becky\\n',\n",
    " 'Sessions 6-31\\n',\n",
    " 'Final Thoughts\\n',\n",
    " '26\\n',\n",
    " 'Session 32\\n',\n",
    " 'EARS\\n',\n",
    " '(Cheerleading)\\n',\n",
    " '(Mindmapping)\\n',\n",
    " '141\\n',\n",
    " ' \\n',\n",
    " '27\\n',\n",
    " 'Session 5\\n',\n",
    " '10\\n',\n",
    " 'Session Five\\n',\n",
    " '200\\n',\n",
    " 'Session 76\\n',\n",
    " '75\\n',\n",
    " '123',\n",
    " 'CASE EXAMPLE\\n',\n",
    " 'Coping questions.\\n',\n",
    " 'Miracle question.\\n',\n",
    " 'Session 2\\n',\n",
    " 'Session 73\\n',\n",
    " 'Frank Thomas\\n',\n",
    " 'It’s weird.\\n',\n",
    " '95\\n',\n",
    " '[Pause.]\\n',\n",
    " 'Sessions 77-84\\n',\n",
    " 'or:\\n',\n",
    " 'Session 56\\n',\n",
    " '89\\n',\n",
    " 'Positive Goals\\n',\n",
    " 'SUBSEQUENT SESSIONS\\n',\n",
    " 'Session 4\\n',\n",
    " '16\\n',\n",
    " '9\\n',\n",
    " 'Scaling\\n',\n",
    " '14\\n',\n",
    " 'Session 34\\n',\n",
    " 'Chapter 5\\n',\n",
    " 'Compliments\\n',\n",
    " '77\\n',\n",
    " 'Chapter 4\\n',\n",
    " '29\\n',\n",
    " 'Session 3\\n',\n",
    " 'Specification:\\n',\n",
    " 'SPACING SESSIONS\\n',\n",
    " 'Eliciting:\\n',\n",
    " 'Pre-session change.\\n',\n",
    " '(Detailing)\\n',\n",
    " 'Intervention Prompts\\n',\n",
    " 'Example\\n',\n",
    " 'Compliments.\\n',\n",
    " '65\\n',\n",
    " 'Session Four\\n',\n",
    " '“What else?”\\n',\n",
    " '17\\n',\n",
    " 'Session Two\\n',\n",
    " 'Reinforcing:\\n',\n",
    " 'Session 25\\n',\n",
    " '(1991a: 181)\\n',\n",
    " 'EXERCISE\\n',\n",
    " 'Session One\\n',\n",
    " 'Chapter 2\\n',\n",
    " '35\\n',\n",
    " 'Chapter 9\\n',\n",
    " '(Miracle question)\\n',\n",
    " 'Session 24\\n',\n",
    " '31\\n',\n",
    " '(Compliments)\\n',\n",
    " '30\\n',\n",
    " 'Experiential exercise\\n',\n",
    " '62\\n',\n",
    " '* * *\\n',\n",
    " 'Session 66\\n',\n",
    " 'Session 33\\n',\n",
    " 'Sessions 67-70\\n',\n",
    " 'Example 2\\n',\n",
    " '4\\n',\n",
    " 'Summary\\n',\n",
    " 'Asking directly.\\n',\n",
    " 'Session Three\\n',\n",
    " 'Negative Goals\\n',\n",
    " '13\\n',\n",
    " 'Chapter 3\\n',\n",
    " 'Specific Interventions\\n',\n",
    " 'Session 57\\n',\n",
    " 'Case Examples\\n',\n",
    " 'Session 23\\n',\n",
    " 'Sessions 4-21\\n',\n",
    " 'Bridging Statement\\n',\n",
    " '11\\n',\n",
    " 'Amplifying:\\n']"
   ]
  },
  {
   "cell_type": "code",
   "execution_count": 310,
   "metadata": {},
   "outputs": [
    {
     "name": "stdout",
     "output_type": "stream",
     "text": [
      "['Gestalt Therapy', 'Rational Emotive Behavior Therapy', 'Unknown', 'Acceptance  Commitment Therapy', 'Solution-Focused Brief Therapy', 'Cognitive Behaviour Therapy']\n"
     ]
    }
   ],
   "source": [
    "methods=[]\n",
    "for i in files:\n",
    "    methods.append(source_method_mapping[i])\n",
    "print(list(set(methods)))\n"
   ]
  },
  {
   "cell_type": "code",
   "execution_count": 311,
   "metadata": {},
   "outputs": [],
   "source": [
    "chat_supporter_sig=regex.compile(r\"Therapist: .*\\n\")\n",
    "chat_participant_sig=regex.compile(r\"Client: .*\\n|^.{0,15}:.*\\n\")\n",
    "title_sig=regex.compile(r\"^###.*\\n\")\n",
    "stage_sig=regex.compile(r\"第一次会谈.*\\n|周期会谈.*\\n|早期会谈.*\\n|第一次会面.*\\n|周期会面.*\\n|早期会面.*\\n\")\n"
   ]
  },
  {
   "cell_type": "code",
   "execution_count": 312,
   "metadata": {},
   "outputs": [],
   "source": [
    "from email.message import EmailMessage\n",
    "\n",
    "def idata_main_process(idata:list,source_file:str,final_res:list):\n",
    "    dialog_list={'key':'fewshot','content':'','source':source_file,'method':source_method_mapping[source_file],'dialog':[]}\n",
    "    for idx,line in enumerate(idata):\n",
    "        if line==\"\\n\" or line==\"\\n\\t\" or len(line)<10 or len(line.split(\" \"))<2 or line in noisy:\n",
    "            continue\n",
    "        if chat_supporter_sig.findall(line): #咨询师\n",
    "            line=line[:-1] if line[-1]==\"\\n\" else line\n",
    "            dialog_list['dialog'].append({\"speaker\":\"supporter\",\"origin_text\":line})\n",
    "        elif chat_participant_sig.findall(line) and line.split(\":\")[0] in paricipant:# 其他人\n",
    "            line=line[:-1] if line[-1]==\"\\n\" else line\n",
    "            dialog_list['dialog'].append({\"speaker\":\"seeker\",\"origin_text\":line})\n",
    "        else:\n",
    "            if len(dialog_list['dialog'])>0:# 添加日常对话\n",
    "                final_res.append(dialog_list)\n",
    "            dialog_list={'key':'fewshot','content':'','source':source_file,'method':source_method_mapping[source_file],'dialog':[]}\n",
    "\n",
    "            entity={'key':'fewshot','content':'','source':source_file,'method':source_method_mapping[source_file]}\n",
    "            if title_sig.findall(line):# 作为文章的标题\n",
    "                entity['key']='title'\n",
    "                entity['content']=line[3:]\n",
    "            elif stage_sig.findall(line):# 找到宇华标注的序号\n",
    "                entity['key']='chat_stage'\n",
    "                entity['content']=line\n",
    "            elif len(line)>10 and len(line.split(\" \")) >2:# 作为 reasoning\n",
    "                entity['key']='reasoning'\n",
    "                entity['content']=line\n",
    "            else:\n",
    "                continue # 直接忽略的噪音\n",
    "            final_res.append(entity)\n",
    "    if dialog_list['dialog']:# 添加日常对话\n",
    "        final_res.append(dialog_list)\n",
    "# stage_sig=regex.compile(r\"第一次会面.*\\n|周期会面.*\\n\")\n",
    "# 非对话数据"
   ]
  },
  {
   "cell_type": "code",
   "execution_count": 299,
   "metadata": {},
   "outputs": [],
   "source": [
    "def print_participant(idata:list,parti_list:list):\n",
    "    for idx,line in enumerate(idata):\n",
    "        if chat_participant_sig.findall(line):\n",
    "            if chat_supporter_sig.findall(line): #咨询师\n",
    "                pass\n",
    "            elif len(line.split(\":\")[0])>3 in paricipant:# 其他人\n",
    "                parti_list.append(line.split(\":\")[0])\n",
    "    return parti_list\n"
   ]
  },
  {
   "cell_type": "code",
   "execution_count": 300,
   "metadata": {},
   "outputs": [],
   "source": [
    "noisy=[]\n",
    "mis_reason=[]\n",
    "def test_main_process(idata:str,source_file:str,final_res:list):\n",
    "    dialog_list={'key':'fewshot','content':'','source':source_file,'method':source_method_mapping[source_file],'dialog':[]}\n",
    "    for idx,line in enumerate(idata):\n",
    "        if chat_supporter_sig.findall(line): #咨询师\n",
    "            # print(\"咨询师\",line)\n",
    "            pass\n",
    "        elif chat_participant_sig.findall(line) and line.split(\":\")[0] in paricipant:# 其他人\n",
    "            print(\"来访者\",line)\n",
    "            \n",
    "        else:\n",
    "            if title_sig.findall(line):# 作为文章的标题\n",
    "                pass\n",
    "                # print('title',line)\n",
    "            elif stage_sig.findall(line):# 找到宇华标注的序号\n",
    "                # print('chat_stage',line)\n",
    "                pass\n",
    "            elif len(line)>10 and len(line.split(\" \")) >2:# 作为 reasoning\n",
    "                # print('reasoning',line)\n",
    "                if idx>0 and idx<len(idata) and chat_participant_sig.findall(idata[idx-1]):\n",
    "                    # print('reasoning可能有问题',line)\n",
    "                    mis_reason.append(line)\n",
    "            else:\n",
    "                # print(\"噪音\",line)\n",
    "                if idx>0 and idx+1<len(idata) and chat_participant_sig.findall(idata[idx+1]):\n",
    "                    pass # 不可忽略的噪音\n",
    "                noisy.append(line)\n",
    "                continue # 直接忽略的噪音\n"
   ]
  },
  {
   "cell_type": "code",
   "execution_count": 304,
   "metadata": {},
   "outputs": [],
   "source": []
  },
  {
   "cell_type": "code",
   "execution_count": 313,
   "metadata": {},
   "outputs": [
    {
     "name": "stdout",
     "output_type": "stream",
     "text": [
      "Cognitive Behaviour Therapy 100_signed.txt 701\n",
      "Doing Something Different Solution-Focused Brief Therapy Practices_signed.txt 199\n",
      "Acceptance  Commitment Therapy (ACT) 100_signed.txt 125\n",
      "Solution-Focused Brief Therapy with Families_signed.txt 701\n",
      "Solution-Focused Brief Therapy in Schools_signed.txt 772\n",
      "Solution focused brief therapy_100_signed.txt 549\n",
      "Brief Counseling That Works A Solution-Focused Therapy Approach for School Counselors_signed.txt 2360\n",
      "Doing Psychotherapy_signed.txt 2875\n",
      "Becoming Solution-Focused In Brief Therapy_signed.txt 2305\n",
      "Gestalt Therapy 100_signed.txt 55\n",
      "More than miracles_ the state of the art of solution-focused brief therapy_signed.txt 4699\n",
      "Rational Emotive Behavior Therapy 100_signed.txt 69\n"
     ]
    }
   ],
   "source": [
    "# parti_list=[]\n",
    "final_result=[]\n",
    "for f in files[:]:\n",
    "    file_position=input_path+\"/\"+f\n",
    "    ifile=open(file_position,\"r\",encoding='utf-8')\n",
    "    idata=ifile.readlines()\n",
    "    print(f,len(idata))\n",
    "    idata_main_process(idata,f,final_result)\n",
    "    # parti_list=print_participant(idata,parti_list)# 打印所有participant的称呼\n",
    "    # test_main_process(idata,f,final_result)\n",
    "# print(\"噪音\",list(set(noisy)))\n",
    "# print(\"错误 reasoning\",mis_reason)"
   ]
  },
  {
   "cell_type": "code",
   "execution_count": 323,
   "metadata": {},
   "outputs": [
    {
     "data": {
      "text/plain": [
       "2824"
      ]
     },
     "execution_count": 323,
     "metadata": {},
     "output_type": "execute_result"
    }
   ],
   "source": [
    "len(final_result)"
   ]
  },
  {
   "cell_type": "code",
   "execution_count": 324,
   "metadata": {},
   "outputs": [],
   "source": [
    "count=0\n",
    "for i in final_result:\n",
    "    if i['key']=='fewshot':\n",
    "        count+=len(i['dialog'])"
   ]
  },
  {
   "cell_type": "code",
   "execution_count": 325,
   "metadata": {},
   "outputs": [
    {
     "data": {
      "text/plain": [
       "6009"
      ]
     },
     "execution_count": 325,
     "metadata": {},
     "output_type": "execute_result"
    }
   ],
   "source": [
    "count"
   ]
  },
  {
   "cell_type": "code",
   "execution_count": 315,
   "metadata": {},
   "outputs": [],
   "source": [
    "import json\n",
    "# test=[{\"a\":\"b\"},{\"c\":\"d\"}]\n",
    "with open(\"/home/ckqsudo/code2024/0dataset/E-bed/English/z1_datastream_划分reasoning和对话/z2划分后的json文件/English_Dataset.json\",\"w\",encoding=\"utf-8\") as o_f:\n",
    "    # final_json=json.dumps(final_result)\n",
    "    # o_f.write(final_json,ensure_ascii=False)\n",
    "    json.dump(final_result,o_f,ensure_ascii=False)"
   ]
  },
  {
   "cell_type": "code",
   "execution_count": 201,
   "metadata": {},
   "outputs": [
    {
     "name": "stdout",
     "output_type": "stream",
     "text": [
      "['George', 'Mrs. D', 'Emma', 'Dan', 'Phil', 'Hamid', 'Paul', 'Mother', 'Fam', 'Daughter', 'Fancy', 'Eleanor', 'Bob', 'Korley', 'Shantel', 'Beth', 'Worker', 'Wife', 'Sara', 'Mn Arianes', 'Josie', 'Susan', 'Bry', 'Boy', 'Robert', 'Mr. Arianes', 'Mr. Arians', 'Parents', 'Jake', 'Sherri', 'Mac', 'Student 2', 'Young person', 'Father', 'Ms. Valdez', 'James', 'Cora', 'Jessica', 'Student', 'Tom', 'Shawn', 'Jasmine', 'Karen', 'Sandra', 'Miss Banks', 'Student 4', 'Anita', 'Scott', 'Jackie', 'Janet', 'Margaret', 'Marie', 'Student 3', 'Example', 'Carl', 'Mr. D', 'M’Lin', 'Both', 'Dick', 'Emily', 'Janine', 'Dorothy', 'Pete', 'Ms. Wilson', 'Resident', 'Sarah', 'Students', 'Brad', 'Client', 'All', 'Pedro', 'Ben and Paul', 'Student 1', 'Kasey', 'Mr. Smith', 'Victoria', 'Jamel', 'Christine', 'Ben']\n"
     ]
    }
   ],
   "source": [
    "print(list(set(parti_list)))"
   ]
  },
  {
   "cell_type": "code",
   "execution_count": 200,
   "metadata": {},
   "outputs": [
    {
     "data": {
      "text/plain": [
       "['8\\n',\n",
       " '(Task)\\n',\n",
       " 'Sessions 26-55\\n',\n",
       " '41\\n',\n",
       " 'Scaling questions.\\n',\n",
       " 'Laura,\\n',\n",
       " 'Example 1\\n',\n",
       " '\\t\\n',\n",
       " '(Summary statement)\\n',\n",
       " 'Session 1\\n',\n",
       " 'Session 6\\n',\n",
       " '40\\n',\n",
       " 'Solution-focused goals.\\n',\n",
       " 'Example 3\\n',\n",
       " 'Chapter 1\\n',\n",
       " 'or.\\n',\n",
       " '(1993: 29)\\n',\n",
       " '92\\n',\n",
       " 'Session 22\\n',\n",
       " 'Session 85\\n',\n",
       " '15\\n',\n",
       " 'Chapter 7\\n',\n",
       " '\\n',\n",
       " '(Scaling)\\n',\n",
       " 'Sessions 17-70\\n',\n",
       " '(Message)\\n',\n",
       " '12\\n',\n",
       " 'Exceptions elicitation:\\n',\n",
       " '20\\n',\n",
       " 'Becky\\n',\n",
       " 'Sessions 6-31\\n',\n",
       " 'Final Thoughts\\n',\n",
       " '26\\n',\n",
       " 'Session 32\\n',\n",
       " 'EARS\\n',\n",
       " '(Cheerleading)\\n',\n",
       " '(Mindmapping)\\n',\n",
       " '141\\n',\n",
       " ' \\n',\n",
       " '27\\n',\n",
       " 'Session 5\\n',\n",
       " '10\\n',\n",
       " 'Session Five\\n',\n",
       " '200\\n',\n",
       " 'Session 76\\n',\n",
       " '75\\n',\n",
       " '123',\n",
       " 'CASE EXAMPLE\\n',\n",
       " 'Coping questions.\\n',\n",
       " 'Miracle question.\\n',\n",
       " 'Session 2\\n',\n",
       " 'Session 73\\n',\n",
       " 'Frank Thomas\\n',\n",
       " 'It’s weird.\\n',\n",
       " '95\\n',\n",
       " '[Pause.]\\n',\n",
       " 'Sessions 77-84\\n',\n",
       " 'or:\\n',\n",
       " 'Session 56\\n',\n",
       " '89\\n',\n",
       " 'Positive Goals\\n',\n",
       " 'SUBSEQUENT SESSIONS\\n',\n",
       " 'Session 4\\n',\n",
       " '16\\n',\n",
       " '9\\n',\n",
       " 'Scaling\\n',\n",
       " '14\\n',\n",
       " 'Session 34\\n',\n",
       " 'Chapter 5\\n',\n",
       " 'Compliments\\n',\n",
       " '77\\n',\n",
       " 'Chapter 4\\n',\n",
       " '29\\n',\n",
       " 'Session 3\\n',\n",
       " 'Specification:\\n',\n",
       " 'SPACING SESSIONS\\n',\n",
       " 'Eliciting:\\n',\n",
       " 'Pre-session change.\\n',\n",
       " '(Detailing)\\n',\n",
       " 'Intervention Prompts\\n',\n",
       " 'Example\\n',\n",
       " 'Compliments.\\n',\n",
       " '65\\n',\n",
       " 'Session Four\\n',\n",
       " '“What else?”\\n',\n",
       " '17\\n',\n",
       " 'Session Two\\n',\n",
       " 'Reinforcing:\\n',\n",
       " 'Session 25\\n',\n",
       " '(1991a: 181)\\n',\n",
       " 'EXERCISE\\n',\n",
       " 'Session One\\n',\n",
       " 'Chapter 2\\n',\n",
       " '35\\n',\n",
       " 'Chapter 9\\n',\n",
       " '(Miracle question)\\n',\n",
       " 'Session 24\\n',\n",
       " '31\\n',\n",
       " '(Compliments)\\n',\n",
       " '30\\n',\n",
       " 'Experiential exercise\\n',\n",
       " '62\\n',\n",
       " '* * *\\n',\n",
       " 'Session 66\\n',\n",
       " 'Session 33\\n',\n",
       " 'Sessions 67-70\\n',\n",
       " 'Example 2\\n',\n",
       " '4\\n',\n",
       " 'Summary\\n',\n",
       " 'Asking directly.\\n',\n",
       " 'Session Three\\n',\n",
       " 'Negative Goals\\n',\n",
       " '13\\n',\n",
       " 'Chapter 3\\n',\n",
       " 'Specific Interventions\\n',\n",
       " 'Session 57\\n',\n",
       " 'Case Examples\\n',\n",
       " 'Session 23\\n',\n",
       " 'Sessions 4-21\\n',\n",
       " 'Bridging Statement\\n',\n",
       " '11\\n',\n",
       " 'Amplifying:\\n']"
      ]
     },
     "execution_count": 200,
     "metadata": {},
     "output_type": "execute_result"
    }
   ],
   "source": [
    "list(set(noisy))"
   ]
  }
 ],
 "metadata": {
  "kernelspec": {
   "display_name": "Python 3 (ipykernel)",
   "language": "python",
   "name": "python3"
  }
 },
 "nbformat": 4,
 "nbformat_minor": 2
}
