{
 "cells": [
  {
   "cell_type": "code",
   "execution_count": 1,
   "metadata": {},
   "outputs": [],
   "source": [
    "# import \n",
    "\"\"\" json.dumps(): 将 Python 对象编码成 JSON 字符串。 json.dump(): 将 Python 对象编码成 JSON 字符串，并写入到文件中。json.loads(): 将已编码的 JSON 字符串解码为 Python 对象。json.load(): 读取文件中的 JSON 编码的数据，并解码为 Python 对象。\n",
    "    \"\"\"\n",
    "import os\n",
    "import json\n",
    "import torch\n",
    "torch.cuda.is_available()\n",
    "def json_standard(input_object):\n",
    "    return json.dumps(input_object,ensure_ascii=False,indent=4)\n",
    "def read_file(file_path:str):\n",
    "    with open(file_path,\"r\",encoding=\"utf-8\") as i_f:\n",
    "        return json.load(i_f)\n",
    "def write_file(file_path:str,obj,overwrite=False):\n",
    "    if os.path.exists(file_path)==False or overwrite==True:\n",
    "        with open(file_path,\"w\",encoding=\"utf-8\") as o_f:\n",
    "            json.dump(obj,o_f,ensure_ascii=False)\n",
    "        print(f\"写入{file_path}\")\n",
    "    else:\n",
    "        print(f\"{file_path}文件已经存在\")\n",
    "def check_file(file_path:str):\n",
    "    \"\"\"返回该路径下是否存在文件\"\"\"\n",
    "    is_exist=os.path.exists(file_path)\n",
    "    if is_exist:\n",
    "        file_name=file_path.split(\"/\")[-1]\n",
    "        print(f\"{file_name} exist\")\n",
    "    return is_exist\n",
    "import torch\n",
    "import json\n",
    "from transformers import (AutoTokenizer)\n",
    "model_id=\"/home/ckqsudo/code2024/0model/Mistral-7B-Instruct-v0.2\"\n",
    "tokenizer=AutoTokenizer.from_pretrained(model_id)\n",
    "# 这里不设置 trust_remote_code也行\n",
    "# tokenizer.padding_size='right'#填充符的位置"
   ]
  },
  {
   "cell_type": "code",
   "execution_count": null,
   "metadata": {},
   "outputs": [],
   "source": []
  },
  {
   "cell_type": "code",
   "execution_count": 35,
   "metadata": {},
   "outputs": [],
   "source": []
  },
  {
   "cell_type": "code",
   "execution_count": 42,
   "metadata": {},
   "outputs": [
    {
     "data": {
      "text/plain": [
       "520"
      ]
     },
     "execution_count": 42,
     "metadata": {},
     "output_type": "execute_result"
    }
   ],
   "source": [
    "len(en_processed_data)"
   ]
  },
  {
   "cell_type": "code",
   "execution_count": 41,
   "metadata": {},
   "outputs": [
    {
     "data": {
      "text/plain": [
       "{'theme': 'cognitive behaviour therapy: exploring implicit meanings in client communication and the importance of uncovering unexpressed meanings in therapy.',\n",
       " 'is_same_qa': 1,\n",
       " 'is_same_case': 1,\n",
       " 'background': 'Therapist encourages client to explore implicit meanings in self-critical thoughts, aiming to uncover deeper beliefs and emotions.',\n",
       " 'pre_reasoning': 'Encouraging the client to answer his own question will help to make explicit the meaning implied by the question. Beck et al. stress the importance of ascertaining the meanings in clients’ communications. The totality of the meaning of the patient’s experience is crucial. At times, the meanings people give to a situation may not be fully formulated but rather will have to be drawn out by the therapist … by relying exclusively on the immediate raw data of the automatic thoughts, the therapist misses the crucial – but unexpressed – meaning. The meaning of the client’s last automatic thought is now ascertained by the therapist.',\n",
       " 'topic_dialog': {'key': 'fewshot',\n",
       "  'unit_id': 3,\n",
       "  'method': 'Cognitive Behaviour Therapy',\n",
       "  'dialog': [{'id': '3-0',\n",
       "    'participant': 'Therapist',\n",
       "    'text': 'What’s your answer to your own question?',\n",
       "    'reasoning': 'Therapist prompts the client to reflect on and articulate their own thoughts, aiming to uncover underlying meanings and beliefs.',\n",
       "    'strategy': '{\\n    \"strategy\": [\"Question\"]\\n}'},\n",
       "   {'id': '3-1',\n",
       "    'participant': 'Client',\n",
       "    'text': 'I don’t have the guts to succeed. I’ll never amount to anything important in life. My life is an endless catalogue of missed opportunities.',\n",
       "    'observation': 'Client expresses feelings of inadequacy, hopelessness, and regret, accompanied by tearfulness and physical signs of distress.'}]},\n",
       " 'post_reasoning': \"The client’s response contains 'hot thoughts' that are closely linked to emotions and drive the emotional intensity. These thoughts are crucial in CBT for modification. Therapists focus on identifying and addressing these 'hot' automatic thoughts to understand the client's emotional reactions effectively. Encouraging clients to vividly imagine problematic situations can expedite the discovery of these 'hot' automatic thoughts. Asking clients about the worst possible outcomes can be an effective technique to elicit and address negative automatic thoughts, especially when they involve highly distorted future events. This approach can help clients develop adaptive responses and challenge catastrophic thinking patterns, as demonstrated in a scenario where a client with performance anxiety is prompted to consider the worst-case scenario.\"}"
      ]
     },
     "execution_count": 41,
     "metadata": {},
     "output_type": "execute_result"
    }
   ],
   "source": [
    "en_processed_data[3]"
   ]
  },
  {
   "cell_type": "code",
   "execution_count": 6,
   "metadata": {},
   "outputs": [
    {
     "name": "stdout",
     "output_type": "stream",
     "text": [
      "Looking in indexes: http://mirrors.aliyun.com/pypi/simple/\n",
      "Requirement already satisfied: jieba in /home/ckqsudo/sys_tool/miniconda/tmp/yes/envs/trl/lib/python3.9/site-packages (0.42.1)\n"
     ]
    }
   ],
   "source": [
    "!pip install jieba\n",
    "# !Y"
   ]
  },
  {
   "cell_type": "code",
   "execution_count": 1,
   "metadata": {},
   "outputs": [
    {
     "name": "stderr",
     "output_type": "stream",
     "text": [
      "[nltk_data] Downloading package wordnet to /home/ckqsudo/nltk_data...\n"
     ]
    },
    {
     "data": {
      "text/plain": [
       "True"
      ]
     },
     "execution_count": 1,
     "metadata": {},
     "output_type": "execute_result"
    }
   ],
   "source": [
    "import nltk\n",
    "nltk.set_proxy('http://127.0.0.1:11137')\n",
    "# import nltk\n",
    "nltk.download('wordnet')"
   ]
  },
  {
   "cell_type": "code",
   "execution_count": 40,
   "metadata": {},
   "outputs": [
    {
     "name": "stderr",
     "output_type": "stream",
     "text": [
      "Building prefix dict from the default dictionary ...\n",
      "Loading model from cache /tmp/jieba.cache\n",
      "Loading model cost 0.690 seconds.\n",
      "Prefix dict has been built successfully.\n"
     ]
    },
    {
     "data": {
      "text/plain": [
       "['Hi',\n",
       " ',',\n",
       " ' ',\n",
       " '',\n",
       " 'my',\n",
       " '',\n",
       " ' ',\n",
       " '',\n",
       " 'name',\n",
       " '',\n",
       " ' ',\n",
       " '',\n",
       " 'is',\n",
       " '',\n",
       " ' ',\n",
       " '',\n",
       " 'keqi']"
      ]
     },
     "execution_count": 40,
     "metadata": {},
     "output_type": "execute_result"
    }
   ],
   "source": [
    "import jieba\n",
    "list(jieba.cut(\"Hi, my name is keqi\", cut_all=True))"
   ]
  },
  {
   "cell_type": "code",
   "execution_count": 39,
   "metadata": {},
   "outputs": [
    {
     "data": {
      "text/plain": [
       "dict_keys(['key', 'unit_id', 'method', 'dialog'])"
      ]
     },
     "execution_count": 39,
     "metadata": {},
     "output_type": "execute_result"
    }
   ],
   "source": [
    "en_processed_data[0][\"topic_dialog\"].keys()"
   ]
  },
  {
   "cell_type": "code",
   "execution_count": 43,
   "metadata": {},
   "outputs": [
    {
     "data": {
      "text/plain": [
       "({'T': 3097, 'C': 3111},\n",
       " {'T': 5291, 'C': 5307},\n",
       " {'T': 63859, 'C': 63709},\n",
       " 520,\n",
       " 3091,\n",
       " 3060,\n",
       " 0)"
      ]
     },
     "execution_count": 43,
     "metadata": {},
     "output_type": "execute_result"
    }
   ],
   "source": [
    "from nltk.tokenize import sent_tokenize,word_tokenize\n",
    "import jieba\n",
    "\n",
    "def sentence_token_nltk(str):\n",
    "    sent_tokenize_list = sent_tokenize(str)\n",
    "    return sent_tokenize_list\n",
    "def word_split_jieba(str):\n",
    "    word_list = word_tokenize(str)\n",
    "    return word_list\n",
    "topic_counter=0\n",
    "case_counter=0\n",
    "dialog_counter={\"T\":0,\"C\":0}\n",
    "sentence_counter={\"T\":0,\"C\":0}\n",
    "word_counter={\"T\":0,\"C\":0}\n",
    "reasoning_counter=0\n",
    "observation_counter=0\n",
    "summary_utterence_counter=0\n",
    "\n",
    "dialog_people_counter={}\n",
    "check_utterence=[]\n",
    "check_dialog=[]\n",
    "check_psychotherapy=[]\n",
    "\n",
    "topid_dialog_method_list=[]\n",
    "theme_word_list=[]\n",
    "for topic_dialog in en_processed_data:\n",
    "    participant_dict={}\n",
    "    check_dialog.append(len(topic_dialog[\"topic_dialog\"][\"dialog\"]))\n",
    "    topid_dialog_method_list.append(topic_dialog[\"topic_dialog\"][\"method\"])\n",
    "    topic_counter+=1\n",
    "    if topic_dialog[\"is_same_case\"]!=1 and topic_dialog[\"is_same_qa\"]!=1:\n",
    "        case_counter+=1\n",
    "        # check_psychotherapy.append()\n",
    "    for dialog_item in topic_dialog[\"topic_dialog\"][\"dialog\"]:\n",
    "        utterence_cnt=len(sentence_token_nltk(dialog_item[\"text\"]))\n",
    "        word_cnt=len(word_split_jieba(dialog_item[\"text\"]))\n",
    "        if 'Therapist' in dialog_item['participant']:\n",
    "            dialog_counter['T']+=1\n",
    "            sentence_counter['T']+=utterence_cnt\n",
    "            check_utterence.append(utterence_cnt)\n",
    "            if 'reasoning' in dialog_item.keys() and dialog_item['reasoning']!=\"\":\n",
    "                reasoning_counter+=1\n",
    "            word_counter['T']+=word_cnt\n",
    "        else:\n",
    "            dialog_counter['C']+=1\n",
    "            sentence_counter['C']+=utterence_cnt\n",
    "            if 'observation' in dialog_item.keys() and dialog_item['observation']!=\"\":\n",
    "                observation_counter+=1\n",
    "            word_counter['C']+=word_cnt\n",
    "dialog_counter,sentence_counter,word_counter,topic_counter,reasoning_counter,observation_counter,summary_utterence_counter"
   ]
  },
  {
   "cell_type": "code",
   "execution_count": 44,
   "metadata": {},
   "outputs": [
    {
     "data": {
      "text/plain": [
       "1.7071520618556701"
      ]
     },
     "execution_count": 44,
     "metadata": {},
     "output_type": "execute_result"
    }
   ],
   "source": [
    "(5291+5307)/(3097+3111\n",
    "             )"
   ]
  },
  {
   "cell_type": "code",
   "execution_count": 33,
   "metadata": {},
   "outputs": [
    {
     "name": "stdout",
     "output_type": "stream",
     "text": [
      "77.01 & 38.81 & 38.2\n"
     ]
    }
   ],
   "source": [
    "def div_a_b(a,b):\n",
    "    print(a_t=a['T']+a['C'])\n",
    "    res=[round(a_t/b,2),round(a['T']/b,2),round(a['C']/b,2)]\n",
    "    print(\" & \".join([str(i) for i in res]))\n",
    "div_a_b(dialog_counter,75)\n"
   ]
  },
  {
   "cell_type": "code",
   "execution_count": 34,
   "metadata": {},
   "outputs": [
    {
     "data": {
      "text/plain": [
       "1.443833734111989"
      ]
     },
     "execution_count": 34,
     "metadata": {},
     "output_type": "execute_result"
    }
   ],
   "source": [
    "4203/2911\n"
   ]
  },
  {
   "cell_type": "code",
   "execution_count": 26,
   "metadata": {},
   "outputs": [],
   "source": [
    "utt=dialog_counter['T']+dialog_counter['C']"
   ]
  },
  {
   "cell_type": "code",
   "execution_count": 27,
   "metadata": {},
   "outputs": [
    {
     "data": {
      "text/plain": [
       "5776"
      ]
     },
     "execution_count": 27,
     "metadata": {},
     "output_type": "execute_result"
    }
   ],
   "source": [
    "utt"
   ]
  },
  {
   "cell_type": "code",
   "execution_count": 65,
   "metadata": {},
   "outputs": [
    {
     "data": {
      "text/plain": [
       "(1.713060057197331, 1.7292922881624881)"
      ]
     },
     "execution_count": 65,
     "metadata": {},
     "output_type": "execute_result"
    }
   ],
   "source": [
    "5391/3147,5449/3151"
   ]
  },
  {
   "cell_type": "code",
   "execution_count": 18,
   "metadata": {},
   "outputs": [
    {
     "data": {
      "text/plain": [
       "(3061, 3090)"
      ]
     },
     "execution_count": 18,
     "metadata": {},
     "output_type": "execute_result"
    }
   ],
   "source": [
    "observation_counter,reasoning_counter"
   ]
  },
  {
   "cell_type": "code",
   "execution_count": 58,
   "metadata": {},
   "outputs": [
    {
     "data": {
      "text/plain": [
       "6298"
      ]
     },
     "execution_count": 58,
     "metadata": {},
     "output_type": "execute_result"
    }
   ],
   "source": [
    "3147+3151\n"
   ]
  },
  {
   "cell_type": "code",
   "execution_count": 59,
   "metadata": {},
   "outputs": [
    {
     "data": {
      "text/plain": [
       "(20.724817286304418, 20.916851793081563, 20.82089552238806)"
      ]
     },
     "execution_count": 59,
     "metadata": {},
     "output_type": "execute_result"
    }
   ],
   "source": [
    "65221/3147, 65909/3151,(65221+65909)/6298"
   ]
  },
  {
   "cell_type": "code",
   "execution_count": null,
   "metadata": {},
   "outputs": [],
   "source": []
  },
  {
   "cell_type": "code",
   "execution_count": 14,
   "metadata": {},
   "outputs": [
    {
     "data": {
      "text/plain": [
       "(Counter({1: 1879,\n",
       "          2: 732,\n",
       "          3: 315,\n",
       "          4: 112,\n",
       "          5: 61,\n",
       "          6: 22,\n",
       "          7: 11,\n",
       "          8: 7,\n",
       "          9: 2,\n",
       "          10: 2,\n",
       "          11: 2,\n",
       "          12: 1,\n",
       "          13: 1}),\n",
       " Counter({2: 60,\n",
       "          4: 57,\n",
       "          6: 42,\n",
       "          10: 41,\n",
       "          3: 31,\n",
       "          5: 28,\n",
       "          8: 28,\n",
       "          7: 25,\n",
       "          12: 25,\n",
       "          9: 19,\n",
       "          11: 18,\n",
       "          13: 17,\n",
       "          15: 12,\n",
       "          16: 10,\n",
       "          14: 8,\n",
       "          17: 8,\n",
       "          26: 6,\n",
       "          22: 6,\n",
       "          24: 6,\n",
       "          19: 6,\n",
       "          30: 6,\n",
       "          20: 5,\n",
       "          27: 5,\n",
       "          18: 5,\n",
       "          29: 4,\n",
       "          21: 4,\n",
       "          33: 3,\n",
       "          54: 3,\n",
       "          23: 3,\n",
       "          31: 3,\n",
       "          39: 2,\n",
       "          80: 2,\n",
       "          35: 2,\n",
       "          32: 2,\n",
       "          34: 2,\n",
       "          40: 2,\n",
       "          67: 1,\n",
       "          59: 1,\n",
       "          64: 1,\n",
       "          194: 1,\n",
       "          45: 1,\n",
       "          25: 1,\n",
       "          73: 1,\n",
       "          42: 1,\n",
       "          79: 1,\n",
       "          48: 1,\n",
       "          136: 1,\n",
       "          52: 1,\n",
       "          72: 1,\n",
       "          28: 1}),\n",
       " Counter({'Solution-Focused Brief Therapy': 350,\n",
       "          'Psychoanalytic Therapy': 44,\n",
       "          'Cognitive Behaviour Therapy': 40,\n",
       "          'Client-Centered Therapy': 22,\n",
       "          'Adlerian Therapy': 16,\n",
       "          'Family Therapy': 10,\n",
       "          'Acceptance Commitment Therapy': 8,\n",
       "          'Marriage and Family Systems Therapy': 8,\n",
       "          'Rational Emotive Behavior Therapy': 8,\n",
       "          'Gestalt Therapy': 5,\n",
       "          'Reality Therapy': 4,\n",
       "          'Postmodern Therapy': 3,\n",
       "          'Existential Therapy': 2}),\n",
       " 232,\n",
       " 520)"
      ]
     },
     "execution_count": 14,
     "metadata": {},
     "output_type": "execute_result"
    }
   ],
   "source": [
    "from collections import Counter\n",
    "Counter(check_utterence),Counter(check_dialog),Counter(topid_dialog_method_list),case_counter,topic_counter"
   ]
  },
  {
   "cell_type": "code",
   "execution_count": 15,
   "metadata": {},
   "outputs": [
    {
     "name": "stdout",
     "output_type": "stream",
     "text": [
      "a b\n"
     ]
    }
   ],
   "source": [
    "items={\"a\":\"b\"}\n",
    "for i,v in items.items():\n",
    "    print(i,v)"
   ]
  },
  {
   "cell_type": "code",
   "execution_count": 19,
   "metadata": {},
   "outputs": [
    {
     "data": {
      "text/plain": [
       "{'Cognitive Behaviour Therapy': 40,\n",
       " 'Solution-Focused Brief Therapy': 350,\n",
       " 'Acceptance Commitment Therapy': 8,\n",
       " 'Marriage and Family Systems Therapy': 8,\n",
       " 'Client-Centered Therapy': 22,\n",
       " 'Reality Therapy': 4,\n",
       " 'Family Therapy': 10,\n",
       " 'Adlerian Therapy': 16,\n",
       " 'Existential Therapy': 2,\n",
       " 'Psychoanalytic Therapy': 44,\n",
       " 'Rational Emotive Behavior Therapy': 8,\n",
       " 'Postmodern Therapy': 3,\n",
       " 'Gestalt Therapy': 5}"
      ]
     },
     "execution_count": 19,
     "metadata": {},
     "output_type": "execute_result"
    }
   ],
   "source": [
    "dict(Counter(topid_dialog_method_list))"
   ]
  },
  {
   "cell_type": "code",
   "execution_count": 22,
   "metadata": {},
   "outputs": [
    {
     "data": {
      "text/plain": [
       "[['Cognitive Behaviour Therapy', 40, '7.7%'],\n",
       " ['Solution-Focused Brief Therapy', 350, '67.3%'],\n",
       " ['Acceptance Commitment Therapy', 8, '1.5%'],\n",
       " ['Marriage and Family Systems Therapy', 8, '1.5%'],\n",
       " ['Client-Centered Therapy', 22, '4.2%'],\n",
       " ['Reality Therapy', 4, '0.8%'],\n",
       " ['Family Therapy', 10, '1.9%'],\n",
       " ['Adlerian Therapy', 16, '3.1%'],\n",
       " ['Existential Therapy', 2, '0.4%'],\n",
       " ['Psychoanalytic Therapy', 44, '8.5%'],\n",
       " ['Rational Emotive Behavior Therapy', 8, '1.5%'],\n",
       " ['Postmodern Therapy', 3, '0.6%'],\n",
       " ['Gestalt Therapy', 5, '1.0%']]"
      ]
     },
     "execution_count": 22,
     "metadata": {},
     "output_type": "execute_result"
    }
   ],
   "source": [
    "def print_c_num_proportion(d:dict):\n",
    "    total_num=sum(d.values())\n",
    "    result=[[item,value,str(round(100*value/total_num,1))+\"%\"] for item,value in d.items()]\n",
    "    return result\n",
    "print_c_num_proportion(dict(Counter(topid_dialog_method_list)))"
   ]
  },
  {
   "cell_type": "code",
   "execution_count": null,
   "metadata": {},
   "outputs": [],
   "source": [
    "\n",
    "print_c_num_proportion(dict(Counter(topid_dialog_method_list)))"
   ]
  },
  {
   "cell_type": "markdown",
   "metadata": {},
   "source": []
  },
  {
   "cell_type": "code",
   "execution_count": 31,
   "metadata": {},
   "outputs": [
    {
     "data": {
      "text/plain": [
       "{'theme': 'cognitive behaviour therapy: exploring self-perception, performance evaluation, and challenging cognitive distortions in therapy sessions.',\n",
       " 'is_same_qa': 0,\n",
       " 'is_same_case': 0,\n",
       " 'background': 'A client struggles with feelings of failure after manuscript rejection.',\n",
       " 'pre_reasoning': 'The client chose ‘a good performance and I suppose that’s why it was reasonably successful’; however, she still wondered if there were some ‘fluky elements’ involved in the success of the workshop and therefore the therapist suggested she run several more workshops over the next several months in order to collect data on her performance to resolve this issue: ‘Do I have real skill or was the success of that first workshop sheer luck?’ This process concentrates clients’ minds on the imprecision of their language in describing themselves or their problems. For example, a client whose manuscript was rejected by a publisher stated: ‘Because they didn’t want it, this makes me a failure.’',\n",
       " 'topic_dialog': {'key': 'fewshot',\n",
       "  'unit_id': 14,\n",
       "  'method': 'Cognitive Behaviour Therapy',\n",
       "  'dialog': [{'id': '14-0',\n",
       "    'participant': 'Therapist',\n",
       "    'text': ' When you say you’re a failure because the publisher rejected your manuscript, do you mean a failure as an author, man, person?',\n",
       "    'reasoning': \"Therapist aims to clarify client's self-perception.\"},\n",
       "   {'id': '14-1',\n",
       "    'participant': 'Client',\n",
       "    'text': ' As an author.',\n",
       "    'observation': ''},\n",
       "   {'id': '14-2',\n",
       "    'participant': 'Therapist',\n",
       "    'text': ' How does rejection by a particular publisher make you a failure as an author?',\n",
       "    'reasoning': \"Therapist challenges client's self-labeling.\"},\n",
       "   {'id': '14-3',\n",
       "    'participant': 'Client',\n",
       "    'text': ' Well, it feels like it.',\n",
       "    'observation': 'Client expresses emotional response'},\n",
       "   {'id': '14-4',\n",
       "    'participant': 'Therapist',\n",
       "    'text': ' Well, as we’ve discussed previously, feelings are not facts or a higher form of truth. If you are genuinely a failure as an author then you had better not waste any more time on a hopeless cause. Now, when will all the evidence be in about whether you’re a failure as an author?',\n",
       "    'reasoning': \"Therapist challenges client's self-perception based on facts.\"},\n",
       "   {'id': '14-5',\n",
       "    'participant': 'Client',\n",
       "    'text': ' Some years from now. I shouldn’t decide on the basis of one rejection.',\n",
       "    'observation': 'Client shows resilience'},\n",
       "   {'id': '14-6',\n",
       "    'participant': 'Therapist',\n",
       "    'text': ' So what would be an accurate description of your current situation?',\n",
       "    'reasoning': 'Therapist guides client to reframe self-perception.'},\n",
       "   {'id': '14-7',\n",
       "    'participant': 'Client',\n",
       "    'text': ' I’ve failed to impress one publisher with my manuscript but that doesn’t mean I’m a failure as an author.',\n",
       "    'observation': ''},\n",
       "   {'id': '14-8',\n",
       "    'participant': 'Therapist',\n",
       "    'text': ' What does it mean then?',\n",
       "    'reasoning': 'Therapist encourages client to redefine self-concept.'},\n",
       "   {'id': '14-9',\n",
       "    'participant': 'Client',\n",
       "    'text': ' That I’m a struggling author who needs to keep on struggling if I hope to make my mark in the literary world. It’s going to be some struggle though.',\n",
       "    'observation': 'Client acknowledges the challenges ahead'}]},\n",
       " 'post_reasoning': 'Some clients might complain that defining terms is just semantic games but, in fact, it has a very serious purpose. Using words like ‘failure’, ‘useless’, ‘worthless’ or ‘no good’ to define oneself are not only dangerous overgeneralizations but are hopelessly inadequate and inaccurate in capturing the complexity and uniqueness of the self. Semantic precision helps clients to be clear and accurate about events and what can be done about them instead of focusing on what they believe they are which will prevent them learning from their mistakes and restricting their self-development. The therapist needs to keep clients on their toes by asking them to define their terms instead of letting them assume the meaning of the terms is mutually understood and agreed. However, it is important that therapists do not become ‘meaning maniacs’, i.e. asking their clients what they mean by the terms that they use and then asking for the meaning of the new terms that the clients use to explain the old terms … and so on as this will develop into an infinite regress of meaning about meaning. This process will exhaust both therapist and client without reaching any helpful conclusions about which terms are meaningful in discussing problems and which are meaningless. Defining terms is not an end in itself: it is a means of establishing semantic clarity so that a more informed discussion of these terms can be undertaken.'}"
      ]
     },
     "execution_count": 31,
     "metadata": {},
     "output_type": "execute_result"
    }
   ],
   "source": [
    "en_processed_data[13]"
   ]
  },
  {
   "cell_type": "code",
   "execution_count": 16,
   "metadata": {},
   "outputs": [
    {
     "data": {
      "text/plain": [
       "['Hi, my name is keqi chen.', 'how are you?']"
      ]
     },
     "execution_count": 16,
     "metadata": {},
     "output_type": "execute_result"
    }
   ],
   "source": [
    "sentence_token_nltk(\"Hi, my name is keqi chen. how are you?\")"
   ]
  },
  {
   "cell_type": "code",
   "execution_count": null,
   "metadata": {},
   "outputs": [],
   "source": [
    "### Psycho therapist 的统计\n",
    "### \n",
    "\n",
    "# 只统计英文的 这个可以将中文的英文分开，然后画图？\n"
   ]
  }
 ],
 "metadata": {
  "kernelspec": {
   "display_name": "trl",
   "language": "python",
   "name": "python3"
  },
  "language_info": {
   "codemirror_mode": {
    "name": "ipython",
    "version": 3
   },
   "file_extension": ".py",
   "mimetype": "text/x-python",
   "name": "python",
   "nbconvert_exporter": "python",
   "pygments_lexer": "ipython3",
   "version": "3.9.0"
  }
 },
 "nbformat": 4,
 "nbformat_minor": 2
}
