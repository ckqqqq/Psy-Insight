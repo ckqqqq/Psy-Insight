{
 "cells": [
  {
   "cell_type": "code",
   "execution_count": 5,
   "metadata": {},
   "outputs": [
    {
     "name": "stdout",
     "output_type": "stream",
     "text": [
      "0.7261457550713748\n"
     ]
    }
   ],
   "source": [
    "import jieba\n",
    "from nltk.translate.meteor_score import meteor_score\n",
    "\n",
    "reference = \"on the mat sat the cat\"\n",
    "candidate = \"the cat sat on the mat\"\n",
    "\n",
    "reference_tokens = list(jieba.cut(reference))\n",
    "candidate_tokens = list(jieba.cut(candidate))\n",
    "\n",
    "meteor = meteor_score([reference_tokens], candidate_tokens)\n",
    "print(meteor) # 0.7261457550713748\n",
    "\n"
   ]
  }
 ],
 "metadata": {
  "kernelspec": {
   "display_name": "trl",
   "language": "python",
   "name": "python3"
  },
  "language_info": {
   "codemirror_mode": {
    "name": "ipython",
    "version": 3
   },
   "file_extension": ".py",
   "mimetype": "text/x-python",
   "name": "python",
   "nbconvert_exporter": "python",
   "pygments_lexer": "ipython3",
   "version": "3.9.0"
  }
 },
 "nbformat": 4,
 "nbformat_minor": 2
}
