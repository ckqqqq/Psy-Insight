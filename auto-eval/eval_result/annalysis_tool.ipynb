{
 "cells": [
  {
   "cell_type": "code",
   "execution_count": 1,
   "metadata": {},
   "outputs": [],
   "source": [
    "\"\"\" json.dumps(): 将 Python 对象编码成 JSON 字符串。 json.dump(): 将 Python 对象编码成 JSON 字符串，并写入到文件中。json.loads(): 将已编码的 JSON 字符串解码为 Python 对象。json.load(): 读取文件中的 JSON 编码的数据，并解码为 Python 对象。\n",
    "    \"\"\"\n",
    "import os\n",
    "import json\n",
    "def json_standard(input_object):\n",
    "    # print(input_object,type(input_object))\n",
    "    return json.dumps(input_object,ensure_ascii=False,indent=4)\n",
    "def read_file(file_path:str):\n",
    "    with open(file_path,\"r\",encoding=\"utf-8\") as i_f:\n",
    "        return json.load(i_f)\n",
    "def write_file(file_path:str,obj,overwrite=False):\n",
    "    if os.path.exists(file_path)==False or overwrite==True:\n",
    "        with open(file_path,\"w\",encoding=\"utf-8\") as o_f:\n",
    "            json.dump(obj,o_f,ensure_ascii=False)\n",
    "        print(f\"写入{file_path}\")\n",
    "    else:\n",
    "        print(f\"{file_path}文件已经存在\")\n",
    "def write_jsonl_file(file_path:str,obj,overwrite=False):\n",
    "    if os.path.exists(file_path)==False or overwrite==True:\n",
    "        with open(file_path, \"w\", encoding=\"utf-8\") as file:\n",
    "            for item in obj:\n",
    "                json.dump(item, file, ensure_ascii=False)  # ensure_ascii=False以支持中文字符\n",
    "                file.write(\"\\n\")  # 写入换行符分隔每个JSON对象\n",
    "        print(f\"写入{file_path}\")\n",
    "    else:\n",
    "        print(f\"{file_path}文件已经存在\")\n",
    "def read_jsonl_file(file_path:str)->list:\n",
    "    result=[]\n",
    "    with open(file_path, \"r\", encoding=\"utf-8\") as file:\n",
    "        for item in file.readlines():\n",
    "            item=json.loads(item.strip())  # ensure_ascii=False\n",
    "            result.append(item)\n",
    "    return result\n",
    "def check_file(file_path:str):\n",
    "    \"\"\"返回该路径下是否存在文件\"\"\"\n",
    "    is_exist=os.path.exists(file_path)\n",
    "    if is_exist:\n",
    "        file_name=file_path.split(\"/\")[-1]\n",
    "        print(f\"{file_name} exist\")\n",
    "    return is_exist"
   ]
  },
  {
   "cell_type": "code",
   "execution_count": 2,
   "metadata": {},
   "outputs": [],
   "source": [
    "import os\n",
    "eval_path=\"/home/ckqsudo/code2024/Mistral-7b-finetune/metrics/nlg-metrics/keqi_evaluation/keqi_eval_result\"\n",
    "output_list=[i for i in os.listdir(eval_path) if \"mean\" in i]"
   ]
  },
  {
   "cell_type": "code",
   "execution_count": 3,
   "metadata": {},
   "outputs": [
    {
     "data": {
      "text/plain": [
       "['6_11-mistral_eval_base_3_not_explore.json_mean_6_11_.json',\n",
       " '6_11-mistral_eval_mix_3_not_explore-simple.json_mean_6_11_.json',\n",
       " '6_11-mistral_eval_o_r_d_v2.json_mean_6_11_.json',\n",
       " '6_11-mistral_eval_mix_6_12_version_3.json_mean_6_11_.json',\n",
       " '6_11-gpt_observation_reasoning.json_mean_6_11_.json',\n",
       " '6_11-gpt_reasoning_clear.json_mean_6_11_.json',\n",
       " '6_11-gpt_base.json_mean_6_11_.json',\n",
       " '6_11-gpt_result_6_4_for_eval.json_mean_6_11_.json',\n",
       " '6_11-mistral_eval_d_3.json_mean_6_11_.json',\n",
       " '6_11-mistral_eval_mix_6_12_version_2.json_mean_6_11_.json',\n",
       " '6_11-mistral_eval_base_3.json_mean_6_11_.json',\n",
       " '6_11-mistral_eval_mix_4_6_12_explore.json_mean_6_11_.json',\n",
       " '6_11-mistral_eval_d_4_not_explore.json_mean_6_11_.json',\n",
       " '6_11-mistral_eval_r_d_v2.json_mean_6_11_.json']"
      ]
     },
     "execution_count": 3,
     "metadata": {},
     "output_type": "execute_result"
    }
   ],
   "source": [
    "output_list"
   ]
  },
  {
   "cell_type": "code",
   "execution_count": 4,
   "metadata": {},
   "outputs": [],
   "source": [
    "gpt_res=[item for item in output_list if \"gpt\" in item]\n",
    "mistral_res=[item for item in output_list if \"mistral\" in item]"
   ]
  },
  {
   "cell_type": "code",
   "execution_count": 5,
   "metadata": {},
   "outputs": [
    {
     "data": {
      "text/plain": [
       "(['6_11-gpt_observation_reasoning.json_mean_6_11_.json',\n",
       "  '6_11-gpt_reasoning_clear.json_mean_6_11_.json',\n",
       "  '6_11-gpt_base.json_mean_6_11_.json',\n",
       "  '6_11-gpt_result_6_4_for_eval.json_mean_6_11_.json'],\n",
       " ['6_11-mistral_eval_base_3_not_explore.json_mean_6_11_.json',\n",
       "  '6_11-mistral_eval_mix_3_not_explore-simple.json_mean_6_11_.json',\n",
       "  '6_11-mistral_eval_o_r_d_v2.json_mean_6_11_.json',\n",
       "  '6_11-mistral_eval_mix_6_12_version_3.json_mean_6_11_.json',\n",
       "  '6_11-mistral_eval_d_3.json_mean_6_11_.json',\n",
       "  '6_11-mistral_eval_mix_6_12_version_2.json_mean_6_11_.json',\n",
       "  '6_11-mistral_eval_base_3.json_mean_6_11_.json',\n",
       "  '6_11-mistral_eval_mix_4_6_12_explore.json_mean_6_11_.json',\n",
       "  '6_11-mistral_eval_d_4_not_explore.json_mean_6_11_.json',\n",
       "  '6_11-mistral_eval_r_d_v2.json_mean_6_11_.json'])"
      ]
     },
     "execution_count": 5,
     "metadata": {},
     "output_type": "execute_result"
    }
   ],
   "source": [
    "gpt_res,mistral_res"
   ]
  },
  {
   "cell_type": "code",
   "execution_count": 6,
   "metadata": {},
   "outputs": [],
   "source": [
    "gpt_dict={'gpt_base': '6_11-gpt_base.json_mean_6_11_.json', 'gpt_d': '6_11-gpt_result_6_4_for_eval.json_mean_6_11_.json', 'gpt_r': '6_11-gpt_reasoning_clear.json_mean_6_11_.json', 'gpt_r_o': '6_11-gpt_observation_reasoning.json_mean_6_11_.json'}"
   ]
  },
  {
   "cell_type": "code",
   "execution_count": 7,
   "metadata": {},
   "outputs": [],
   "source": [
    "mistral_dict={\n",
    "\n",
    "'mistral_base2': '6_11-mistral_eval_base_3_not_explore.json_mean_6_11_.json', \n",
    "'mistral_base': '6_11-mistral_eval_base_3.json_mean_6_11_.json', \n",
    "'mistral_d_3': '6_11-mistral_eval_d_3.json_mean_6_11_.json','mistral_d_4':'6_11-mistral_eval_d_4_not_explore.json_mean_6_11_.json',\n",
    "'mistral_r': '6_11-mistral_eval_r_d_v2.json_mean_6_11_.json', 'mistral_r_o': '6_11-mistral_eval_o_r_d_v2.json_mean_6_11_.json','mistral_mix_1':'6_11-mistral_eval_mix_3_not_explore-simple.json_mean_6_11_.json','mistral_mix_2':'6_11-mistral_eval_mix_4_6_12_explore.json_mean_6_11_.json',\n",
    "'mistral_mix_3':'6_11-mistral_eval_mix_6_12_version_3.json_mean_6_11_.json','mistral_mix_modified':'6_11-mistral_eval_mix_6_12_version_2.json_mean_6_11_.json'}\n",
    "#   '6_11-mistral_eval_mix_3_not_explore-simple.json_mean_6_11_.json',\n",
    "#   '6_11-mistral_eval_d_3.json_mean_6_11_.json',\n",
    "#   '6_11-mistral_eval_mix_6_12_version_2.json_mean_6_11_.json',\n",
    "#   '6_11-mistral_eval_base_3.json_mean_6_11_.json',\n",
    "#   '6_11-mistral_eval_mix_4_6_12_explore.json_mean_6_11_.json',"
   ]
  },
  {
   "cell_type": "code",
   "execution_count": 8,
   "metadata": {},
   "outputs": [
    {
     "name": "stdout",
     "output_type": "stream",
     "text": [
      "dict_keys(['mistral_base2', 'mistral_base', 'mistral_d_3', 'mistral_d_4', 'mistral_r', 'mistral_r_o', 'mistral_mix_1', 'mistral_mix_2', 'mistral_mix_3', 'mistral_mix_modified'])\n"
     ]
    }
   ],
   "source": [
    "print(mistral_dict.keys())"
   ]
  },
  {
   "cell_type": "code",
   "execution_count": 9,
   "metadata": {},
   "outputs": [
    {
     "name": "stdout",
     "output_type": "stream",
     "text": [
      "dict_keys(['BertScore-F1', 'BertScore-P', 'BertScore-Recall', 'blue-1', 'blue-2', 'blue-3', 'blue-4', 'meteor', 'rouge1', 'rouge2', 'rougeL', 'rougeLsum', 'Expectation-Adjusted-Distinct', 'Distinct-1', 'Distinct-2', 'Distinct-3'])\n",
      "dict_keys(['BertScore-F1', 'BertScore-P', 'BertScore-Recall', 'blue-1', 'blue-2', 'blue-3', 'blue-4', 'meteor', 'rouge1', 'rouge2', 'rougeL', 'rougeLsum', 'Expectation-Adjusted-Distinct', 'Distinct-1', 'Distinct-2', 'Distinct-3'])\n",
      "dict_keys(['BertScore-F1', 'BertScore-P', 'BertScore-Recall', 'blue-1', 'blue-2', 'blue-3', 'blue-4', 'meteor', 'rouge1', 'rouge2', 'rougeL', 'rougeLsum', 'Expectation-Adjusted-Distinct', 'Distinct-1', 'Distinct-2', 'Distinct-3'])\n",
      "dict_keys(['BertScore-F1', 'BertScore-P', 'BertScore-Recall', 'blue-1', 'blue-2', 'blue-3', 'blue-4', 'meteor', 'rouge1', 'rouge2', 'rougeL', 'rougeLsum', 'Expectation-Adjusted-Distinct', 'Distinct-1', 'Distinct-2', 'Distinct-3'])\n",
      "dict_keys(['BertScore-F1', 'BertScore-P', 'BertScore-Recall', 'blue-1', 'blue-2', 'blue-3', 'blue-4', 'meteor', 'rouge1', 'rouge2', 'rougeL', 'rougeLsum', 'Expectation-Adjusted-Distinct', 'Distinct-1', 'Distinct-2', 'Distinct-3'])\n",
      "dict_keys(['BertScore-F1', 'BertScore-P', 'BertScore-Recall', 'blue-1', 'blue-2', 'blue-3', 'blue-4', 'meteor', 'rouge1', 'rouge2', 'rougeL', 'rougeLsum', 'Expectation-Adjusted-Distinct', 'Distinct-1', 'Distinct-2', 'Distinct-3'])\n",
      "dict_keys(['BertScore-F1', 'BertScore-P', 'BertScore-Recall', 'blue-1', 'blue-2', 'blue-3', 'blue-4', 'meteor', 'rouge1', 'rouge2', 'rougeL', 'rougeLsum', 'Expectation-Adjusted-Distinct', 'Distinct-1', 'Distinct-2', 'Distinct-3'])\n",
      "dict_keys(['BertScore-F1', 'BertScore-P', 'BertScore-Recall', 'blue-1', 'blue-2', 'blue-3', 'blue-4', 'meteor', 'rouge1', 'rouge2', 'rougeL', 'rougeLsum', 'Expectation-Adjusted-Distinct', 'Distinct-1', 'Distinct-2', 'Distinct-3'])\n",
      "dict_keys(['BertScore-F1', 'BertScore-P', 'BertScore-Recall', 'blue-1', 'blue-2', 'blue-3', 'blue-4', 'meteor', 'rouge1', 'rouge2', 'rougeL', 'rougeLsum', 'Expectation-Adjusted-Distinct', 'Distinct-1', 'Distinct-2', 'Distinct-3'])\n",
      "dict_keys(['BertScore-F1', 'BertScore-P', 'BertScore-Recall', 'blue-1', 'blue-2', 'blue-3', 'blue-4', 'meteor', 'rouge1', 'rouge2', 'rougeL', 'rougeLsum', 'Expectation-Adjusted-Distinct', 'Distinct-1', 'Distinct-2', 'Distinct-3'])\n",
      "dict_keys(['BertScore-F1', 'BertScore-P', 'BertScore-Recall', 'blue-1', 'blue-2', 'blue-3', 'blue-4', 'meteor', 'rouge1', 'rouge2', 'rougeL', 'rougeLsum', 'Expectation-Adjusted-Distinct', 'Distinct-1', 'Distinct-2', 'Distinct-3'])\n",
      "dict_keys(['BertScore-F1', 'BertScore-P', 'BertScore-Recall', 'blue-1', 'blue-2', 'blue-3', 'blue-4', 'meteor', 'rouge1', 'rouge2', 'rougeL', 'rougeLsum', 'Expectation-Adjusted-Distinct', 'Distinct-1', 'Distinct-2', 'Distinct-3'])\n",
      "dict_keys(['BertScore-F1', 'BertScore-P', 'BertScore-Recall', 'blue-1', 'blue-2', 'blue-3', 'blue-4', 'meteor', 'rouge1', 'rouge2', 'rougeL', 'rougeLsum', 'Expectation-Adjusted-Distinct', 'Distinct-1', 'Distinct-2', 'Distinct-3'])\n",
      "dict_keys(['BertScore-F1', 'BertScore-P', 'BertScore-Recall', 'blue-1', 'blue-2', 'blue-3', 'blue-4', 'meteor', 'rouge1', 'rouge2', 'rougeL', 'rougeLsum', 'Expectation-Adjusted-Distinct', 'Distinct-1', 'Distinct-2', 'Distinct-3'])\n"
     ]
    }
   ],
   "source": [
    "import copy\n",
    "def read_files(n_p_dict:dict):\n",
    "    data_dict={}\n",
    "    for key,path in n_p_dict.items():\n",
    "        data=read_file(eval_path+\"/\"+path)\n",
    "        print(data.keys())\n",
    "        data_dict[key]=data\n",
    "    return copy.deepcopy(data_dict)\n",
    "gpt_data=read_files(gpt_dict)\n",
    "mistral_data=read_files(mistral_dict)"
   ]
  },
  {
   "cell_type": "code",
   "execution_count": 1,
   "metadata": {},
   "outputs": [
    {
     "ename": "NameError",
     "evalue": "name 'gpt_data' is not defined",
     "output_type": "error",
     "traceback": [
      "\u001b[0;31m---------------------------------------------------------------------------\u001b[0m",
      "\u001b[0;31mNameError\u001b[0m                                 Traceback (most recent call last)",
      "Cell \u001b[0;32mIn[1], line 15\u001b[0m\n\u001b[1;32m     13\u001b[0m         \u001b[38;5;28mprint\u001b[39m(diff_list)\n\u001b[1;32m     14\u001b[0m \u001b[38;5;66;03m# gpt_data\u001b[39;00m\n\u001b[0;32m---> 15\u001b[0m print_diff(\u001b[43mgpt_data\u001b[49m,base_key\u001b[38;5;241m=\u001b[39m\u001b[38;5;124m'\u001b[39m\u001b[38;5;124mgpt_base\u001b[39m\u001b[38;5;124m'\u001b[39m)\n",
      "\u001b[0;31mNameError\u001b[0m: name 'gpt_data' is not defined"
     ]
    }
   ],
   "source": [
    "\n",
    "def print_diff(cur_data,base_key='gpt_base'):\n",
    "    base_dict=cur_data[base_key]\n",
    "    total_diff_list,diff_list=[],[]\n",
    "    for m_key,b_v in base_dict.items():\n",
    "        diff_list.append(m_key[:2]+m_key[-1])\n",
    "    total_diff_list.append(diff_list)\n",
    "    print(diff_list)\n",
    "    for key,cur_dict in cur_data.items():\n",
    "        print(key)\n",
    "        diff_list=[]\n",
    "        for m_key,b_v in base_dict.items():\n",
    "            diff_list.append(round(cur_dict[m_key]-base_dict[m_key],2))\n",
    "        print(diff_list)\n",
    "# gpt_data\n",
    "print_diff(gpt_data,base_key='gpt_base')\n"
   ]
  },
  {
   "cell_type": "code",
   "execution_count": 35,
   "metadata": {},
   "outputs": [],
   "source": [
    "def print_diff(cur_data,base_key=''):\n",
    "    base_dict=cur_data[base_key]\n",
    "    total_diff_list,diff_list=[],[]\n",
    "    for m_key,b_v in base_dict.items():\n",
    "        diff_list.append(m_key[:2]+m_key[-1])\n",
    "    total_diff_list.append(diff_list)\n",
    "    print(diff_list)\n",
    "    for key,cur_dict in cur_data.items():\n",
    "        print(key,m_key)\n",
    "        diff_list=[]\n",
    "        for m_key,b_v in base_dict.items():\n",
    "            diff_list.append([m_key,round(cur_dict[m_key]-base_dict[m_key],2)])\n",
    "        print(diff_list)"
   ]
  },
  {
   "cell_type": "code",
   "execution_count": 38,
   "metadata": {},
   "outputs": [
    {
     "name": "stdout",
     "output_type": "stream",
     "text": [
      "['Be1', 'BeP', 'Bel', 'bl1', 'bl2', 'bl3', 'bl4', 'mer', 'ro1', 'ro2', 'roL', 'rom', 'Ext', 'Di1', 'Di2', 'Di3']\n",
      "mistral_base2 Distinct-3\n",
      "[['BertScore-F1', 0.0], ['BertScore-P', 0.0], ['BertScore-Recall', 0.0], ['blue-1', 0.0], ['blue-2', 0.0], ['blue-3', 0.0], ['blue-4', 0.0], ['meteor', 0.0], ['rouge1', 0.0], ['rouge2', 0.0], ['rougeL', 0.0], ['rougeLsum', 0.0], ['Expectation-Adjusted-Distinct', 0.0], ['Distinct-1', 0.0], ['Distinct-2', 0.0], ['Distinct-3', 0.0]]\n",
      "mistral_base Distinct-3\n",
      "[['BertScore-F1', 0.06], ['BertScore-P', 0.09], ['BertScore-Recall', 0.03], ['blue-1', 0.2], ['blue-2', 0.16], ['blue-3', 0.11], ['blue-4', 0.09], ['meteor', 0.3], ['rouge1', 0.2], ['rouge2', 0.1], ['rougeL', 0.2], ['rougeLsum', 0.2], ['Expectation-Adjusted-Distinct', -0.0], ['Distinct-1', -0.0], ['Distinct-2', -0.01], ['Distinct-3', -0.01]]\n",
      "mistral_d_3 Distinct-3\n",
      "[['BertScore-F1', 0.06], ['BertScore-P', 0.08], ['BertScore-Recall', 0.03], ['blue-1', 0.2], ['blue-2', 0.16], ['blue-3', 0.12], ['blue-4', 0.1], ['meteor', 0.3], ['rouge1', 0.2], ['rouge2', 0.11], ['rougeL', 0.21], ['rougeLsum', 0.2], ['Expectation-Adjusted-Distinct', -0.0], ['Distinct-1', -0.0], ['Distinct-2', -0.01], ['Distinct-3', -0.01]]\n",
      "mistral_d_4 Distinct-3\n",
      "[['BertScore-F1', 0.05], ['BertScore-P', 0.08], ['BertScore-Recall', 0.02], ['blue-1', 0.17], ['blue-2', 0.13], ['blue-3', 0.1], ['blue-4', 0.08], ['meteor', 0.28], ['rouge1', 0.2], ['rouge2', 0.1], ['rougeL', 0.19], ['rougeLsum', 0.19], ['Expectation-Adjusted-Distinct', 0.0], ['Distinct-1', 0.0], ['Distinct-2', 0.0], ['Distinct-3', -0.0]]\n",
      "mistral_r Distinct-3\n",
      "[['BertScore-F1', 0.06], ['BertScore-P', 0.09], ['BertScore-Recall', 0.03], ['blue-1', 0.17], ['blue-2', 0.13], ['blue-3', 0.08], ['blue-4', 0.06], ['meteor', 0.3], ['rouge1', 0.17], ['rouge2', 0.07], ['rougeL', 0.18], ['rougeLsum', 0.18], ['Expectation-Adjusted-Distinct', -0.0], ['Distinct-1', -0.0], ['Distinct-2', -0.01], ['Distinct-3', -0.01]]\n",
      "mistral_r_o Distinct-3\n",
      "[['BertScore-F1', 0.06], ['BertScore-P', 0.09], ['BertScore-Recall', 0.03], ['blue-1', 0.16], ['blue-2', 0.12], ['blue-3', 0.07], ['blue-4', 0.05], ['meteor', 0.29], ['rouge1', 0.16], ['rouge2', 0.06], ['rougeL', 0.17], ['rougeLsum', 0.17], ['Expectation-Adjusted-Distinct', -0.0], ['Distinct-1', -0.0], ['Distinct-2', -0.01], ['Distinct-3', -0.01]]\n",
      "mistral_mix_1 Distinct-3\n",
      "[['BertScore-F1', 0.04], ['BertScore-P', 0.05], ['BertScore-Recall', 0.02], ['blue-1', 0.15], ['blue-2', 0.11], ['blue-3', 0.07], ['blue-4', 0.05], ['meteor', 0.19], ['rouge1', 0.16], ['rouge2', 0.07], ['rougeL', 0.15], ['rougeLsum', 0.15], ['Expectation-Adjusted-Distinct', -0.0], ['Distinct-1', -0.0], ['Distinct-2', -0.0], ['Distinct-3', -0.0]]\n",
      "mistral_mix_2 Distinct-3\n",
      "[['BertScore-F1', 0.02], ['BertScore-P', 0.03], ['BertScore-Recall', 0.02], ['blue-1', 0.08], ['blue-2', 0.06], ['blue-3', 0.04], ['blue-4', 0.03], ['meteor', 0.11], ['rouge1', 0.08], ['rouge2', 0.04], ['rougeL', 0.09], ['rougeLsum', 0.08], ['Expectation-Adjusted-Distinct', -0.0], ['Distinct-1', -0.0], ['Distinct-2', -0.01], ['Distinct-3', -0.01]]\n",
      "mistral_mix_3 Distinct-3\n",
      "[['BertScore-F1', 0.04], ['BertScore-P', 0.06], ['BertScore-Recall', 0.03], ['blue-1', 0.15], ['blue-2', 0.1], ['blue-3', 0.06], ['blue-4', 0.04], ['meteor', 0.19], ['rouge1', 0.14], ['rouge2', 0.05], ['rougeL', 0.14], ['rougeLsum', 0.13], ['Expectation-Adjusted-Distinct', -0.0], ['Distinct-1', -0.0], ['Distinct-2', -0.01], ['Distinct-3', -0.01]]\n",
      "mistral_mix_modified Distinct-3\n",
      "[['BertScore-F1', 0.04], ['BertScore-P', 0.06], ['BertScore-Recall', 0.03], ['blue-1', 0.15], ['blue-2', 0.1], ['blue-3', 0.06], ['blue-4', 0.04], ['meteor', 0.19], ['rouge1', 0.14], ['rouge2', 0.05], ['rougeL', 0.14], ['rougeLsum', 0.13], ['Expectation-Adjusted-Distinct', -0.0], ['Distinct-1', -0.0], ['Distinct-2', -0.01], ['Distinct-3', -0.01]]\n"
     ]
    }
   ],
   "source": [
    "print_diff(mistral_data,base_key='mistral_base2')"
   ]
  },
  {
   "cell_type": "code",
   "execution_count": 56,
   "metadata": {},
   "outputs": [
    {
     "name": "stdout",
     "output_type": "stream",
     "text": [
      "['BertScore-P', 'BertScore-Recall', 'BertScore-F1', 'blue-1', 'blue-3', 'meteor', 'rougeL', 'Distinct-2']\n",
      "gpt_base\n",
      "& 0.861 & 0.882 & 0.871 & 0.163 & 0.035 & 0.193 & 0.148 & 0.001\\\\\n",
      "gpt_d\n",
      "& 0.888 & 0.89 & 0.888 & 0.219 & 0.071 & 0.315 & 0.216 & 0.001\\\\\n",
      "gpt_r\n",
      "& 0.876 & 0.887 & 0.881 & 0.204 & 0.057 & 0.287 & 0.199 & 0.001\\\\\n",
      "gpt_r_o\n",
      "& 0.876 & 0.888 & 0.881 & 0.199 & 0.065 & 0.282 & 0.202 & 0.004\\\\\n"
     ]
    }
   ],
   "source": [
    "key_list=['BertScore-P','BertScore-Recall','BertScore-F1','blue-1','blue-3','meteor','rougeL','Distinct-2']\n",
    "\n",
    "def print_matrics(cur_data):\n",
    "    for key,cur_dict in cur_data.items():\n",
    "        print(key)\n",
    "        val_list=[]\n",
    "        for m_key in key_list:\n",
    "            val_list.append(cur_dict[m_key])\n",
    "        print(\"& \"+\" & \".join([str(round(val,3)) for val in val_list])+r\"\\\\\")\n",
    "print(key_list)\n",
    "print_matrics(gpt_data)\n",
    "\n"
   ]
  },
  {
   "cell_type": "code",
   "execution_count": 57,
   "metadata": {},
   "outputs": [
    {
     "name": "stdout",
     "output_type": "stream",
     "text": [
      "BertScore-P & BertScore-Recall & BertScore-F1 & blue-1 & blue-3 & meteor & rougeL & Distinct-2\n",
      "mistral_base2\n",
      "& 0.824 & 0.871 & 0.846 & 0.101 & 0.023 & 0.098 & 0.097 & 0.007\\\\\n",
      "mistral_base\n",
      "& 0.909 & 0.903 & 0.906 & 0.297 & 0.134 & 0.398 & 0.3 & 0.001\\\\\n",
      "mistral_d_3\n",
      "& 0.908 & 0.904 & 0.905 & 0.302 & 0.138 & 0.4 & 0.303 & 0.001\\\\\n",
      "mistral_d_4\n",
      "& 0.903 & 0.893 & 0.898 & 0.27 & 0.119 & 0.379 & 0.29 & 0.007\\\\\n",
      "mistral_r\n",
      "& 0.912 & 0.9 & 0.905 & 0.266 & 0.107 & 0.397 & 0.278 & 0.001\\\\\n",
      "mistral_r_o\n",
      "& 0.909 & 0.899 & 0.903 & 0.256 & 0.095 & 0.383 & 0.27 & 0.001\\\\\n",
      "mistral_mix_1\n",
      "& 0.877 & 0.891 & 0.883 & 0.25 & 0.09 & 0.285 & 0.247 & 0.005\\\\\n",
      "mistral_mix_2\n",
      "& 0.852 & 0.891 & 0.871 & 0.186 & 0.061 & 0.205 & 0.182 & 0.001\\\\\n",
      "mistral_mix_3\n",
      "& 0.882 & 0.9 & 0.891 & 0.247 & 0.084 & 0.287 & 0.235 & 0.001\\\\\n",
      "mistral_mix_modified\n",
      "& 0.882 & 0.9 & 0.891 & 0.247 & 0.084 & 0.286 & 0.235 & 0.001\\\\\n"
     ]
    }
   ],
   "source": [
    "print(\" & \".join(key_list))\n",
    "print_matrics(mistral_data)"
   ]
  }
 ],
 "metadata": {
  "kernelspec": {
   "display_name": "Python 3",
   "language": "python",
   "name": "python3"
  },
  "language_info": {
   "codemirror_mode": {
    "name": "ipython",
    "version": 3
   },
   "file_extension": ".py",
   "mimetype": "text/x-python",
   "name": "python",
   "nbconvert_exporter": "python",
   "pygments_lexer": "ipython3",
   "version": "3.10.12"
  }
 },
 "nbformat": 4,
 "nbformat_minor": 2
}
