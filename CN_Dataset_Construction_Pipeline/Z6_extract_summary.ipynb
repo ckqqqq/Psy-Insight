{
 "cells": [
  {
   "cell_type": "code",
   "execution_count": 3,
   "metadata": {},
   "outputs": [],
   "source": []
  },
  {
   "cell_type": "code",
   "execution_count": 4,
   "metadata": {},
   "outputs": [],
   "source": [
    "# 这段话大致意思为：当接触到对生活感到绝望的来访者时，重要的是要了解他们是否有自杀的倾向。即使来访者没有主动提及自杀，治疗师也应该主动询问相关问题，以表明对来访者的关注和认真对待。提问的措辞并不重要，重要的是治疗师的态度。如果治疗师以真诚的态度提问，通常会得到诚实的回答。然而，如果治疗师感到尴尬或不自在，来访者可能会隐瞒真相。因此，治疗师应该做好准备，以便能够处理与自杀相关的问题。"
   ]
  },
  {
   "cell_type": "code",
   "execution_count": 5,
   "metadata": {},
   "outputs": [],
   "source": [
    "# !pip install langchain\n",
    "# !pip install langchain_openai"
   ]
  },
  {
   "cell_type": "code",
   "execution_count": 6,
   "metadata": {},
   "outputs": [],
   "source": [
    "\n",
    "import json\n",
    "input_file_path=\"/home/ckqsudo/code2024/0dataset/E-bed/Chinese/中文数据_处理错reasoning_分离长对话数据_分离label_对话人.json\"\n",
    "with open(input_file_path,\"r\",encoding=\"utf-8\") as i_f:\n",
    "    cn_data=json.load(i_f)"
   ]
  },
  {
   "cell_type": "code",
   "execution_count": 7,
   "metadata": {},
   "outputs": [],
   "source": [
    "\n",
    "# for x,item in enumerate(cn_data):\n",
    "#     if item['key']==\"fewshot\":"
   ]
  },
  {
   "cell_type": "code",
   "execution_count": 8,
   "metadata": {},
   "outputs": [],
   "source": [
    "# dialog_id=0\n",
    "cn_dialog_data=[]\n",
    "for x,item in enumerate(cn_data):\n",
    "    if item['key']==\"fewshot\":\n",
    "        new_dialog_json=[]\n",
    "        new_list={\"unit_id\":item[\"unit_id\"],\"dialog_list\":[]}\n",
    "        for y,dialog_item in enumerate(item['dialog']):\n",
    "            # print(dialog_item)\n",
    "            new_unit={\"id\":dialog_item[\"id\"],\"participant\":dialog_item[\"participant\"],\"text\":dialog_item[\"text\"]}\n",
    "            new_list['dialog_list'].append(new_unit)\n",
    "            # new_list[\"dialog_list\"]\n",
    "        cn_dialog_data.append(new_list)"
   ]
  },
  {
   "cell_type": "code",
   "execution_count": 9,
   "metadata": {},
   "outputs": [
    {
     "data": {
      "text/plain": [
       "1444"
      ]
     },
     "execution_count": 9,
     "metadata": {},
     "output_type": "execute_result"
    }
   ],
   "source": [
    "len(cn_data)"
   ]
  },
  {
   "cell_type": "code",
   "execution_count": 10,
   "metadata": {},
   "outputs": [
    {
     "name": "stdout",
     "output_type": "stream",
     "text": [
      "{\"unit_id\": 310, \"dialog_list\": [{\"id\": \"310-0\", \"participant\": \"治疗师\", \"text\": \"因为上学期在学校里你做得不如你本该做得那么好，所以你不合格，从你所说的，听起来你仍然有一些程度地相信。\"}, {\"id\": \"310-1\", \"participant\": \"来访者\", \"text\": \"是的。\"}, {\"id\": \"310-2\", \"participant\": \"治疗师\", \"text\": \"我想得到更好一点的理由，你还有什么依据支持你的信念？\"}, {\"id\": \"310-3\", \"participant\": \"来访者\", \"text\": \"可以。\"}, {\"id\": \"310-4\", \"participant\": \"治疗师\", \"text\": \"我想做的是角色扮演，我扮演你心理上的“理性”部分，即理性地知遵仅仅因为你未能全得A，并不意味着你就是彻头彻尾的不合格，我想让你扮演你心理上的·情绪，部分，你仍然真实地相信你不合格，这是来自于你心里的声音。我想让你尽可能严厉地与我争吵，以使我能真实地看到什么维系着这个信念，好吗？\"}, {\"id\": \"310-5\", \"participant\": \"来访者\", \"text\": \"好的。\"}, {\"id\": \"310-6\", \"participant\": \"治疗师\", \"text\": \"好，从你开始，说“因为我没有全得A，我不适当。\"}, {\"id\": \"310-7\", \"participant\": \"来访者\", \"text\": \"我不适当，因为我没有全得A。\"}, {\"id\": \"310-8\", \"participant\": \"治疗师\", \"text\": \"不，我不是不适当，我有一个我不适当的信念，但是大多数时间我是合情合理地适当的。\"}, {\"id\": \"310-9\", \"participant\": \"来访者\", \"text\": \"不，我不适当，如果我真的适当，上学期我该全得A。\"}, {\"id\": \"310-10\", \"participant\": \"治疗师\", \"text\": \"那不是事实，适当不等于绝对的学业优秀，如采这是真的，世界上仅有1%的人算是遗当，其他任何人都不适当。\"}, {\"id\": \"310-11\", \"participant\": \"来访者\", \"text\": \"化学我得了一个C，这证明我不适当。\"}, {\"id\": \"310-12\", \"participant\": \"治疗师\", \"text\": \"那也不对，如果我化学没有考及格、或详可能有理由说我在化学这门课上不适当，但这并不使我每件事上都不适当。另外，也许化学上我真的适当，但是由于其他原因我没考及格，例如，我心情沮丧，因此不能集中精力学习。\"}, {\"id\": \"310-13\", \"participant\": \"来访者\", \"text\": \"但是一个真正适当的人首先不会沮丧。\"}, {\"id\": \"310-14\", \"participant\": \"治疗师\", \"text\": \"事实上，真正适当的人基至也退丧，这儿没有什么联系，当真正适当的人洱丧时，他们的注意力和动力肯定会受影响，因此他们没有平时做得好，但是这并不意味着他们彻头彻尾地不适当。\"}, {\"id\": \"310-15\", \"participant\": \"来访者\", \"text\": \"我想送是对的，他们仅仅是洱丧而已。“\"}, {\"id\": \"310-16\", \"participant\": \"治疗师\", \"text\": \"你是对的，但是你是出于角色而已、还有其他标是绝对不适当的证据吗？\"}, {\"id\": \"310-17\", \"participant\": \"来访者\", \"text\": \"我想没有。\"}, {\"id\": \"310-18\", \"participant\": \"治疗师\", \"text\": \"好，现在我们交换角色，这时你是驳斥我情绪，部分的“理性”角色如何?我将用你同样的争论。\"}, {\"id\": \"310-19\", \"participant\": \"治疗师\", \"text\": \"我先开始，因为我没全得A，所以我不适当。\"}, {\"id\": \"310-20\", \"participant\": \"来访者\", \"text\": \"好的。n转换角色给来访者提供了一个正如治疗师模拟的表达理性论点的机会。治疗师运用来访者使用的相同情感理由，也努力用同样的话。使便用来访者自己的讲话，不加入新的素材，有助干帮助患老对其特定的事精反应更加精确。\"}]}\n"
     ]
    }
   ],
   "source": [
    "import json\n",
    "# from symbol import encoding_decl\n",
    "print(json.dumps(cn_dialog_data[310],ensure_ascii=False))"
   ]
  },
  {
   "cell_type": "code",
   "execution_count": 11,
   "metadata": {},
   "outputs": [],
   "source": [
    "# from dotenv import load_dotenv\n",
    "import os\n",
    "from langchain.prompts.chat import (\n",
    "    ChatPromptTemplate,\n",
    "    HumanMessagePromptTemplate,\n",
    "    SystemMessagePromptTemplate,\n",
    ")\n",
    "from langchain.schema import HumanMessage, SystemMessage,AIMessage\n",
    "from langchain_openai import ChatOpenAI\n",
    "\n",
    "chat = ChatOpenAI(temperature=0,model=\"gpt-3.5-turbo\")\n",
    "long_chat =ChatOpenAI(temperature=0,model=\"gpt-3.5-turbo-16k\")\n"
   ]
  },
  {
   "cell_type": "code",
   "execution_count": 12,
   "metadata": {},
   "outputs": [],
   "source": [
    "# !pip install --upgrade tiktoken"
   ]
  },
  {
   "cell_type": "code",
   "execution_count": 13,
   "metadata": {},
   "outputs": [
    {
     "data": {
      "text/plain": [
       "2554978"
      ]
     },
     "execution_count": 13,
     "metadata": {},
     "output_type": "execute_result"
    }
   ],
   "source": [
    "from pyexpat.errors import messages\n",
    "import tiktoken\n",
    "# 2. Load an encoding\n",
    "# 使用tiktoken.get_encoding()按名称加载编码。\n",
    "# 第一次运行时，它将需要互联网连接进行下载。后续运行不需要互联网连接。\n",
    "encoding = tiktoken.get_encoding(\"cl100k_base\")\n",
    "# 使用tiktoken.encoding_for_model()函数可以自动加载给定模型名称的正确编码。\n",
    "encoding = tiktoken.encoding_for_model(\"gpt-3.5-turbo\")\n",
    "encoding.encode(\"tiktoken is great!\")\n",
    "def num_tokens_from_string(string: str, encoding_name: str) -> int:\n",
    "    \"\"\"返回文本字符串中的Token数量\"\"\"\n",
    "    encoding = tiktoken.get_encoding(encoding_name)\n",
    "    num_tokens = len(encoding.encode(string))\n",
    "    return num_tokens\n",
    "num_tokens_from_string(json.dumps(cn_data),\"cl100k_base\")\n",
    "# 1937335\n",
    "# 2541877"
   ]
  },
  {
   "cell_type": "code",
   "execution_count": 14,
   "metadata": {},
   "outputs": [],
   "source": [
    "counter=0\n",
    "for x,item in enumerate(cn_data):\n",
    "    if item['key']=='fewshot':\n",
    "        for y,dialog_item in enumerate(item['dialog']):\n",
    "            counter+=1"
   ]
  },
  {
   "cell_type": "code",
   "execution_count": 15,
   "metadata": {},
   "outputs": [
    {
     "data": {
      "text/plain": [
       "5881"
      ]
     },
     "execution_count": 15,
     "metadata": {},
     "output_type": "execute_result"
    }
   ],
   "source": [
    "counter"
   ]
  },
  {
   "cell_type": "code",
   "execution_count": 16,
   "metadata": {},
   "outputs": [
    {
     "ename": "AttributeError",
     "evalue": "'int' object has no attribute 'content'",
     "output_type": "error",
     "traceback": [
      "\u001b[0;31m---------------------------------------------------------------------------\u001b[0m",
      "\u001b[0;31mAttributeError\u001b[0m                            Traceback (most recent call last)",
      "Cell \u001b[0;32mIn[16], line 3\u001b[0m\n\u001b[1;32m      1\u001b[0m message_total_token\u001b[38;5;241m=\u001b[39m\u001b[38;5;241m0\u001b[39m\n\u001b[1;32m      2\u001b[0m \u001b[38;5;28;01mfor\u001b[39;00m i \u001b[38;5;129;01min\u001b[39;00m messages:\n\u001b[0;32m----> 3\u001b[0m     message_total_token\u001b[38;5;241m+\u001b[39m\u001b[38;5;241m=\u001b[39mnum_tokens_from_string(\u001b[43mi\u001b[49m\u001b[38;5;241;43m.\u001b[39;49m\u001b[43mcontent\u001b[49m,\u001b[38;5;124m\"\u001b[39m\u001b[38;5;124mcl100k_base\u001b[39m\u001b[38;5;124m\"\u001b[39m)\n\u001b[1;32m      6\u001b[0m last_message_token\u001b[38;5;241m=\u001b[39mnum_tokens_from_string(messages[\u001b[38;5;241m-\u001b[39m\u001b[38;5;241m1\u001b[39m]\u001b[38;5;241m.\u001b[39mcontent,\u001b[38;5;124m\"\u001b[39m\u001b[38;5;124mcl100k_base\u001b[39m\u001b[38;5;124m\"\u001b[39m)\n\u001b[1;32m      7\u001b[0m \u001b[38;5;28mprint\u001b[39m(message_total_token,last_message_token,messages[\u001b[38;5;241m-\u001b[39m\u001b[38;5;241m1\u001b[39m]\u001b[38;5;241m.\u001b[39mcontent)\n",
      "\u001b[0;31mAttributeError\u001b[0m: 'int' object has no attribute 'content'"
     ]
    }
   ],
   "source": [
    "message_total_token=0\n",
    "for i in messages:\n",
    "    message_total_token+=num_tokens_from_string(i.content,\"cl100k_base\")\n",
    "\n",
    "\n",
    "last_message_token=num_tokens_from_string(messages[-1].content,\"cl100k_base\")\n",
    "print(message_total_token,last_message_token,messages[-1].content)"
   ]
  },
  {
   "cell_type": "code",
   "execution_count": null,
   "metadata": {},
   "outputs": [],
   "source": []
  },
  {
   "cell_type": "code",
   "execution_count": null,
   "metadata": {},
   "outputs": [],
   "source": [
    "input_str=r\"\"\"[{\"id\": \"310-0\", \"participant\": \"治疗师\", \"text\": \"因为上学期在学校里你做得不如你本该做得那么好，所以你不合格，从你所说的，听起来你仍然有一些程度地相信。\"}, {\"id\": \"310-1\", \"participant\": \"来访者\", \"text\": \"是的。\\\"\"}, {\"id\": \"310-2\", \"participant\": \"治疗师\", \"text\": \"我想得到更好一点的理由，你还有什么依据支持你的信念？\"}, {\"id\": \"310-3\", \"participant\": \"来访者\", \"text\": \"可以。\\\"\"}, {\"id\": \"310-4\", \"participant\": \"治疗师\", \"text\": \"我想做的是角色扮演，我扮演你心理上的“理性”部分，即理性地知遵仅仅因为你未能全得A，并不意味着你就是彻头彻尾的不合格，我想让你扮演你心理上的·情绪，部分，你仍然真实地相信你不合格，这是来自于你心里的声音。我想让你尽可能严厉地与我争吵，以使我能真实地看到什么维系着这个信念，好吗？\"}, {\"id\": \"310-5\", \"participant\": \"来访者\", \"text\": \"好的。\"}, {\"id\": \"310-6\", \"participant\": \"治疗师\", \"text\": \"好，从你开始，说“因为我没有全得A，我不适当。\\\"\"}, {\"id\": \"310-7\", \"participant\": \"来访者\", \"text\": \"我不适当，因为我没有全得A。\"}, {\"id\": \"310-8\", \"participant\": \"治疗师\", \"text\": \"不，我不是不适当，我有一个我不适当的信念，但是大多数时间我是合情合理地适当的。\"}, {\"id\": \"310-9\", \"participant\": \"来访者\", \"text\": \"不，我不适当，如果我真的适当，上学期我该全得A。\"}, {\"id\": \"310-10\", \"participant\": \"治疗师\", \"text\": \"那不是事实，适当不等于绝对的学业优秀，如采这是真的，世界上仅有1%的人算是遗当，其他任何人都不适当。\"}\"\"\"\n",
    "output_str=r\"\"\"[\n",
    "  {\n",
    "    \"id\": \"310-0\",\n",
    "    \"participant\": \"治疗师\",\n",
    "    \"text\": \"因为上学期在学校里你做得不如你本该做得那么好，所以你不合格，从你所说的，听起来你仍然有一些程度地相信自己。\",\n",
    "    \"reason\": \"相信自己\"\n",
    "  },\n",
    "  {\n",
    "    \"id\": \"310-1\",\n",
    "    \"participant\": \"来访者\",\n",
    "    \"text\": \"是的。\",\n",
    "    \"reason\": \"删除引号\"\n",
    "  },\n",
    "  {\n",
    "    \"id\": \"310-2\",\n",
    "    \"participant\": \"治疗师\",\n",
    "    \"text\": \"我想得到更好一点的理由，你还有什么依据支持你的信念？\",\n",
    "    \"reason\": \"\"\n",
    "  },\n",
    "  {\n",
    "    \"id\": \"310-3\",\n",
    "    \"participant\": \"来访者\",\n",
    "    \"text\": \"可以。\",\n",
    "    \"reason\": \"删除引号\"\n",
    "  },\n",
    "  {\n",
    "    \"id\": \"310-4\",\n",
    "    \"participant\": \"治疗师\",\n",
    "    \"text\": \"我想做的是角色扮演，我扮演你心理上的“理性”部分，即理性的自尊。仅仅因为你未能全得A，并不意味着你就是彻头彻尾的不合格，我想让你扮演你心理上的情绪部分，你仍然真实地相信你不合格，这是来自于你心里的声音。我想让你尽可能严厉地与我争吵，以使我能真实地看到什么维系着这个信念，好吗？\",\n",
    "    \"reason\": \"知遵->自尊 地->的 添加句号 删除· 删除，\"\n",
    "  },\n",
    "  {\n",
    "    \"id\": \"310-5\",\n",
    "    \"participant\": \"来访者\",\n",
    "    \"text\": \"好的。\",\n",
    "    \"reason\": \"\"\n",
    "  },\n",
    "  {\n",
    "    \"id\": \"310-6\",\n",
    "    \"participant\": \"治疗师\",\n",
    "    \"text\": \"好，从你开始，说“因为我没有全得A，我不适当。”\",\n",
    "    \"reason\": \"“->”\"\n",
    "  },\n",
    "  {\n",
    "    \"id\": \"310-7\",\n",
    "    \"participant\": \"来访者\",\n",
    "    \"text\": \"我不适当，因为我没有全得A。\",\n",
    "    \"reason\": \"\"\n",
    "  },\n",
    "  {\n",
    "    \"id\": \"310-8\",\n",
    "    \"participant\": \"治疗师\",\n",
    "    \"text\": \"不，我不是不适当，我有一个我不适当的信念，但是大多数时间我是合情合理地适当的。\",\n",
    "    \"reason\": \"\"\n",
    "  },\n",
    "  {\n",
    "    \"id\": \"310-9\",\n",
    "    \"participant\": \"来访者\",\n",
    "    \"text\": \"不，我不适当，如果我真的适当，上学期我该全得A。\",\n",
    "    \"reason\": \"\"\n",
    "  },\n",
    "  {\n",
    "    \"id\": \"310-10\",\n",
    "    \"participant\": \"治疗师\",\n",
    "    \"text\": \"那不是事实，适当不等于绝对的学业优秀，如果这是真的，世界上仅有1%的人算是适当，其他任何人都不适当。\",\n",
    "    \"reason\": \"如采->如果 遗当->适当”\"\n",
    "  }\n",
    "]\n",
    "\"\"\""
   ]
  },
  {
   "cell_type": "code",
   "execution_count": null,
   "metadata": {},
   "outputs": [],
   "source": [
    "import json"
   ]
  },
  {
   "cell_type": "code",
   "execution_count": null,
   "metadata": {},
   "outputs": [],
   "source": [
    "tmp=json.loads(output_str)"
   ]
  },
  {
   "cell_type": "code",
   "execution_count": null,
   "metadata": {},
   "outputs": [
    {
     "data": {
      "text/plain": [
       "str"
      ]
     },
     "execution_count": 36,
     "metadata": {},
     "output_type": "execute_result"
    }
   ],
   "source": [
    "type(input_str)"
   ]
  },
  {
   "cell_type": "code",
   "execution_count": null,
   "metadata": {},
   "outputs": [],
   "source": [
    "input_str2='[{\"id\": \"312-0\", \"participant\": \"治疗师\", \"text\": \"你是否认识你认为有与你同样信念的其他什么人，“如果我不势力工作，我就会失败，？\"}, {\"id\": \"312-1\", \"participant\": \"来访者\", \"text\": \"我可以肯定我的期友唐娜从高中起就那样认为，地总是日目夜夜的学习。\"}, {\"id\": \"312-2\", \"participant\": \"治疗师\", \"text\": \"你认为那个信念适合她的准确性如何？\"}]'\n",
    "output_str2=r\"\"\"[\n",
    "  {\n",
    "    \"id\": \"312-0\",\n",
    "    \"participant\": \"治疗师\",\n",
    "    \"text\": \"你是否认识你认为有与你同样信念的其他什么人，有着同样的想法：“如果我不势力工作，我就会失败？”\",\n",
    "    \"reasoning\": \"有着同样想想法 删除逗号\"\n",
    "  },\n",
    "  {\n",
    "    \"id\": \"312-1\",\n",
    "    \"participant\": \"来访者\",\n",
    "    \"text\": \"我可以肯定我的朋友唐娜从高中起就那样认为，她总是日夜兼程地学习。\",\n",
    "    \"reasoning\": \"日夜兼程\"\n",
    "  },\n",
    "  {\n",
    "    \"id\": \"312-2\",\n",
    "    \"participant\": \"治疗师\",\n",
    "    \"text\": \"你认为那个信念适合她的准确性如何？\",\n",
    "    \"reasoning\": \"\"\n",
    "  }\n",
    "]\n",
    "\"\"\""
   ]
  },
  {
   "cell_type": "code",
   "execution_count": null,
   "metadata": {},
   "outputs": [],
   "source": [
    "input_str3=r\"\"\"[{\"id\": \"310-20\", \"participant\": \"来访者\", \"text\": \"好的。n转换角色给来访者提供了一个正如治疗师模拟的表达理性论点的机会。治疗师运用来访者使用的相同情感理由，也努力用同样的话。使便用来访者自己的讲话，不加入新的素材，有助干帮助患老对其特定的事精反应更加精确。\"}]\"\"\"\n",
    "output_str3=r\"\"\"[{\"id\": \"310-20\", \"participant\": \"来访者\", \"text\": \"好的。\",\"reason\":\"删除n 转换角色给来访者提供了一个正如治疗师模拟的表达理性论点的机会。治疗师运用来访者使用的相同情感理由，也努力用同样的话。使便用来访者自己的讲话，不加入新的素材，有助干帮助患老对其特定的事精反应更加精确。\"}]\"\"\""
   ]
  },
  {
   "cell_type": "code",
   "execution_count": 2,
   "metadata": {},
   "outputs": [
    {
     "ename": "NameError",
     "evalue": "name 'SystemMessage' is not defined",
     "output_type": "error",
     "traceback": [
      "\u001b[0;31m---------------------------------------------------------------------------\u001b[0m",
      "\u001b[0;31mNameError\u001b[0m                                 Traceback (most recent call last)",
      "Cell \u001b[0;32mIn[2], line 3\u001b[0m\n\u001b[1;32m      1\u001b[0m \u001b[38;5;66;03m# I want you to act as an English translator, spelling corrector and improver. I will speak to you in any language and you will detect the language, translate it and answer in the corrected and improved version of my text, in English.\u001b[39;00m\n\u001b[1;32m      2\u001b[0m messages \u001b[38;5;241m=\u001b[39m [\n\u001b[0;32m----> 3\u001b[0m     \u001b[43mSystemMessage\u001b[49m(\n\u001b[1;32m      4\u001b[0m         content\u001b[38;5;241m=\u001b[39m\u001b[38;5;124m\"\u001b[39m\u001b[38;5;124m我希望你扮演一个中文语法和心理咨询专家，你需要根据语境纠正下列文本中的OCR的语法错误和中文符号使用错误。我希望你以json格式输出纠正错误OCR识别后的结果。json元素的键值包括：\u001b[39m\u001b[38;5;124m'\u001b[39m\u001b[38;5;124mid\u001b[39m\u001b[38;5;124m'\u001b[39m\u001b[38;5;124m,\u001b[39m\u001b[38;5;124m'\u001b[39m\u001b[38;5;124mparticipant\u001b[39m\u001b[38;5;124m'\u001b[39m\u001b[38;5;124m,\u001b[39m\u001b[38;5;124m'\u001b[39m\u001b[38;5;124mtext\u001b[39m\u001b[38;5;124m'\u001b[39m\u001b[38;5;124m,\u001b[39m\u001b[38;5;124m'\u001b[39m\u001b[38;5;124mreason\u001b[39m\u001b[38;5;124m'\u001b[39m\u001b[38;5;124m,其中\u001b[39m\u001b[38;5;124m'\u001b[39m\u001b[38;5;124mid\u001b[39m\u001b[38;5;124m'\u001b[39m\u001b[38;5;124m,\u001b[39m\u001b[38;5;124m'\u001b[39m\u001b[38;5;124mparticipant\u001b[39m\u001b[38;5;124m'\u001b[39m\u001b[38;5;124m 保留原始数据，不得修改，如果text中有语法或符号错误，输出修改后结果。\u001b[39m\u001b[38;5;124m'\u001b[39m\u001b[38;5;124mreason\u001b[39m\u001b[38;5;124m'\u001b[39m\u001b[38;5;124m记录修改原因，如果没有修改，reason值为空。请不要大幅度修改句子结构，主要修改错词和错误的中文标点符号。下面为三个例子：\u001b[39m\u001b[38;5;124m\"\u001b[39m\n\u001b[1;32m      5\u001b[0m     ),\n\u001b[1;32m      6\u001b[0m     HumanMessage(\n\u001b[1;32m      7\u001b[0m         content\u001b[38;5;241m=\u001b[39m\u001b[38;5;124mr\u001b[39m\u001b[38;5;124m\"\"\"\u001b[39m\u001b[38;5;124m请你帮我纠正下面这段心理咨询对话OCR后的结果，以json数组形式输入，以json数组的形式输出:\u001b[39m\u001b[38;5;124m\"\"\"\u001b[39m\u001b[38;5;241m+\u001b[39minput_str\n\u001b[1;32m      8\u001b[0m     ),\n\u001b[1;32m      9\u001b[0m     AIMessage(content\u001b[38;5;241m=\u001b[39moutput_str),\n\u001b[1;32m     10\u001b[0m     HumanMessage(\n\u001b[1;32m     11\u001b[0m         content\u001b[38;5;241m=\u001b[39m\u001b[38;5;124mr\u001b[39m\u001b[38;5;124m\"\"\"\u001b[39m\u001b[38;5;124m请你帮我纠正下面这段心理咨询对话OCR后的结果，以json数组形式输入，以json数组的形式输出:\u001b[39m\u001b[38;5;124m\"\"\"\u001b[39m\u001b[38;5;241m+\u001b[39minput_str2\n\u001b[1;32m     12\u001b[0m     ),\n\u001b[1;32m     13\u001b[0m     AIMessage(\n\u001b[1;32m     14\u001b[0m         content\u001b[38;5;241m=\u001b[39moutput_str2\n\u001b[1;32m     15\u001b[0m     ),\n\u001b[1;32m     16\u001b[0m     HumanMessage(content\u001b[38;5;241m=\u001b[39m\u001b[38;5;124mr\u001b[39m\u001b[38;5;124m\"\"\"\u001b[39m\u001b[38;5;124m请你帮我纠正下面这段心理咨询对话OCR后的结果，以json数组形式输入，以json数组的形式输出:\u001b[39m\u001b[38;5;124m\"\"\"\u001b[39m\u001b[38;5;241m+\u001b[39minput_str3),\n\u001b[1;32m     17\u001b[0m     AIMessage(\n\u001b[1;32m     18\u001b[0m         content\u001b[38;5;241m=\u001b[39moutput_str3\n\u001b[1;32m     19\u001b[0m     ),\n\u001b[1;32m     20\u001b[0m     HumanMessage(content\u001b[38;5;241m=\u001b[39m\u001b[38;5;124m\"\u001b[39m\u001b[38;5;124m请你帮我纠正下面这段心理咨询对话OCR后的结果，以json数组形式输入，以json数组的形式输出:\u001b[39m\u001b[38;5;124m\"\u001b[39m\u001b[38;5;241m+\u001b[39mjson\u001b[38;5;241m.\u001b[39mdumps(cn_dialog_data[\u001b[38;5;241m170\u001b[39m][\u001b[38;5;124m'\u001b[39m\u001b[38;5;124mdialog_list\u001b[39m\u001b[38;5;124m'\u001b[39m],ensure_ascii\u001b[38;5;241m=\u001b[39m\u001b[38;5;28;01mFalse\u001b[39;00m))\n\u001b[1;32m     21\u001b[0m ]\n",
      "\u001b[0;31mNameError\u001b[0m: name 'SystemMessage' is not defined"
     ]
    }
   ],
   "source": [
    "\n",
    "# I want you to act as an English translator, spelling corrector and improver. I will speak to you in any language and you will detect the language, translate it and answer in the corrected and improved version of my text, in English.\n",
    "messages = [\n",
    "    SystemMessage(\n",
    "        content=\"我希望你扮演一个中文语法和心理咨询专家，你需要根据语境纠正下列文本中的OCR的语法错误和中文符号使用错误。我希望你以json格式输出纠正错误OCR识别后的结果。json元素的键值包括：'id','participant','text','reason',其中'id','participant' 保留原始数据，不得修改，如果text中有语法或符号错误，输出修改后结果。'reason'记录修改原因，如果没有修改，reason值为空。请不要大幅度修改句子结构，主要修改错词和错误的中文标点符号。下面为三个例子：\"\n",
    "    ),\n",
    "    HumanMessage(\n",
    "        content=r\"\"\"请你帮我纠正下面这段心理咨询对话OCR后的结果，以json数组形式输入，以json数组的形式输出:\"\"\"+input_str\n",
    "    ),\n",
    "    AIMessage(content=output_str),\n",
    "    HumanMessage(\n",
    "        content=r\"\"\"请你帮我纠正下面这段心理咨询对话OCR后的结果，以json数组形式输入，以json数组的形式输出:\"\"\"+input_str2\n",
    "    ),\n",
    "    AIMessage(\n",
    "        content=output_str2\n",
    "    ),\n",
    "    HumanMessage(content=r\"\"\"请你帮我纠正下面这段心理咨询对话OCR后的结果，以json数组形式输入，以json数组的形式输出:\"\"\"+input_str3),\n",
    "    AIMessage(\n",
    "        content=output_str3\n",
    "    ),\n",
    "    HumanMessage(content=\"请你帮我纠正下面这段心理咨询对话OCR后的结果，以json数组形式输入，以json数组的形式输出:\"+json.dumps(cn_dialog_data[170]['dialog_list'],ensure_ascii=False))\n",
    "]\n"
   ]
  },
  {
   "cell_type": "code",
   "execution_count": 46,
   "metadata": {},
   "outputs": [],
   "source": [
    "from langchain.callbacks import get_openai_callback\n",
    "from langchain_openai import OpenAI\n",
    "with get_openai_callback() as cb:\n",
    "    chat_res=chat(messages)"
   ]
  },
  {
   "cell_type": "code",
   "execution_count": 47,
   "metadata": {},
   "outputs": [
    {
     "data": {
      "text/plain": [
       "3251"
      ]
     },
     "execution_count": 47,
     "metadata": {},
     "output_type": "execute_result"
    }
   ],
   "source": [
    "print(cb.total_tokens)"
   ]
  },
  {
   "cell_type": "code",
   "execution_count": 45,
   "metadata": {},
   "outputs": [
    {
     "data": {
      "text/plain": [
       "('[{\"id\": \"315-0\", \"participant\": \"来访者\", \"text\": \"“不太多，大概50%。”\"}, {\"id\": \"315-1\", \"participant\": \"来访者\", \"text\": \"“我不能肯定你意指什么。\\\\\"\"}, {\"id\": \"315-2\", \"participant\": \"来访者\", \"text\": \"“我们一直在谈论我去见助教的事，我想我真的认为请求帮助狠好，我会去的。”\"}, {\"id\": \"315-3\", \"participant\": \"来访者\", \"text\": \"“我可能试图为学经济学找一个家庭救师.我可能请求从下面大厅那个小伏子那儿循笔记。”\"}, {\"id\": \"315-4\", \"participant\": \"来访者\", \"text\": \"“我能得到我需要的帮助。”\"}, {\"id\": \"315-5\", \"participant\": \"来访者\", \"text\": \"“也许。”\"}]',\n",
       " '[\\n  {\\n    \"id\": \"315-0\",\\n    \"participant\": \"来访者\",\\n    \"text\": \"“不太多，大概50%。”\",\\n    \"reason\": \"\"\\n  },\\n  {\\n    \"id\": \"315-1\",\\n    \"participant\": \"来访者\",\\n    \"text\": \"“我不能肯定你意指什么。”\",\\n    \"reason\": \"\"\\n  },\\n  {\\n    \"id\": \"315-2\",\\n    \"participant\": \"来访者\",\\n    \"text\": \"“我们一直在谈论我去见助教的事，我想我真的认为请求帮助很好，我会去的。”\",\\n    \"reason\": \"狠->很\"\\n  },\\n  {\\n    \"id\": \"315-3\",\\n    \"participant\": \"来访者\",\\n    \"text\": \"“我可能试图为学经济学找一个家庭教师。我可能请求从下面大厅那个小办公室那儿拿笔记。”\",\\n    \"reason\": \"救师->教师 循->拿\"\\n  },\\n  {\\n    \"id\": \"315-4\",\\n    \"participant\": \"来访者\",\\n    \"text\": \"“我能得到我需要的帮助。”\",\\n    \"reason\": \"\"\\n  },\\n  {\\n    \"id\": \"315-5\",\\n    \"participant\": \"来访者\",\\n    \"text\": \"“也许。”\",\\n    \"reason\": \"\"\\n  }\\n]')"
      ]
     },
     "execution_count": 45,
     "metadata": {},
     "output_type": "execute_result"
    }
   ],
   "source": [
    "json.dumps(cn_dialog_data[315]['dialog_list'],ensure_ascii=False),chat_res.content"
   ]
  },
  {
   "cell_type": "code",
   "execution_count": null,
   "metadata": {},
   "outputs": [],
   "source": [
    "chat_res.content"
   ]
  },
  {
   "cell_type": "code",
   "execution_count": 73,
   "metadata": {},
   "outputs": [
    {
     "data": {
      "text/plain": [
       "'[{\"id\": \"312-0\", \"participant\": \"治疗师\", \"text\": \"你是否认识你认为有与你同样信念的其他什么人，“如果我不势力工作，我就会失败，？\"}, {\"id\": \"312-1\", \"participant\": \"来访者\", \"text\": \"我可以肯定我的期友唐娜从高中起就那样认为，地总是日目夜夜的学习。\"}, {\"id\": \"312-2\", \"participant\": \"治疗师\", \"text\": \"你认为那个信念适合她的准确性如何？\"}, {\"id\": \"312-3\", \"participant\": \"来访者\", \"text\": \"不是绝对的，她很聪明，如果她努力的话，她可能不会失败。\"}, {\"id\": \"312-4\", \"participant\": \"治疗师\", \"text\": \"是不是也有可能她会认为任何低于A的都是失败者？\\\\\"\"}, {\"id\": \"312-5\", \"participant\": \"来访者\", \"text\": \"是的，我知道她是这样的。\"}, {\"id\": \"312-6\", \"participant\": \"治疗师\", \"text\": \"如果她得了B，她就是失败者，你同意她的观点吗？\"}, {\"id\": \"312-7\", \"participant\": \"来访者\", \"text\": \"不，当然不。\"}, {\"id\": \"312-8\", \"participant\": \"治疗师\", \"text\": \"你是如何看待它的？\"}, {\"id\": \"312-9\", \"participant\": \"来访者\", \"text\": \"她得了B，一个还可以的成绩，虽不是最好，但也不是失败者。\"}, {\"id\": \"312-10\", \"participant\": \"治疗师\", \"text\": \"你愿意她有什么样的信念？\"}, {\"id\": \"312-11\", \"participant\": \"来访者\", \"text\": \"努力学习争取得A这很好，但是如果你没有得到，这并不就是世界末日，因而也不意味着你是失败者。\"}, {\"id\": \"312-12\", \"participant\": \"治疗师\", \"text\": \"“所有这些运用于你身上会如何？\"}, {\"id\": \"312-13\", \"participant\": \"来访者\", \"text\": \"我想是一群的。\"}, {\"id\": \"312-14\", \"participant\": \"治疗师\", \"text\": \"你能说出什么是一样的吗？\"}, {\"id\": \"312-15\", \"participant\": \"来访者\", \"text\": \"它就是即使我没有全得A，我也不是失败者，虽然我仍然认为应该势力学习。\\\\\"\"}, {\"id\": \"312-16\", \"participant\": \"治疗师\", \"text\": \"是的，想努力学习并做好这合乎情理、不合理的部分是认为如果你没有做得很好，你就失败了，对此你同意吗？\"}]'"
      ]
     },
     "execution_count": 73,
     "metadata": {},
     "output_type": "execute_result"
    }
   ],
   "source": [
    "json.dumps(cn_dialog_data[312]['dialog_list'],ensure_ascii=False)"
   ]
  },
  {
   "cell_type": "code",
   "execution_count": null,
   "metadata": {},
   "outputs": [],
   "source": [
    "# input_str2="
   ]
  },
  {
   "cell_type": "code",
   "execution_count": 65,
   "metadata": {},
   "outputs": [
    {
     "data": {
      "text/plain": [
       "'[\\n  {\\n    \"id\": \"312-0\",\\n    \"participant\": \"治疗师\",\\n    \"text\": \"你是否认识到你认为与你同样信念的其他什么人，“如果我不努力工作，我就会失败，？”\",\\n    \"reason\": \"修改了句子结构和错词\"\\n  },\\n  {\\n    \"id\": \"312-1\",\\n    \"participant\": \"来访者\",\\n    \"text\": \"我可以确信我的朋友唐娜从高中起就那样认为，地总是日目夜夜的学习。\",\\n    \"reason\": \"修改了错词\"\\n  },\\n  {\\n    \"id\": \"312-2\",\\n    \"participant\": \"治疗师\",\\n    \"text\": \"你认为那个信念适合她的准确性如何？\",\\n    \"reason\": \"修改了错词\"\\n  },\\n  {\\n    \"id\": \"312-3\",\\n    \"participant\": \"来访者\",\\n    \"text\": \"不是绝对的，她很聪明，如果她努力的话，她可能不会失败。\",\\n    \"reason\": \"修改了错词\"\\n  },\\n  {\\n    \"id\": \"312-4\",\\n    \"participant\": \"治疗师\",\\n    \"text\": \"是不是也有可能她会认为任何低于A的都是失败者？\",\\n    \"reason\": \"修改了错词\"\\n  },\\n  {\\n    \"id\": \"312-5\",\\n    \"participant\": \"来访者\",\\n    \"text\": \"是的，我知道她是这样的。\",\\n    \"reason\": \"\"\\n  },\\n  {\\n    \"id\": \"312-6\",\\n    \"participant\": \"治疗师\",\\n    \"text\": \"如果她得到了B，一个还可以的成绩，虽不是最好，但也不是失败者，你同意她的观点吗？\",\\n    \"reason\": \"修改了错词\"\\n  },\\n  {\\n    \"id\": \"312-7\",\\n    \"participant\": \"来访者\",\\n    \"text\": \"不，当然不。\",\\n    \"reason\": \"\"\\n  },\\n  {\\n    \"id\": \"312-8\",\\n    \"participant\": \"治疗师\",\\n    \"text\": \"你是如何看待它的？\",\\n    \"reason\": \"\"\\n  },\\n  {\\n    \"id\": \"312-9\",\\n    \"participant\": \"来访者\",\\n    \"text\": \"她得到了B，一个还可以的成绩，虽不是最好，但也不是失败者。\",\\n    \"reason\": \"\"\\n  },\\n  {\\n    \"id\": \"312-10\",\\n    \"participant\": \"治疗师\",\\n    \"text\": \"你能说出什么是一样的吗？\",\\n    \"reason\": \"\"\\n  },\\n  {\\n    \"id\": \"312-11\",\\n    \"participant\": \"来访者\",\\n    \"text\": \"它就是即使我没有全得A，我也不是失败者，虽然我仍然认为应该努力学习。\",\\n    \"reason\": \"\"\\n  },\\n  {\\n    \"id\": \"312-12\",\\n    \"participant\": \"治疗师\",\\n    \"text\": \"“所有这些运用于你身上会如何？\",\\n    \"reason\": \"\"\\n  },\\n  {\\n    \"id\": \"312-13\",\\n    \"participant\": \"来访者\",\\n    \"text\": \"我想是一样的。\",\\n    \"reason\": \"\"\\n  },\\n  {\\n    \"id\": \"312-14\",\\n    \"participant\": \"治疗师\",\\n    \"text\": \"你能说出什么是一样的吗？\",\\n    \"reason\": \"\"\\n  },\\n  {\\n    \"id\": \"312-15\",\\n    \"participant\": \"来访者\",\\n    \"text\": \"它就是即使我没有全得A，我也不是失败者，虽然我仍然认为应该努力学习。”\",\\n    \"reason\": \"\"\\n  },\\n  {\\n    \"id\": \"312-16\",\\n    \"participant\": \"治疗师\",\\n    \"text\": \"是的，想努力学习并做好这合乎情理、不合理的部分是认为如果你没有做得很好，你就失败了，对此你同意吗？\",\\n    \"reason\": \"修改了错词\"\\n  }\\n]'"
      ]
     },
     "execution_count": 65,
     "metadata": {},
     "output_type": "execute_result"
    }
   ],
   "source": [
    "chat_res.content"
   ]
  },
  {
   "cell_type": "code",
   "execution_count": null,
   "metadata": {},
   "outputs": [],
   "source": []
  },
  {
   "cell_type": "code",
   "execution_count": 6,
   "metadata": {},
   "outputs": [],
   "source": [
    "### 上面是summary处理设计"
   ]
  },
  {
   "cell_type": "code",
   "execution_count": 4,
   "metadata": {},
   "outputs": [],
   "source": [
    "def summarize(to_summary_list):\n",
    "    summarized_list=[]\n",
    "    for item in to_summary_list[:]:\n",
    "        if len(item)>1000:\n",
    "            messages[-1]=HumanMessage(content=item[\"content\"]+\"\"\"###请将这段话做摘要，要求450字左右，总结治疗师的策略。\"\"\")\n",
    "        else:\n",
    "            messages[-1]=HumanMessage(content=item[\"content\"]+\"\"\"###请将这段话做摘要，要求250字左右，总结治疗师的策略。\"\"\")\n",
    "\n",
    "        result=chat(messages)\n",
    "        summarized_list.append(result)\n",
    "    \n",
    "    return summarized_list\n"
   ]
  },
  {
   "cell_type": "code",
   "execution_count": 5,
   "metadata": {},
   "outputs": [],
   "source": [
    "import json\n",
    "\n",
    "def save_tmp_file(summarized_list,to_summary_list,file_n):\n",
    "    json_file_path=f\"./z2jsoninputdir_to_summary/{file_n}.json_summarized_list.json\"\n",
    "    save_json_content=[]\n",
    "    for idx,item in enumerate(to_summary_list):\n",
    "        result_json={\n",
    "            \"ID\":item[\"ID\"],\n",
    "            \"len\":item[\"len\"],\n",
    "            \"content\":item[\"content\"],\n",
    "            \"summary\":summarized_list[idx].content\n",
    "        }\n",
    "        save_json_content.append(result_json)\n",
    "    with open(json_file_path,\"w\") as json_file_:\n",
    "        json.dump(save_json_content,json_file_,ensure_ascii=False)\n",
    "    return save_json_content\n"
   ]
  },
  {
   "cell_type": "code",
   "execution_count": 6,
   "metadata": {},
   "outputs": [],
   "source": [
    "\n",
    "def reload_summary(save_json_content,json_res):\n",
    "    count_long=0\n",
    "    for i in range(0,len(json_res)):\n",
    "        if json_res[i]['key']=='reasoning':\n",
    "            if len(json_res[i]['content'])>450:\n",
    "                print(save_json_content[count_long]['len']==len(json_res[i]['content']))\n",
    "                # print(save_json_content[count_long]['summary'], json_res[i]['content'])\n",
    "                json_res[i]['content']=save_json_content[count_long]['summary']\n",
    "                json_res[i]['text_before_summary']=save_json_content[count_long]['content']\n",
    "                count_long+=1\n",
    "    return json_res\n"
   ]
  },
  {
   "cell_type": "code",
   "execution_count": 7,
   "metadata": {},
   "outputs": [],
   "source": [
    "import json\n",
    "def save_final_file(json_res,file_n):\n",
    "    with open(f\"./z2jsonoutputdir/{file_n}.json\",\"w\") as json_file_:\n",
    "        json.dump(json_res, json_file_, ensure_ascii=False)\n",
    "\n",
    "### 当处理其他文件流时要小心文件名"
   ]
  },
  {
   "cell_type": "code",
   "execution_count": 8,
   "metadata": {},
   "outputs": [
    {
     "name": "stdout",
     "output_type": "stream",
     "text": [
      "./z2jsoninputdir/隔开拼接CN母婴互动及成人心理治疗的主体形式[OCR].txt.json,\n",
      "0 502\n",
      "1 496\n",
      "2 627\n",
      "3 454\n",
      "4 750\n",
      "5 2127\n",
      "6 993\n",
      "7 1180\n",
      "[64, 502, 175, 496, 627, 139, 454, 194, 750, 132, 401, 57, 135, 57, 415, 194, 82, 149, 58, 120, 77, 285, 2127, 993, 144, 90, 236, 261, 443, 18, 100, 1180, 14, 84, 169] 326.34285714285716 35 84\n"
     ]
    },
    {
     "name": "stderr",
     "output_type": "stream",
     "text": [
      "/home/szk/miniconda3/envs/DataProc/lib/python3.9/site-packages/langchain_core/_api/deprecation.py:117: LangChainDeprecationWarning: The function `__call__` was deprecated in LangChain 0.1.7 and will be removed in 0.2.0. Use invoke instead.\n",
      "  warn_deprecated(\n"
     ]
    },
    {
     "name": "stdout",
     "output_type": "stream",
     "text": [
      "摘要完成\n",
      "摘要非空，开始替换\n",
      "True\n",
      "True\n",
      "True\n",
      "True\n",
      "True\n",
      "True\n",
      "True\n",
      "True\n",
      "./z2jsoninputdir/隔开拼接CN完型治疗100个[OCR]2_dialogs.txt.json,\n",
      "[279, 176, 25] 160.0 3 7\n",
      "摘要完成\n",
      "./z2jsoninputdir/隔开拼接CNSFBT_许维素_尊重与希望[OCR]10_dialogs.txt.json,\n",
      "0 1148\n",
      "1 1730\n",
      "2 1016\n",
      "3 918\n",
      "4 819\n",
      "5 463\n",
      "6 1010\n",
      "7 1478\n",
      "[1148, 15, 1730, 24, 9, 14, 9, 8, 6, 1016, 918, 19, 24, 210, 819, 463, 355, 304, 1010, 438, 1478] 477.0 21 52\n",
      "摘要完成\n",
      "摘要非空，开始替换\n",
      "True\n",
      "True\n",
      "True\n",
      "True\n",
      "True\n",
      "True\n",
      "True\n",
      "True\n",
      "./z2jsoninputdir/隔开拼接CN家庭疗法100个[OCR]about_13_dialogs.txt.json,\n",
      "0 941\n",
      "1 825\n",
      "2 976\n",
      "3 556\n",
      "4 713\n",
      "5 929\n",
      "6 571\n",
      "7 784\n",
      "[277, 941, 4, 330, 21, 825, 22, 976, 556, 713, 166, 430, 276, 396, 57, 929, 255, 51, 53, 571, 26, 784, 66] 379.3478260869565 23 60\n",
      "摘要完成\n",
      "摘要非空，开始替换\n",
      "True\n",
      "True\n",
      "True\n",
      "True\n",
      "True\n",
      "True\n",
      "True\n",
      "True\n",
      "./z2jsoninputdir/隔开拼接CNSFBT_100个[OCR]21_dialogs.txt.json,\n",
      "0 658\n",
      "1 1129\n",
      "2 599\n",
      "3 573\n",
      "4 601\n",
      "5 619\n",
      "6 559\n",
      "7 855\n",
      "8 556\n",
      "9 627\n",
      "10 1365\n",
      "[658, 1129, 599, 573, 128, 601, 277, 247, 96, 307, 285, 619, 559, 855, 269, 110, 94, 436, 556, 297, 627, 1365, 194] 473.0869565217391 23 65\n",
      "摘要完成\n",
      "摘要非空，开始替换\n",
      "True\n",
      "True\n",
      "True\n",
      "True\n",
      "True\n",
      "True\n",
      "True\n",
      "True\n",
      "True\n",
      "True\n",
      "True\n",
      "./z2jsoninputdir/隔开拼接CN理性情绪行为法100个[OCR]about_5_dialogs.txt.json,\n",
      "0 795\n",
      "1 1002\n",
      "[795, 209, 131, 151, 1002, 145] 405.5 6 17\n",
      "摘要完成\n",
      "摘要非空，开始替换\n",
      "True\n",
      "True\n",
      "./z2jsoninputdir/隔开拼接CNSFBT-建构解决之道-许维素[OCR]about_9_dialogs.txt.json,\n",
      "0 823\n",
      "1 1001\n",
      "2 572\n",
      "3 727\n",
      "4 457\n",
      "5 825\n",
      "6 683\n",
      "7 842\n",
      "8 682\n",
      "9 1406\n",
      "[823, 1001, 572, 727, 457, 825, 434, 683, 842, 19, 22, 682, 112, 290, 1406] 593.0 15 42\n",
      "摘要完成\n",
      "摘要非空，开始替换\n",
      "True\n",
      "True\n",
      "True\n",
      "True\n",
      "True\n",
      "True\n",
      "True\n",
      "True\n",
      "True\n",
      "True\n"
     ]
    }
   ],
   "source": [
    "import regex # 导入正则包\n",
    "import os\n",
    "import re\n",
    "# import regex\n",
    "import json\n",
    "path = \"./z2jsoninputdir\"  # 文件夹目录\n",
    "files = os.listdir(path) # 读取文件夹目录\n",
    "allresult = [] # 定义空列表\n",
    "for file_name in files[:]:  # 遍历文件夹\n",
    "    file_path=path+'/'+file_name\n",
    "    print(file_path+\",\")\n",
    "    with open(file_path,\"r\") as file_:\n",
    "        json_res=json.load(file_)\n",
    "        len_res=[]\n",
    "        sum_res=0\n",
    "        count_res=0\n",
    "        long_count=0\n",
    "        to_summary_list=[]\n",
    "        for i in range(0,len(json_res)):\n",
    "            # print(res_json[i][''])\n",
    "            if json_res[i]['key']=='reasoning':\n",
    "                len_res.append(len(json_res[i]['content']))\n",
    "                sum_res+=len(json_res[i]['content'])\n",
    "                count_res+=1 \n",
    "                if len(json_res[i]['content'])>450:\n",
    "                    print(long_count,len(json_res[i]['content']))\n",
    "                    long_count+=1  \n",
    "                    to_summary_list.append({\"ID\":i,\"len\":len(json_res[i]['content']),\"content\":json_res[i]['content']})\n",
    "        print(len_res,sum_res/count_res,count_res,len(json_res),)\n",
    "        summarized_list=summarize(to_summary_list)\n",
    "        print(\"摘要完成\")\n",
    "        if summarized_list:\n",
    "            print(\"摘要非空，开始替换\")\n",
    "            save_json_content=save_tmp_file(summarized_list,to_summary_list,file_name)\n",
    "            json_res=reload_summary(save_json_content,json_res)\n",
    "        save_final_file(json_res,file_name)\n",
    "\n",
    "        "
   ]
  },
  {
   "cell_type": "code",
   "execution_count": 18,
   "metadata": {},
   "outputs": [
    {
     "data": {
      "text/plain": [
       "{'key': 'reasoning', 'content': '认知行为疗法\\n认知行为疗法概述\\n'}"
      ]
     },
     "execution_count": 18,
     "metadata": {},
     "output_type": "execute_result"
    }
   ],
   "source": [
    "json_res[0]"
   ]
  },
  {
   "cell_type": "code",
   "execution_count": 2,
   "metadata": {},
   "outputs": [
    {
     "name": "stdout",
     "output_type": "stream",
     "text": [
      "0 785\n",
      "1 2370\n",
      "2 869\n",
      "3 618\n",
      "4 531\n",
      "5 722\n",
      "6 566\n",
      "7 1505\n",
      "8 512\n",
      "9 582\n",
      "10 567\n",
      "11 2044\n",
      "12 558\n",
      "13 503\n",
      "14 491\n",
      "15 587\n",
      "16 809\n",
      "17 462\n",
      "18 518\n",
      "19 830\n",
      "20 1146\n",
      "21 490\n",
      "22 1491\n",
      "23 944\n",
      "24 501\n",
      "25 820\n",
      "26 520\n",
      "27 573\n",
      "28 547\n",
      "29 533\n",
      "30 464\n",
      "31 529\n",
      "32 496\n",
      "33 700\n",
      "34 531\n",
      "35 553\n",
      "36 1028\n",
      "37 489\n",
      "38 724\n",
      "39 543\n",
      "40 760\n",
      "[785, 2370, 869, 618, 317, 531, 427, 263, 281, 228, 104, 722, 173, 566, 154, 1505, 278, 512, 582, 58, 78, 187, 126, 177, 567, 380, 242, 325, 58, 145, 84, 267, 85, 76, 81, 118, 2044, 120, 31, 558, 503, 21, 142, 147, 108, 76, 366, 85, 123, 44, 125, 165, 73, 114, 84, 249, 54, 85, 491, 157, 25, 63, 160, 320, 194, 587, 34, 78, 225, 77, 112, 809, 462, 91, 120, 419, 382, 136, 232, 193, 155, 51, 130, 134, 397, 278, 218, 123, 518, 303, 73, 830, 53, 78, 132, 130, 155, 1146, 30, 23, 186, 240, 78, 44, 417, 490, 209, 1491, 249, 224, 73, 200, 437, 185, 60, 49, 204, 102, 944, 161, 56, 352, 45, 47, 501, 820, 84, 520, 112, 369, 415, 390, 101, 56, 94, 573, 149, 303, 423, 250, 92, 93, 249, 547, 361, 127, 533, 464, 529, 268, 444, 496, 178, 110, 98, 196, 284, 43, 119, 354, 212, 72, 43, 33, 230, 341, 78, 345, 126, 121, 700, 302, 531, 366, 219, 553, 1028, 186, 448, 230, 198, 489, 48, 724, 543, 22, 65, 760] 299.3670212765957 188 375\n"
     ]
    }
   ],
   "source": [
    "\n"
   ]
  },
  {
   "cell_type": "code",
   "execution_count": 11,
   "metadata": {},
   "outputs": [
    {
     "data": {
      "text/plain": [
       "{'ID': 3,\n",
       " 'len': 2370,\n",
       " 'content': '这里，来访者能够容易地识别和评价自已功能障碍的想法，“我不能应付工作”具有标准问题（见第八章）。许多来访者面临相似的同题，他们需要相当多的治疗性的努力，才会愿意将行为习惯坚持到底。虽然治疗必须针对每个个体，因人而有，然而，有些认知治疗的基本原理是适合于每个来访者的。\\n原理1：认知治疗是以认知期间来访者曾经发展的系统形式和问题为基础的。来访者的治疗师在三个回合中探索把她的困难概念化。起初，他识别自前使来访者持续感到悲伤的想法（我是失败者，我不能做任何事，我将来不会幸福，他还识别来访者有问题的行为（隔离她自已、过多地睡眠，回避寻求帮助），记下这些问题行为这些行为产生了来访者功能障碍的想法，而且依次强化了她的这科想法。接着，治疗师识别在首次发作抑郁症时使来访者的感觉急剧低落的原因（如：首次离家，认为自已学识不够因而拼命学习）。\\n第三，治疗师假设关键的发展事件和来访者解释这些事件的持久的模型，这些均使她易患抑郁症（如：来访者有一种终身的趋势，就是将个人的力量和成功归因为幸运，而不是观察自己的有关弱点蔽为真实自我的写照）。\\n在最初的会谈中，来访者的治疗师根据她提供的资料制定治疗方案，而且，在整个治疗过程中，随着获得的资料越来越多，他不断精炼这种概念形成的过程。在治疗策略上，他与来访者分享概念形成的过程，使她确信这是真实的。而且，在整个治疗期间，治疗师通过认知模式帮助来访者观察她的经历。例如：她学会识别与自己烦恼情绪有关的想法，学会评价和制定更多的适合自己想法的措施。做了这样的改进，她自我感觉很好，而且经常使她的行为具有更多的功能。\\n原理2：认知治疗要求正确的治疗性联盟。来访者和其他许多患单纯抑郁症和焦虑症的来访者一样，她与她的治疗师在相互信任与合作方面有一些困难，而她的治疗师在会谈时展示了所有基本的必需具备的素质：热情、全神贯注、关心、真正的尊重和能力。\\n他通过对来访者全神贯注、仔细地-一字不漏地倾听，准确地概括来访者的想法和感受，真实而现实的乐观和愉快表明他对来访者的尊重。\\n在每次治疗期结束时，他同样要求来访者给予反馈信息，以确保来访者体会到被人理解且对治疗持积极态度。\\n其他来访者，尤其是那些具有人格障碍的来访者，需要把更多的重点放在治疗师与来访者的治疗关系上以创造一种良好的工作联盟（贝克等1990：杨，1990）。如果来访者有这样的要求，她的治疗师会花更多的时间通过各种不同的方式建立他们的治疗联盟，包括让来访者定期识别和评价她对治疗筛的着法，原理3：认知治疗的重点在于合作和积极参与。来访者的治疗师鼓励她观察治疗作为合作，他们一起决定这些事情。如：每次治疗做些什么，他们多久应该会谈，以及两次治疗间隔期间来访者应该为治疗家做什么家庭作业。开始时，她的治疗师较为积极地为各治疗期提出指导，并积极地概括治疗时他们所讨论的内容。\\n随着来访者抑郁减轻并更多地参与到治疗中，她的治疗师鼓励她成为治疗期内更为积极的参与者，让她决定要谈哪个话题，识别其想法的曲解之处、概括要点、做出家庭作业安排表。\\n原理4：认知治疗是确定自标、关注问题。来访者的治疗师在他们的首次治疗期要求她列举自己的问题并确定特殊的目标。例如一个最初的问题涉及孤独感。在治疗师指导下，她用行为术语阐述了一个目标：着手发展新的友谊并与自前的朋友保持更亲密的关系。治疗师帮助她评价妨碍其实现目标的想法并做出反应，如“我没有任何东西能提供给任何人，他们可能不想和我在一起。”\\n首先，他在办公室通过检查证据来帮助她评价这些想法的效度。\\n然后，来访者愿意通过几个实验更直接地检验这些想法，她开始与一位熟人和-位朋友进行这些实验计划。一且她认识并改正曲解的想法，就能够直接从解决问题中获益，以便改善其人际关系。\\n因此，治疗师特别注意那些阻碍来访者解决问题和达到其目标。许多来访者在其障碍首次发作前具有良好的功能，他们可能不需要直接训练如何解决问题。相反，他们得益于对功能障碍的想法的评价，这些功能障碍的想法妨碍了他们使用自已先前获得的技能。其他来访者对解决问题认识不足，他们确实需要直接指寻以便学会这些技巧。因此，治疗师需要针对个别来访者的特殊困难形成概念并估计适当的干预水平。\\n原理5：认知治疗首要的重点是现在。绝大多数来访者的治疗涉及的强烈的焦点在于目前的问题和困扰来访者的某些特殊情境。\\n解决和或更真实地评价目前正在困扰来访者的处境，通常能使症状减轻。因而，认知治疗师常倾向于从检查自前的尚题开始治托，不管诊断如何。下列三种情况可将注意力转移到过去：当来访者表达一种强烈的偏爱要求这样做：当直接针对自前问题的治疗工作产生很少一点或没有产生认知的、行为的和情绪的改变的时候：当治疗师判定对理解一些问题具有重要意义时，如重要的丧失功能的想法是何时、怎样产生的，这些想法如何影响来访者的今天。例如：来访者的治疗师在治疗中途和她讨论童年的事件，以便帮助她识别她儿时学到的一系列信念，“如果我成绩好，这意味着我是个好人”和“如果我成绩不好，这意味着我是失败者”。治疗师帮她评估这些信念在过去和现在的效度。这样做部分地使来访者发展了更有功能和更加合理的信念。如果来访者有人格障碍，治疗师会相应地花更多时间讨论她的发育史和童年信念的起源以及应对的行为。原理6：认知治疗是有教育意义的，的在于教会来访者成为其自己的治疗师，而强调防止复发。在首次治疗时，获来访者的治疗师教导她关于她的障碍的本质和过程，认知治疗的过程以及认知模式（如，来访者的想法如何影啊响她的情感和行为），他不仅帮助她设定目标，识别和评价自已的想法，信念和制订行为改变的计划、而耳.教会她如何去做。每次治疗时，他鼓励来访者写下她已经使来访者了解他（她）的障碍8.安排家庭指定作业9提供一个概括10.引出反馈。\\n'}"
      ]
     },
     "execution_count": 11,
     "metadata": {},
     "output_type": "execute_result"
    }
   ],
   "source": [
    "to_summary_list[1]"
   ]
  },
  {
   "cell_type": "code",
   "execution_count": 15,
   "metadata": {},
   "outputs": [
    {
     "data": {
      "text/plain": [
       "[AIMessage(content='认知治疗在治疗多种心理问题上显示出了显著的有效性，包括重性抑郁症、广泛焦虑障碍、惊恐障碍、社交恐惧症、进食障碍等。此外，认知治疗也被广泛应用于其他许多障碍，如强迫症、创伤后应激障碍、人格障碍、慢性疼痛等。研究表明，认知治疗适用于不同教育水平、收入和经历的个体，以及各个年龄阶段的来访者。此外，认知治疗也已经针对集体治疗、配偶问题和家庭治疗进行了修正。在认知治疗中，治疗师通过对来访者的认知系统进行概念化或理解，寻找各种方式产生认知改变，以导致情感和行为的持久改变。治疗师通过引用具体案例来阐述认知治疗的概念和过程，以及对来访者的具体干预策略。治疗师通过详细说明来访者的问题、评估相关的功能障碍、制定合理计划以及评估预措施的有效性，展示了认知治疗的干预过程。'),\n",
       " AIMessage(content='治疗师采用认知治疗的基本原理，针对来访者的功能障碍进行治疗。首先，治疗师通过探索来访者的困难概念化，识别她的困难想法和行为，并帮助她理解这些想法的来源。治疗师与来访者分享概念形成的过程，通过认知模式帮助来访者观察自己的经历，鼓励她评价和制定更适合自己的想法的措施。治疗师建立正确的治疗性联盟，展示热情、全神贯注、关心和真正的尊重，通过对来访者的想法和感受的准确概括，表明对来访者的尊重。治疗师鼓励来访者观察治疗作为合作，共同决定治疗的方向和目标，并帮助来访者评价和克服阻碍实现目标的想法。治疗师特别关注阻碍来访者解决问题和达到目标的想法，帮助来访者评价这些想法的效度，并进行实验以检验这些想法。最后，治疗师重点关注现在的问题，帮助来访者解决目前困扰她的处境，以减轻症状。治疗师通过教育来访者认知治疗的过程和认知模式，教会她成为自己的治疗师，并强调预防复发的重要性。'),\n",
       " AIMessage(content='治疗师应在日程中纳入与来访者服药情况、自杀意念、酒精或药物滥用等相关问题的讨论。在第一次会谈中，治疗师应重点关注建立相互信任和情感协调，特别是对于有自杀意念或危机的来访者。治疗师需要通过言语、语气、面部表情和体态语言来表现移情，以确保来访者感到被理解和受到重视。治疗师应传达对来访者的关心和重视，表达对来访者的尊重和愿意合作的态度，并在每次会谈结束时检查来访者对治疗过程的知觉，以促进治疗的进展。此外，治疗师应不断诱发来访者的反馈，分析并纠正来访者的错误知觉，以加速治疗过程。日程设置的重要目标是开始社会化来访者进入认知治疗，并提供简明的基本原则。这些策略有助于建立良好的治疗关系，促进治疗的有效进行。'),\n",
       " AIMessage(content='治疗师通过日程设置和心境检查等策略，有效地引导来访者参与治疗过程。日程设置的基本原则和清晰解释使来访者能够理解治疗过程，并有助于聚焦于最重要的问题，避免不必要的会谈。治疗师在复习家庭作业时再次确认日程设置，确保来访者能够掌握如何安排日程。此外，心境检查通过客观的自我报告问卷和量表，如贝克抑郁问卷和0～100等级量表，帮助治疗师和来访者掌握来访者的客观状况，包括睡眠困难、性功能减退等问题。这些策略有助于治疗师更全面地了解来访者的状况，引导来访者更有效地参与治疗过程。'),\n",
       " AIMessage(content='治疗师在会谈早期，通过鼓励来访者写下问题或目标，帮助来访者更积极地参与治疗。治疗师建议来访者在每次会谈时记录要点，以便双方都能保留复印件。当来访者不能或不愿意写时，治疗师应帮助来访者做记录，可以通过画图或听会谈录音带的方式加强主要治疗思想。此外，治疗师还指导来访者用行为术语制定总体目标，并要求来访者思索家庭作业录。治疗师在会谈结束前概括讨论内容，教育来访者了解认知模式，旨在培养来访者成为自己的认知治疗师。治疗师通过训练来访者掌握认知模式，用她自己的例子讲解治疗预示，帮助来访者理解治疗方式和目标。这些策略旨在促进来访者更积极地参与治疗，加强对治疗内容的理解和应用。'),\n",
       " AIMessage(content='治疗师应确保来访者能够成功完成治疗家庭作业，如有必要，提议撤销不适合的任务。在处理可能的抵触情绪时，治疗师需要解释家庭作业与学校作业的区别，并寻找更易接受的术语，如“自助行动”。治疗师还应追寻家庭作业对来访者的意义，以了解其背后的模式和情感反应。家庭指定作业包括阅读治疗相关材料和参与恢复愉快活动。每次会谈结束时，治疗师要求来访者提供反馈，以加强情感协调，提供信息并解决可能的误解。此外，治疗师还可以让来访者完成书面治疗报告，以促进表达和反思。这些策略旨在促进来访者的参与和合作，同时加强治疗师与来访者之间的沟通和理解。'),\n",
       " AIMessage(content='治疗师需要判断是否需要加强治疗联盟，以确保来访者对会谈满意并建立信任。他应灵活处理家庭指定作业，以验证来访者对认知治疗的疑虑。在面对反馈时，治疗师应表达理解并移情于来访者，促进协作和信任。第一次会谈的重要目标包括建立情感协调、精练概念化、教育来访者认知模式和障碍，以及提出希望和症状缓解。治疗师集中精力建立治疗合作关系和促进症状缓解。在心境检查中，治疗师引导来访者进行主观描述，并结合客观测试量表进行评估，同时比较前后评定，以了解来访者的真实状况。这些策略有助于治疗师全面了解来访者的需求，建立有效的治疗联盟，并促进治疗目标的达成。'),\n",
       " AIMessage(content='治疗师的策略包括通过简洁心境测试和本周回顾来验证来访者的情绪焦点，并与来访者一起检查过去会谈中的进步。治疗师还关注来访者的微小心境变化，并引导她解释这些变化的原因，以加强认知模式和暗示她的自我管理能力。此外，治疗师进行客观评估，寻找积极或消极的变化，并可能要求额外的资料以更全面了解来访者的问题。如果来访者正在接受药物治疗，治疗师会检查依从性问题、副作用或疑问，并建议必要时寻求医学或精神科会诊。最后，治疗师通过与以前会谈的联系，帮助来访者准备当前会谈，并鼓励她使用会谈连接作业表来做进一步反思。这些策略旨在促进有效的治疗过程，同时提醒来访者对治疗内容的复习和对治疗师的反馈。'),\n",
       " AIMessage(content='在会谈期间，治疗师可能会根据特殊情况提议改变时间分配，例如，来访者需要更多时间讨论特定问题，或出现了新的严重问题。治疗师会引导来访者回避次要问题，以确保会谈达到特定目标。此外，治疗师可能会故意约束来访者进行更随意的谈话，例如询问家庭情况或时事看法，以促进关系和心情愉快。家庭作业复习被认为对治疗效果有积极影响，规律完成家庭作业的来访者病情改进明显。治疗师强调家庭作业的重要性，并在每个会谈中进行复习，以传达连接工作的价值。家庭作业复习可能占据整个会谈时间，尤其当来访者想讨论的问题包括在家庭作业中时。治疗师在家庭作业复习中的角色是引导和支持来访者，确保其完成家庭作业并从中获益。'),\n",
       " AIMessage(content='治疗师计划在会谈期间复习所有家庭指定作业，并将考试的自动思维作为主要问题留待后续深入讨论。他将家庭作业复习与日程问题讨论融合，以确保会谈进展顺利。治疗师在日程问题讨论时给予来访者选择的权利，以促使她更积极主动地参与并负责任。同时，治疗师在会谈中贯穿治疗目标，加强认知模式，帮助来访者确认自动思维，并通过深入了解来维持和建立治疗师和来访者之间的协调关系。这些策略旨在促进来访者更深入地参与治疗过程，同时确保治疗目标得到贯彻和实现。'),\n",
       " AIMessage(content='治疗师可以要求来访者完成一份用心写出的治疗报告，以确保她充分表达对会谈的反馈。随着治疗的进展，治疗内容将根据来访者的问题和目标以及治疗师的目标而改变。在最初阶段，治疗师主导并帮助来访者确认和纠正自动思维，设计家庭指定作业，并概括会谈。随着治疗的进行，责任逐渐转移至来访者本人，她应能确定大多数日程条款，使用评估量表评估思维，设定自己的家庭指定作业，并概括治疗会谈。治疗师还逐渐从单独强调自动思维过渡到既强调自动思维也重视根本信念，并相对强调行为改变。在治疗的最后阶段，重点转移到准备结束会谈和预防复发。这些策略旨在逐步转移治疗责任，促进来访者的自我管理和行为改变，以实现治疗的最终目标。'),\n",
       " AIMessage(content='治疗师的策略包括向来访者传达她的问题是存在的，并可以逐个解决，同时强调她在解决问题过程中并不孤立。治疗师通过强行让来访者选取一个问题，帮助她聚焦并走向问题的解决，同时也接受来访者拒绝选择的可能性。治疗师还指出自动思维的重要性，帮助来访者认识并评估自己的思维模式，以及对自动思维进行合理的反应。治疗师通过举例讲解自动思维，帮助来访者理解自动思维的特点和影响，以及如何对自动思维进行评估和调整。这些策略旨在帮助来访者认识和应对自己的思维模式，从而促进情感的积极转变。'),\n",
       " AIMessage(content='治疗师的策略包括识别来访者在会谈中产生的自动思维，并通过回忆、想像、角色扮演或假设的方式引导来访者对会谈之间所遇到的困境曾有过的自动思维。治疗师通过提问来引导来访者识别自动思维，包括询问来访者在会谈中的内心想法，让来访者描述困境或情感变化的情境，并通过想像或角色扮演的方式详细描述特定情境并提出问题。此外，治疗师还通过推测来访者的内心想法、询问是否在想象或回忆特定情境以及询问情境对来访者的意义等方式来帮助来访者识别自动思维。治疗师强调在会谈中意识到来访者情感变化的时机是识别来访者自动思维的最佳时机。这些策略有助于帮助来访者认识和理解自己的自动思维模式，从而促进治疗过程的深入和有效进行。'),\n",
       " AIMessage(content='治疗师的策略包括保持对来访者语言和非语言线索的警觉，以引导出与情绪变化相关的重要自动思维。这些自动思维可能涉及来访者自身、治疗师或讨论主题，对其进行识别至关重要，因为它们在问题概念化中起着关键作用。治疗师需要及时识别这些自动思维，以创造迅速检验并对其做出反应的机会，从而促进会谈的顺利进行。治疗师还需要保持警觉，观察来访者的面部表情、肌肉紧张、姿势变化以及语调、音高、语量、语速的改变等非语言和语言线索，一旦注意到情感变化，立即询问来访者她心里所想，以检出自动思维。如果来访者无法表达自己的思维，治疗师可以通过让来访者集中于自己的情绪及生理反应的办法慢慢唤起她的回忆。'),\n",
       " AIMessage(content='治疗师的策略主要集中在教导来访者确认和评价错误的自动思维，并进行矫正。治疗过程从确认特定处境下的自动思维入手，需要治疗师认真倾听来访者的言辞，帮助她识别自动思维。治疗师努力帮助来访者区分自动思维与情绪，并通过不断设法帮助来访者用认知模式来看待她的体验。治疗师将来访者提供的材料按认知模式加以组织分类，同时保持警觉以应对来访者混淆思维和情绪的情况。在特定情况下，治疗师可以决定暂时忽略混淆，或在稍后讨论其他事情时加以解决。治疗师的策略旨在帮助来访者理解和纠正错误的自动思维，促进认知模式的建立和应用。'),\n",
       " AIMessage(content='治疗师的策略包括使用消极情绪清单和简短讨论来帮助少数来访者区分和量化情绪强度。这有助于来访者检验情绪强度，纠正错误的情绪信念，并评估思维和信念的适应性反应。治疗师通过评定情绪强度的变化来判断认知是否需要干预，并决定是否需要对特定处境进行更详尽的研究。这种策略有助于确保治疗师和来访者能够有效地处理情绪，帮助来访者学会自我评定情绪强度，从而更好地应对情绪和信念。'),\n",
       " AIMessage(content='治疗师的策略包括帮助来访者区分思维与情绪，理解来访者的情绪并帮助她评价影响心境的错误思维。治疗师在一次会谈中选择关键的自动思维进行评价，教会来访者评价自身思维的方法。在揭示出自动思维后，治疗师可以选择集中于该思维、进一步询问与该思维有关的处境、探明该自动思维的典型程度、确认该处境下出现的其他思维及想像、解决与自动思维有关的处境、探询隐藏在自动思维之后的信念，或转到其他话题。治疗师在做出选择时会考虑目标、来访者的日程安排、思维的重要性和典型程度，以及聚焦于该思维对来访者是否有普遍意义。这些策略旨在帮助来访者理解和处理影响情绪的错误思维，促进她的概念化和合作。'),\n",
       " AIMessage(content='治疗师在判断自动思维是否需要进一步讨论时，考虑了多个因素，包括来访者当前的情绪状态、是否已采取正确的方式来处理、处境是否已解决以及日程上的紧急问题。如果决定集中讨论某个自动思维，治疗师会询问来访者对该思维的信念程度和相关的情绪感受，以确定是否值得深入探讨。如果来访者坚信并且受到困扰，治疗师将根据认知模式提出问题，以获得更全面的印象。在获得更全面的印象后，治疗师会根据情况解释治疗的过程，以帮助来访者更好地理解治疗的目标和方法。这些策略有助于治疗师有效地处理来访者的自动思维，并引导来访者逐步认识和改变不利的认知模式。'),\n",
       " AIMessage(content='治疗师需要确定自动思维评价无效的原因，特别是当来访者仍然坚信自动思维且情绪没有改善时。治疗师应考虑以下原因：首先，可能存在其他尚未确认和评价的更为核心的自动思维或想像。其次，来访者对自动思维的评价可能不合理、表面化或不够充分。第三，来访者可能没有充分地表述支持她自动思维的证据。第四，自动思维本身可能是一个核心信念。第五，来访者可能在情绪层面上仍然相信自动思维，即使她知道它是错误的。最后，来访者可能对评价打了折扣。治疗师需要针对不同情况采取相应策略，如引导出最核心的自动思维或想像，深入评价来访者的思维，以及诱导出来访者根据何种理由认为她的思维是正确的。这些策略有助于找出自动思维评价无效的原因，并为治疗师提供指导，以更有效地帮助来访者改变其自动思维。'),\n",
       " AIMessage(content='治疗师的策略包括引导来访者评定自动思维的程度和情绪反应，以及帮助来访者对自动思维作出反应。在介绍D治疗师R之前，治疗师需要确保来访者已掌握并相信认知模式，并能够清晰地区分自动思维、情境、情绪和心理反应。治疗师还应在口头提问中引出特定情境伴随自动思维和情绪的例子，以确保来访者理解和掌握了相关概念。在介绍D治疗师R之前，来访者还应表明能够独立完成几个不同情境下的前四栏。治疗师还需要口头评估至少一个重要的自动思维，并在介绍D治疗师R之前减少来访者的焦虑。在确认有疑问的情境后，治疗师通过单独的口头提问帮助来访者确认特定的自动思维及伴随的情绪，并选择这些例子来说明D治疗师R的使用。这些策略旨在帮助来访者理解和应对自动思维，以促进治疗过程的有效进行。'),\n",
       " AIMessage(content='治疗师采用多种策略来帮助来访者应对自动思维，包括确认和处理功能障碍性思维、解释D治疗师R的作用和限制、以及提供反映自动思维的其他方法。治疗师强调不要过分强调功能障碍性思维记录的重要性，而是将其视为学习的机会，帮助来访者避免自我批判和贬低反应。针对不同个体，治疗师解释D治疗师R可能无法显著降低焦虑的原因，并指出自动思维评估可能不会最理想地显效的情况。此外，治疗师提供了多种不需要书写的方法来反映自动思维，如心理上做D治疗师R、阅读以前治疗中所写的自动思维的笔记等。最后，治疗师强调问题的解决比评估自动思维更有用，鼓励来访者寻找解决方法。总体而言，治疗师教导来访者多种方法来反映歪曲的思维，增加了来访者使用该重要工具的机会，并提供了其他方法来处理自动思维。'),\n",
       " AIMessage(content='治疗师在决定是否对来访者的重要中间信念进行工作时，会先确认该信念的强度和对生活的影响程度。治疗师会问自己一系列问题，包括该信念的内容、来访者对其的信仰程度、以及是否现在就应该对其进行工作等。治疗师会考虑来访者是否愿意对该信念进行工作，以及是否具备足够客观性评估它的能力。治疗师还会考虑当前会谈是否有足够的时间和空间来开始对该信念进行工作。一般来说，治疗师会等到来访者学会确认和矫正自动思维的工具，并且已经获得了一定症状的缓解后，才会进行信念矫正。此外，治疗师会使用特定的信念作为例子，教育来访者有关信念的性质，并强调信念是可以被修正的。这些策略有助于治疗师在进行信念矫正时，充分考虑来访者的意愿和能力，并为信念矫正提供了一个系统的方法。'),\n",
       " AIMessage(content='治疗师在矫正来访者的信念时，首先明确核心信念，并系统地阐明更为适当的信念。他不是强加新信念，而是通过合作的方式引导来访者构思更功能性的信念。治疗师还教育来访者信念的性质，并帮助她评估持续坚持该信念的好处和不利之处。治疗师连续地询问来访者对假设的信念现在的信任程度，以估计是否需要进一步的工作。他还建议在治疗笔记上记录已探究过的信念，并指定每日家庭作业来重新评估信念的强度。治疗师采用苏格拉底对话、行为实验、认知连续体等策略来矫正信念，以帮助来访者更理性地评估和改变信念。'),\n",
       " AIMessage(content='治疗师通过确认中间信念的方法来帮助来访者，包括使用箭头向下技术，寻找自动思维中的共同主题，以及复习来访者完成的信念问卷。治疗师还关注来访者对信念的强度和广泛影响程度，以确定信念的重要性和矫正的时机。在进行信念矫正工作时，治疗师通过教育来访者了解信念的性质，探究其利弊，并系统地提出新的、更有功能性的信念。他还使用多种信念矫正方法，如苏格拉底对话、行为性试验、认知连续体等，以帮助来访者改变不健康的信念。治疗师还需要识别来访者的核心信念，通过相同的方法确认特定的核心信念，并在治疗早期进行评估，以帮助来访者概念化和计划治疗。治疗师的策略旨在帮助来访者理解和改变不健康的信念，从而促进心理健康的发展。'),\n",
       " AIMessage(content='在治疗过程中，治疗师强调了矫正核心信念和增强新信念的重要性。他首先确认了来访者的负性核心信念，然后在心理上设计新的、更实际和有用的信念，并引导来访者朝着这个方向努力。治疗师采用了一系列方法来减弱旧的信念，例如苏格拉底对话、行为实验、认知连续体等，以帮助来访者建立更积极的核心信念。治疗师指出相对温和的新信念通常更容易被来访者接受，例如从“我是坏的”到“我是一个具有积极和消极特征的有价值的人”。此外，治疗师还强调了对于一些来访者可能需要帮助发展正面核心信念的情况，治疗师需要在这方面提供支持和指导。整体而言，治疗师的策略包括确认负性核心信念、设计新信念、采用多种方法减弱旧信念、引导来访者朝着积极信念努力，并在必要时帮助来访者发展正面核心信念。'),\n",
       " AIMessage(content='治疗师在核心信念作业表的介绍和应用上采取了一系列策略。首先，治疗师引入核心信念作业表，帮助来访者确认旧的功能障碍性信念并发展新的更适合的信念。治疗师与来访者一起填写表格，评定来访者对旧信念和新信念的相信程度，以促进来访者对自身信念的认知和反思。此外，治疗师鼓励来访者在会谈中和作业中填写表格的下部分，以帮助来访者检查其信念的运转并找到支持旧信念的证据。这一系列策略旨在帮助来访者进行核心信念工作，促进认知模式的转变和个体信念的重塑。'),\n",
       " AIMessage(content='治疗师采用多种策略帮助来访者认识到属于作业表左边正面资料的其他方法。首先，治疗师鼓励来访者想象其他人可能会如何看待她的行为，以寻找正面证据。其次，治疗师引导来访者思考她信任的人会如何评价她的行为，以找到正面证据。此外，治疗师提出让来访者比较自己的行为与假定的负面模式，以帮助来访者发现潜在的正面证据。最后，治疗师建议在每个会谈开始时填写评分，以帮助来访者记录自己的情绪变化，并在日程上记录重要事项。这些策略为来访者提供了多种途径来寻找和强化正面证据，有助于改变她的认知模式和情绪状态。治疗师还鼓励在会谈中提问来访者有关这些策略的适用性，以促进对认知行为工具的理解和应用。'),\n",
       " AIMessage(content='在这一段中，治疗师采用了角色扮演和写作练习的策略，帮助来访者测试其思维和信念的有效性。治疗师引导来访者写下旧信念和新信念，并评定她对每个信念的相信程度，然后与来访者讨论她目前的困扰，帮助她得出更现实、更适合的结论。通过这一过程，来访者逐渐减少了对不适当信念的相信程度，增加了对适当信念的相信程度，最终形成了更积极、更现实的解释。治疗师的策略旨在帮助来访者重新构建核心信念，通过系统的工作和特定方法来重建自动思维和中间信念，以促进来访者的认知重建和情绪调适。同时，治疗师还使用了问题解决作业表，帮助来访者在特定情境下识别问题、反应和可能的解决方法，从而促进来访者的自我反思和问题解决能力。这些策略有助于来访者理解和调整自己的思维模式，从而更好地应对困扰和挑战。'),\n",
       " AIMessage(content='治疗师采用活动表来帮助来访者识别自动思维对情绪的影响，并通过意象帮助来访者回忆自动思维，展示不同思维对情绪的积极影响。治疗师还布置家庭作业，监测来访者的自动思维，并询问上一周其他活动是否受到消极思维的影响。活动表的使用有助于评估特定心境的发生情况，对于难以觉察情感变化的来访者或情感波动较大的来访者尤其有帮助。此外，活动表还可用于计划活动，来访者可以计划下周的活动以取代监测本周的活动。治疗师还可以让来访者预测情感水平，并与实际评分进行比较，以提供有价值的资料。这些策略有助于来访者更好地认识自动思维对情绪的影响，并通过监测和计划活动来调节情绪。'),\n",
       " AIMessage(content='治疗师应当引导来访者学习和实践放松技术，并了解到有些来访者可能会出现自相矛盾的唤起效应，即放松练习反而导致更紧张、焦虑的情况。治疗师建议来访者将放松视为一个实验，要么减轻焦虑，要么导致焦虑。治疗师还应鼓励来访者将应付卡随身携带，作为日常规则或按需阅读，应付卡可包括主要的自动思维和适应性反应，以及行为策略和自我训练方法。此外，治疗师还应引导来访者进行分级暴露，帮助来访者集中注意力在目标上，而不是目前的状况，以减少焦虑情绪的产生。这些策略有助于来访者学会应对焦虑和紧张情绪，提高心理调适的能力。'),\n",
       " AIMessage(content='治疗师建议来访者采取减缓焦虑的活动，逐步挑战焦虑，并在每个阶段讨论应对技巧。治疗师提出使用功能障碍记录、应对卡、放松练习等技术来帮助来访者面对焦虑。对于回避的来访者，治疗师建议使用默演来识别焦虑的自动思维或不做作业的情况。此外，治疗师建议来访者填写活动表，以帮助她完成分级暴露阶梯的日常工作。监察表也被提出，以帮助来访者记录活动和焦虑程度，并剔除不准确的预言。角色扮演被介绍为一种广泛应用的技术，用于揭示自动思维、发展理性反应、修改中间信念和核心信念，以及学习和应用社交技能。这些策略旨在帮助来访者逐步面对焦虑，发展应对技能，并提高社交技能。'),\n",
       " AIMessage(content='治疗师在教授社交技能之前，首先评估来访者已有的水平，特别关注功能障碍性假设对技能应用的影响。治疗师采用肯定法的方法，让来访者假设积极的结局，从而帮助来访者克服消极信念，提高对社交技能的运用能力。在来访者应用技能出现问题时，治疗师区分功能障碍性信念和技能缺陷，针对不同情境采取不同的教学方法。治疗师还运用“馅饼”技术，让来访者用图表观察自己的观念，帮助来访者树立目标并承担相关责任，以增强对自身问题的认知和解决能力。这些策略旨在帮助来访者克服社交技能中的困难，提高自我认知和应对能力。'),\n",
       " AIMessage(content='治疗师的策略包括在治疗早期引导来访者完成积极自我陈述记录，以帮助他们在核心信念作业表中发现积极信念。此外，治疗师教导来访者识别和处理自发的意象，以及如何治疗性地处理自发和诱发的意象。治疗师强调许多来访者的自动思维可能不仅是言语，还可能是图形或意象，而这些意象可能导致持续的痛苦。在会谈中，治疗师努力引出来访者曾有的自发意象，并试图发现来访者在有言语性自动思维的同时是否存在自发意象。这些策略旨在帮助来访者增加认知和行为技能，以及教导他们如何处理自发的意象，从而减轻持续的痛苦。'),\n",
       " AIMessage(content='治疗师采用了一系列想象练习，引导玛丽想象自己死后5年、10年、20年的情景，以减轻她对死亡的恐惧。此外，治疗师还通过让来访者用更现实的评估来考虑实际存在的威胁，如鼓励想象朋友的面部表情或产房内的情景，帮助来访者减轻已感知的威胁。治疗师强调了通过不断提问帮助来访者认识他们的意象的重要性，以及通过规则地练习意象技术来减轻痛苦意象的方法。此外，治疗师还提出了一些策略，如要求来访者在会谈中写下家庭作业、将作业与日常活动结合进行、使用提醒贴纸等方式帮助来访者坚持完成作业。最后，治疗师强调了在制定家庭作业时需要考虑来访者的实际情况和目标，并与来访者共同探讨作业的合理性、难度、可完成性以及与目标的一致性。治疗师的策略全面考虑了来访者的需求，旨在帮助他们减轻恐惧和痛苦，同时促进他们的自我成长和发展。'),\n",
       " AIMessage(content='治疗师的策略包括在来访者自我批评时进行讨论，以保护来访者不出现情绪低落。治疗师还会考虑来访者家庭作业的完成情况，以增加对来访者的了解。他们会关注家庭作业未完成是否与实际问题、心理问题或与治疗师有关的心理问题有关。治疗师鼓励来访者在注意到情绪变化时及时记录下来，以便在治疗中进行讨论。此外，治疗师还会帮助来访者认识和改变回避治疗问题的信念，以促进来访者在整周内积极完成家庭作业。治疗师还会帮助来访者理解为什么需要完成家庭作业，以避免忘记作业的情况发生。这些策略旨在促进来访者的参与和积极性，以支持治疗的进行。'),\n",
       " AIMessage(content='在治疗过程中，治疗师采用实验性的方法帮助来访者验证她的负面预测和想法。当来访者取得成功时，她会记录下自己的结论，例如“有时我的想法不确切，我能做的比我想的多”。治疗师鼓励来访者在面对负面预测时进行实验，若实验不成功，治疗师会调整作业以更基础的方式进行。对于披露了做作业的矛盾心理的来访者，治疗师重点关注了解她不知道的结果以及做作业的收获。此外，治疗师与来访者一起探讨做作业的好处和不利，帮助来访者更好地认识和表达自己的想法。最后，治疗师关注来访者可能在信仰水平上受到影响，激活了一系列负面信念，如“做治疗作业意味着我有缺陷”等。治疗师的策略旨在帮助来访者通过实验和探索，更好地理解和应对负面预测和信念，从而促进个体的认知改变和成长。'),\n",
       " AIMessage(content='治疗师在认知治疗中采用了多种策略。首先，治疗师应评估自己的认知，确保不会因为担心伤害来访者的感情或者触怒她而在暗地里阻止或鼓励来访者做家庭作业。治疗师应意识到自己的功能障碍性假设，并通过功能障碍性思维记录、行为实验或与导师或同事的商议来加以处理。其次，治疗师应将家庭作业作为治疗的重要组成部分，并在每次会谈前认真布置家庭作业，即使来访者处于危机中或希望探讨其他问题。家庭作业也应与议事日程、治疗目的和整个会谈涉及的项目相联系，并在家庭作业总结中得到进一步强化。最后，治疗师的目的是教会来访者成为自己的治疗师，而不是取代来访者解决所有问题。治疗师应鼓励来访者逐渐减少治疗频率，并在治疗结束后进行支持者会谈，以帮助来访者巩固所学的技能并预防复发。治疗师还应在治疗开始时考虑到来访者的治疗结束和病情复发问题，以帮助来访者理解病情改善的波动性，并提前做好心理准备。'),\n",
       " AIMessage(content='在结束治疗准备阶段，治疗师应关注来访者对结束的自动思维，包括兴奋、希望、恐慌和生气等复杂情感。治疗师需要了解来访者的情感，并帮助她改变歪曲的反应，同时表达自己真实的感情，包括对治疗成果的骄傲和对结束治疗关系的遗憾。此外，治疗师鼓励来访者复习治疗笔记，整理治疗中学到的重要问题和技能，并制定自我治疗计划。治疗师还提醒来访者对支持者会谈的重要性，以及对继续保持进步的计划。这些策略旨在帮助来访者应对结束治疗的情绪，整理和巩固治疗中学到的内容，并为自我治疗和继续保持进步做好准备。'),\n",
       " AIMessage(content='治疗师鼓励来访者列出治疗结束后进行支持者会谈的几个理由。首先，支持者会谈提供了一个讨论和评估来访者面临困难的机会，帮助她制定处理困难的计划，并激励她继续进行认知治疗作业和练习技能。其次，支持者会谈也能帮助来访者判断之前纠正的功能障碍性信念是否再次出现，并在会谈中进行认知重建。此外，支持者会谈还提供了检查功能障碍性策略再现的机会，评价自我治疗计划并进行必要的修订。最后，了解结束后支持者会谈的安排有助于减轻来访者保持进步的焦虑。为了准备支持者会谈，治疗师提供了一系列问题，包括来访者的进展、面临的问题、认知治疗的实践和目标的达成情况。这些策略有助于来访者在治疗结束后得到持续的支持和指导，以保持进步并应对可能出现的困难。'),\n",
       " AIMessage(content='在这一部分，治疗师评估了来访者的抑郁水平，日程设置，并讨论了一个与男友分手有关的问题。治疗师认为来访者的抑郁较轻，因此花少量时间制定了一个计划来帮助纠正她的观念，并提醒她使用工具。治疗师强调了预防复发的重要性，并指出了可能导致浪费治疗时间的问题。治疗师还强调了识别并指定问题的重要性，并提出了五个步骤来帮助确定对问题的干预程度。这些策略包括对问题收集更多资料，评估问题的性质，确定问题值得干预的程度，并根据治疗阶段的需要进行必要的调整。治疗师的策略着重于有效地评估和处理来访者的问题，以确保治疗过程的高效性和个性化。'),\n",
       " AIMessage(content='治疗师的策略包括引导来访者朝解决问题的方向前进，帮助她决定合理可行的步骤，并利用情境加强认知模式。治疗师指导来访者解决问题的技术，帮助她概念化较大的困难，并评价令人苦恼的思维。治疗师还鼓励来访者做功能障碍性思维记录，并指导她形象化技术。此外，治疗师与来访者共同决定继续进入下一个日程项目，以及在何时回到当前问题。治疗师在决定继续哪些过程时考虑多个因素，包括来访者的信念、时间、可用技术和家庭作业。他还利用治疗阶段作为指南，避免在早期讨论激发痛苦核心信念的问题，并在需要时改变会谈目标。这些策略有助于治疗师有效地引导来访者朝着解决问题的方向前进，并根据情境和治疗阶段进行灵活的调整。')]"
      ]
     },
     "execution_count": 15,
     "metadata": {},
     "output_type": "execute_result"
    }
   ],
   "source": [
    "summarized_list"
   ]
  },
  {
   "cell_type": "code",
   "execution_count": 15,
   "metadata": {},
   "outputs": [],
   "source": [
    "# # summarized_list=[]\n",
    "# for item in to_summary_list[2:]:\n",
    "#     messages[-1]=HumanMessage(content=item[\"content\"]+\"\"\"###请将这段话做摘要，要求250字左右，总结治疗师的策略，请注意总结不用场合和阶段策略的应用场景。“以这段话的意思为:”开头\"\"\")\n",
    "#     result=chat(messages)\n",
    "#     summarized_list.append(result)"
   ]
  },
  {
   "cell_type": "code",
   "execution_count": 16,
   "metadata": {},
   "outputs": [
    {
     "data": {
      "text/plain": [
       "41"
      ]
     },
     "execution_count": 16,
     "metadata": {},
     "output_type": "execute_result"
    }
   ],
   "source": [
    "len(summarized_list)"
   ]
  },
  {
   "cell_type": "code",
   "execution_count": 17,
   "metadata": {},
   "outputs": [
    {
     "data": {
      "text/plain": [
       "41"
      ]
     },
     "execution_count": 17,
     "metadata": {},
     "output_type": "execute_result"
    }
   ],
   "source": [
    "len(to_summary_list)"
   ]
  },
  {
   "cell_type": "code",
   "execution_count": 18,
   "metadata": {},
   "outputs": [
    {
     "data": {
      "text/plain": [
       "{'ID': 0,\n",
       " 'len': 785,\n",
       " 'content': '认知治疗已经得到大量的证实。对照研究显示出认知治疗对治疗下列疾病的有效性：重性抑郁症，广泛焦虑障碍，惊恐障碍，社交恐怖物质泄用，进食障碍，配偶问题以及住院抑郁来访者。\\n对于其他许多障碍，认识治疗作为唯一的治疗或一种附加治疗正被世界各地广泛应用。这里有几个例子，如：强迫症，创伤后应激障碍，人格障碍，复发的抑郁症、慢性疼痛，疑病症和精神分裂症。认知治疗对公众而不是对精神病来访者的研究也正在进行：监狱犯人、学龄儿童、综合医院中各种疾病来访者以及其他许多人。\\n坡森斯，伯恩斯和坡罗夫已经发现，认知治疗对真有不教育水平、收人和经历的来访者均有效。从学龄前期到老年期、它适应于各个年龄阶段的来访者。虽然本书关注的焦点均在个体治疗上但是，认知治疗也已经针对集体治疗，配偶问题和家庭治疗进行了修正。\\n有了如此之多的适应症，认知治疗如何保持其可辨认性呢？\\n在所有源于克模式的认知治疗中，治疗是基于某一特定障碍的认知系统阐述和把它应用到个别来访者的概念化或理解中。治疗师寻找各种方式以产生认知改变一一来访者思想和信念系统的改变一一以便导致情感和行为的持久改变。\\n为阐述认知治疗的许多概念和过程，本书通篇引用一一个例子。\\n“来访者”是一位18岁的独身女性，白种人，她几乎在各个方面都是位理想的来访者，而且她的治疗过程清晰地显示了认知治疗的各种原理。她在大学第二学期寻求治疗，因为她在此前四个月一直感到非常抑郁和中度焦虑，而且她在日常活动遇到了困难。的确，根据精神障碍诊断和统计手册第四版（DSM-IV，美国精神病学会，1994），她符合中等严重度的抑郁发作。来访者的全面情况将在下-一章和附录A中描述，下面的副本，节选自来访者的第四次治疗期，它为典型的认知治疗干预提供了情趣。详细说明对来访者有重要意义的问题，识别并评估相关的功能障碍的想法，制定一个合理的计划，并且评估预措施的有效性。\\n'}"
      ]
     },
     "execution_count": 18,
     "metadata": {},
     "output_type": "execute_result"
    }
   ],
   "source": [
    "to_summary_list[0]"
   ]
  },
  {
   "cell_type": "code",
   "execution_count": 4,
   "metadata": {},
   "outputs": [],
   "source": []
  },
  {
   "cell_type": "code",
   "execution_count": 5,
   "metadata": {},
   "outputs": [
    {
     "data": {
      "text/plain": [
       "41"
      ]
     },
     "execution_count": 5,
     "metadata": {},
     "output_type": "execute_result"
    }
   ],
   "source": [
    "len(save_json_content)"
   ]
  },
  {
   "cell_type": "code",
   "execution_count": 7,
   "metadata": {},
   "outputs": [
    {
     "data": {
      "text/plain": [
       "'治疗师应找出，确信来访者在做治疗家庭作业中体验成功的项目。如果他觉得可能不能贯彻指定的任何作业，应提议撤销它。（“你认为记录下你的思维会有麻烦吗？（如果是）你认为我们应将它从今天的日程中取消吗？这不成问题。”）偶然，来访者会对“家庭作业”发怒。然后，治疗师需小心的解释治疗家庭作业与以往经历的如学校家庭作业是不同的，前者是双方协作设定，专门帮助来访者感觉好转，而后者往往是强制性的、非个体化的、经常是指派的。治疗师和来访者也能动脑筋寻找更易接受的术语如“自助行动”。解决了有关使用“家庭作业”术语的实际问题后，治疗筛可追寻（或从心理上避开进一→步的探寻）“家庭作业”对惠者意味着什么，以发现是否她客观上将它视为一种模式（如：她对受别人控制很敏感？当她要求完成一项任务时，她感到不合适？）。常规第一次会谈（和其他会谈）家庭指定作业包括阅读治疗。治疗师可要求来访者阅读认知治疗通俗读物的一个章节。他努力使来访者积极参与阅读治疗（“在你阅读时记下要点，这样你可告诉我，你同意或反对哪些观点，哪些似乎适合你或不适合。”在第一次会谈之后，第二次会谈的的家庭指定作业是监察和/或计划活动（见第十二章）。目的是使来访者恢复那些曾经使他们获得成就感和／或愉快感的活动反馈每一会谈的最后一个要素是反馈。在第一次会谈结束时，多数来访者对治疗师和治疗都会感到满意。要求反馈是为了进一步加强情感协调，提供治疗师关心来访者思想的信息，同时也给来访者一个表达的机会，及治疗师解决可能产生的任何误解。偶然，来访者可对治疗师的言行做出特异性的解释。通过询问来访者是否有什么事使她烦恼，给她陈述的机会，然后检验她的结论。除了口头反馈外，治疗师可让来访者完成-一个书面治疗报告。\\n'"
      ]
     },
     "execution_count": 7,
     "metadata": {},
     "output_type": "execute_result"
    }
   ],
   "source": [
    "save_json_content[5]['content']"
   ]
  },
  {
   "cell_type": "code",
   "execution_count": 8,
   "metadata": {},
   "outputs": [
    {
     "data": {
      "text/plain": [
       "'治疗师应确保来访者能够成功完成治疗家庭作业，如有必要，提议撤销不适合的任务。在处理可能的抵触情绪时，治疗师需要解释家庭作业与学校作业的区别，并寻找更易接受的术语，如“自助行动”。治疗师还应追寻家庭作业对来访者的意义，以了解其背后的模式和情感反应。家庭指定作业包括阅读治疗相关材料和参与恢复愉快活动。每次会谈结束时，治疗师要求来访者提供反馈，以加强情感协调，提供信息并解决可能的误解。此外，治疗师还可以让来访者完成书面治疗报告，以促进表达和反思。这些策略旨在促进来访者的参与和合作，同时加强治疗师与来访者之间的沟通和理解。'"
      ]
     },
     "execution_count": 8,
     "metadata": {},
     "output_type": "execute_result"
    }
   ],
   "source": [
    "save_json_content[5][\"summary\"]"
   ]
  },
  {
   "cell_type": "code",
   "execution_count": 6,
   "metadata": {},
   "outputs": [
    {
     "ename": "NameError",
     "evalue": "name 'summarized_list' is not defined",
     "output_type": "error",
     "traceback": [
      "\u001b[0;31m---------------------------------------------------------------------------\u001b[0m",
      "\u001b[0;31mNameError\u001b[0m                                 Traceback (most recent call last)",
      "Cell \u001b[0;32mIn[6], line 1\u001b[0m\n\u001b[0;32m----> 1\u001b[0m \u001b[43msummarized_list\u001b[49m[\u001b[38;5;241m5\u001b[39m]\u001b[38;5;241m.\u001b[39mcontent\n",
      "\u001b[0;31mNameError\u001b[0m: name 'summarized_list' is not defined"
     ]
    }
   ],
   "source": [
    "summarized_list[5].content"
   ]
  },
  {
   "cell_type": "code",
   "execution_count": 22,
   "metadata": {},
   "outputs": [],
   "source": [
    "import json\n",
    "\n",
    "with open(json_file_path,\"w\") as json_file_:\n",
    "    json.dump(save_json_content, json_file_, ensure_ascii=False)\n"
   ]
  },
  {
   "cell_type": "code",
   "execution_count": 10,
   "metadata": {},
   "outputs": [],
   "source": [
    "test_dict={\"a\":3}\n",
    "test_dict[\"b\"]=1"
   ]
  },
  {
   "cell_type": "code",
   "execution_count": 13,
   "metadata": {},
   "outputs": [
    {
     "data": {
      "text/plain": [
       "dict"
      ]
     },
     "execution_count": 13,
     "metadata": {},
     "output_type": "execute_result"
    }
   ],
   "source": [
    "type(json_res[1])"
   ]
  },
  {
   "cell_type": "code",
   "execution_count": 15,
   "metadata": {},
   "outputs": [
    {
     "name": "stdout",
     "output_type": "stream",
     "text": [
      "True\n",
      "认知治疗在治疗多种心理问题上显示出了显著的有效性，包括重性抑郁症、广泛焦虑障碍、惊恐障碍、社交恐惧症、进食障碍等。此外，认知治疗也被广泛应用于其他许多障碍，如强迫症、创伤后应激障碍、人格障碍、慢性疼痛等。研究表明，认知治疗适用于不同教育水平、收入和经历的个体，以及各个年龄阶段的来访者。此外，认知治疗也已经针对集体治疗、配偶问题和家庭治疗进行了修正。在认知治疗中，治疗师通过对来访者的认知系统进行概念化或理解，寻找各种方式产生认知改变，以导致情感和行为的持久改变。治疗师通过引用具体案例来阐述认知治疗的概念和过程，以及对来访者的具体干预策略。治疗师通过详细说明来访者的问题、评估相关的功能障碍、制定合理计划以及评估预措施的有效性，展示了认知治疗的干预过程。 认知治疗已经得到大量的证实。对照研究显示出认知治疗对治疗下列疾病的有效性：重性抑郁症，广泛焦虑障碍，惊恐障碍，社交恐怖物质泄用，进食障碍，配偶问题以及住院抑郁来访者。\n",
      "对于其他许多障碍，认识治疗作为唯一的治疗或一种附加治疗正被世界各地广泛应用。这里有几个例子，如：强迫症，创伤后应激障碍，人格障碍，复发的抑郁症、慢性疼痛，疑病症和精神分裂症。认知治疗对公众而不是对精神病来访者的研究也正在进行：监狱犯人、学龄儿童、综合医院中各种疾病来访者以及其他许多人。\n",
      "坡森斯，伯恩斯和坡罗夫已经发现，认知治疗对真有不教育水平、收人和经历的来访者均有效。从学龄前期到老年期、它适应于各个年龄阶段的来访者。虽然本书关注的焦点均在个体治疗上但是，认知治疗也已经针对集体治疗，配偶问题和家庭治疗进行了修正。\n",
      "有了如此之多的适应症，认知治疗如何保持其可辨认性呢？\n",
      "在所有源于克模式的认知治疗中，治疗是基于某一特定障碍的认知系统阐述和把它应用到个别来访者的概念化或理解中。治疗师寻找各种方式以产生认知改变一一来访者思想和信念系统的改变一一以便导致情感和行为的持久改变。\n",
      "为阐述认知治疗的许多概念和过程，本书通篇引用一一个例子。\n",
      "“来访者”是一位18岁的独身女性，白种人，她几乎在各个方面都是位理想的来访者，而且她的治疗过程清晰地显示了认知治疗的各种原理。她在大学第二学期寻求治疗，因为她在此前四个月一直感到非常抑郁和中度焦虑，而且她在日常活动遇到了困难。的确，根据精神障碍诊断和统计手册第四版（DSM-IV，美国精神病学会，1994），她符合中等严重度的抑郁发作。来访者的全面情况将在下-一章和附录A中描述，下面的副本，节选自来访者的第四次治疗期，它为典型的认知治疗干预提供了情趣。详细说明对来访者有重要意义的问题，识别并评估相关的功能障碍的想法，制定一个合理的计划，并且评估预措施的有效性。\n",
      "\n",
      "True\n",
      "治疗师采用认知治疗的基本原理，针对来访者的功能障碍进行治疗。首先，治疗师通过探索来访者的困难概念化，识别她的困难想法和行为，并帮助她理解这些想法的来源。治疗师与来访者分享概念形成的过程，通过认知模式帮助来访者观察自己的经历，鼓励她评价和制定更适合自己的想法的措施。治疗师建立正确的治疗性联盟，展示热情、全神贯注、关心和真正的尊重，通过对来访者的想法和感受的准确概括，表明对来访者的尊重。治疗师鼓励来访者观察治疗作为合作，共同决定治疗的方向和目标，并帮助来访者评价和克服阻碍实现目标的想法。治疗师特别关注阻碍来访者解决问题和达到目标的想法，帮助来访者评价这些想法的效度，并进行实验以检验这些想法。最后，治疗师重点关注现在的问题，帮助来访者解决目前困扰她的处境，以减轻症状。治疗师通过教育来访者认知治疗的过程和认知模式，教会她成为自己的治疗师，并强调预防复发的重要性。 这里，来访者能够容易地识别和评价自已功能障碍的想法，“我不能应付工作”具有标准问题（见第八章）。许多来访者面临相似的同题，他们需要相当多的治疗性的努力，才会愿意将行为习惯坚持到底。虽然治疗必须针对每个个体，因人而有，然而，有些认知治疗的基本原理是适合于每个来访者的。\n",
      "原理1：认知治疗是以认知期间来访者曾经发展的系统形式和问题为基础的。来访者的治疗师在三个回合中探索把她的困难概念化。起初，他识别自前使来访者持续感到悲伤的想法（我是失败者，我不能做任何事，我将来不会幸福，他还识别来访者有问题的行为（隔离她自已、过多地睡眠，回避寻求帮助），记下这些问题行为这些行为产生了来访者功能障碍的想法，而且依次强化了她的这科想法。接着，治疗师识别在首次发作抑郁症时使来访者的感觉急剧低落的原因（如：首次离家，认为自已学识不够因而拼命学习）。\n",
      "第三，治疗师假设关键的发展事件和来访者解释这些事件的持久的模型，这些均使她易患抑郁症（如：来访者有一种终身的趋势，就是将个人的力量和成功归因为幸运，而不是观察自己的有关弱点蔽为真实自我的写照）。\n",
      "在最初的会谈中，来访者的治疗师根据她提供的资料制定治疗方案，而且，在整个治疗过程中，随着获得的资料越来越多，他不断精炼这种概念形成的过程。在治疗策略上，他与来访者分享概念形成的过程，使她确信这是真实的。而且，在整个治疗期间，治疗师通过认知模式帮助来访者观察她的经历。例如：她学会识别与自己烦恼情绪有关的想法，学会评价和制定更多的适合自己想法的措施。做了这样的改进，她自我感觉很好，而且经常使她的行为具有更多的功能。\n",
      "原理2：认知治疗要求正确的治疗性联盟。来访者和其他许多患单纯抑郁症和焦虑症的来访者一样，她与她的治疗师在相互信任与合作方面有一些困难，而她的治疗师在会谈时展示了所有基本的必需具备的素质：热情、全神贯注、关心、真正的尊重和能力。\n",
      "他通过对来访者全神贯注、仔细地-一字不漏地倾听，准确地概括来访者的想法和感受，真实而现实的乐观和愉快表明他对来访者的尊重。\n",
      "在每次治疗期结束时，他同样要求来访者给予反馈信息，以确保来访者体会到被人理解且对治疗持积极态度。\n",
      "其他来访者，尤其是那些具有人格障碍的来访者，需要把更多的重点放在治疗师与来访者的治疗关系上以创造一种良好的工作联盟（贝克等1990：杨，1990）。如果来访者有这样的要求，她的治疗师会花更多的时间通过各种不同的方式建立他们的治疗联盟，包括让来访者定期识别和评价她对治疗筛的着法，原理3：认知治疗的重点在于合作和积极参与。来访者的治疗师鼓励她观察治疗作为合作，他们一起决定这些事情。如：每次治疗做些什么，他们多久应该会谈，以及两次治疗间隔期间来访者应该为治疗家做什么家庭作业。开始时，她的治疗师较为积极地为各治疗期提出指导，并积极地概括治疗时他们所讨论的内容。\n",
      "随着来访者抑郁减轻并更多地参与到治疗中，她的治疗师鼓励她成为治疗期内更为积极的参与者，让她决定要谈哪个话题，识别其想法的曲解之处、概括要点、做出家庭作业安排表。\n",
      "原理4：认知治疗是确定自标、关注问题。来访者的治疗师在他们的首次治疗期要求她列举自己的问题并确定特殊的目标。例如一个最初的问题涉及孤独感。在治疗师指导下，她用行为术语阐述了一个目标：着手发展新的友谊并与自前的朋友保持更亲密的关系。治疗师帮助她评价妨碍其实现目标的想法并做出反应，如“我没有任何东西能提供给任何人，他们可能不想和我在一起。”\n",
      "首先，他在办公室通过检查证据来帮助她评价这些想法的效度。\n",
      "然后，来访者愿意通过几个实验更直接地检验这些想法，她开始与一位熟人和-位朋友进行这些实验计划。一且她认识并改正曲解的想法，就能够直接从解决问题中获益，以便改善其人际关系。\n",
      "因此，治疗师特别注意那些阻碍来访者解决问题和达到其目标。许多来访者在其障碍首次发作前具有良好的功能，他们可能不需要直接训练如何解决问题。相反，他们得益于对功能障碍的想法的评价，这些功能障碍的想法妨碍了他们使用自已先前获得的技能。其他来访者对解决问题认识不足，他们确实需要直接指寻以便学会这些技巧。因此，治疗师需要针对个别来访者的特殊困难形成概念并估计适当的干预水平。\n",
      "原理5：认知治疗首要的重点是现在。绝大多数来访者的治疗涉及的强烈的焦点在于目前的问题和困扰来访者的某些特殊情境。\n",
      "解决和或更真实地评价目前正在困扰来访者的处境，通常能使症状减轻。因而，认知治疗师常倾向于从检查自前的尚题开始治托，不管诊断如何。下列三种情况可将注意力转移到过去：当来访者表达一种强烈的偏爱要求这样做：当直接针对自前问题的治疗工作产生很少一点或没有产生认知的、行为的和情绪的改变的时候：当治疗师判定对理解一些问题具有重要意义时，如重要的丧失功能的想法是何时、怎样产生的，这些想法如何影响来访者的今天。例如：来访者的治疗师在治疗中途和她讨论童年的事件，以便帮助她识别她儿时学到的一系列信念，“如果我成绩好，这意味着我是个好人”和“如果我成绩不好，这意味着我是失败者”。治疗师帮她评估这些信念在过去和现在的效度。这样做部分地使来访者发展了更有功能和更加合理的信念。如果来访者有人格障碍，治疗师会相应地花更多时间讨论她的发育史和童年信念的起源以及应对的行为。原理6：认知治疗是有教育意义的，的在于教会来访者成为其自己的治疗师，而强调防止复发。在首次治疗时，获来访者的治疗师教导她关于她的障碍的本质和过程，认知治疗的过程以及认知模式（如，来访者的想法如何影啊响她的情感和行为），他不仅帮助她设定目标，识别和评价自已的想法，信念和制订行为改变的计划、而耳.教会她如何去做。每次治疗时，他鼓励来访者写下她已经使来访者了解他（她）的障碍8.安排家庭指定作业9提供一个概括10.引出反馈。\n",
      "\n",
      "True\n",
      "治疗师应在日程中纳入与来访者服药情况、自杀意念、酒精或药物滥用等相关问题的讨论。在第一次会谈中，治疗师应重点关注建立相互信任和情感协调，特别是对于有自杀意念或危机的来访者。治疗师需要通过言语、语气、面部表情和体态语言来表现移情，以确保来访者感到被理解和受到重视。治疗师应传达对来访者的关心和重视，表达对来访者的尊重和愿意合作的态度，并在每次会谈结束时检查来访者对治疗过程的知觉，以促进治疗的进展。此外，治疗师应不断诱发来访者的反馈，分析并纠正来访者的错误知觉，以加速治疗过程。日程设置的重要目标是开始社会化来访者进入认知治疗，并提供简明的基本原则。这些策略有助于建立良好的治疗关系，促进治疗的有效进行。 如果来访者正服用治疗心理问题的药物、如果药物被指明，或如果她正泄用酒精或药物，治疗师也应将这些相关问题纳人日程。\n",
      "在描述每一会谈要素之前，有些问题需引起高度重视。如果来访者绝望和想自杀，第一次会谈（或任一会谈）的目的和格式应修订。分析来访者自杀意念的程度，发掘使来访者绝望的原因，及挖掘她绝望的程度是极其重要的。当来访者处于被他人伤害或有潜在的伤害他人的危险时，危机于预也应优先进行。\n",
      "在第一次会谈开始时，与来访者建立相互的信任和情感协调是必要的。这在没有人格障碍的来访者中较易保持和发展。如果来访者仅有明确的轴1诊断，治疗师通常不\n",
      "需要通过大量的直接陈述表现他的移情。取而代之，他应不断通过他的言语、语气、面部表情和体态语言来阐明他的允诺，直到来访者理解。当治疗师通过有深度的解释和对来访者的问题及意念精确地理解来表现移情时，来访者感到有价值并容易理解。\n",
      "治疗师应通过含蓄的或直接了当的方式传达他关心和重视来访者的信息；他有信心与来访者协同工作；他相信他能帮助她并使她学会自助；他真切地想了解，她正经历什么事和什么事正纠缠着她；即使她可能，他也不会被她的问题所吓倒；他已成功地帮助了一些像她一样的来访者；他相信认知治疗对她是合适的，她将会好转。\n",
      "进一步，治疗师应表示对来访者的尊重和愿意与来访者合作，在每一会谈结束时，应检查来访者对治疗过程的知觉，以及他本人作为疗师对来访者的知觉。询问直接的反馈，有利于加速治疗。在诱发来访者的反馈的过程中，治疗师能分析并可能偶然发现他的移情是否合格，并能不失时机地在早期阶段纠正来访者的错误知觉。来访者经常欣赏不要求给出专业化的反馈；在治疗中，他们愿意接受有关伙伴关系的积极信息，并因此影响治疗过程。有时，对治疗会谈中发生了什么，治疗师和来访者持有不同的知觉；如果治疗师始终不渝地以不衍了事的，不防御的方式诱发来访者的反馈，有机会探索这些重要问题的可能性会增加。\n",
      "日程设置正如前面所述，第一次会谈的一个重要目标是开始社会化来访者进入认知治疗。结合其他技术，首先提供来访者一个简明的基本原则是可敢的。\n",
      "\n",
      "True\n",
      "治疗师通过日程设置和心境检查等策略，有效地引导来访者参与治疗过程。日程设置的基本原则和清晰解释使来访者能够理解治疗过程，并有助于聚焦于最重要的问题，避免不必要的会谈。治疗师在复习家庭作业时再次确认日程设置，确保来访者能够掌握如何安排日程。此外，心境检查通过客观的自我报告问卷和量表，如贝克抑郁问卷和0～100等级量表，帮助治疗师和来访者掌握来访者的客观状况，包括睡眠困难、性功能减退等问题。这些策略有助于治疗师更全面地了解来访者的状况，引导来访者更有效地参与治疗过程。 确实，日程设置是快的，并易抓住了要点。解释基本原则可使来访者清楚了解治疗过程，并能以结构式的有效的方式使她积极参与治疗。日程设置不明确经常导致一些不必要的会谈，因为它妨碍治疗师和来访者聚焦于来访者最重要的问题。当治疗师复习来访者的家庭作业，本会谈即将结束时，应再查询日程设置。一个家庭指定作业应是来访者思考（或许写下）的情境或问题的主题（而不是穴长的描述），这些问题是她希辈安排在下一会谈日程中的，多数来访者容易掌握怎样安排日程。第五章将讲述解决日程设置问题的策略。\n",
      "心境检查在第一次会谈日程设置以后，治疗师进行心境测验。除了她每周的主观报告外，客观的自我报告问卷，如贝克抑郁问卷，贝克焦虑问卷，和贝克绝望量表（见附录D）有助于来访者和治疗师掌握来访者目前状况的客观指标。认真进行这些测试，能使治疗师获得来访者可能没有口述的问题，例如，睡眠困难，性功能减退，挫折感增加和易激荐。\n",
      "如果客观测试不适合，在第一次会谈，治疗师可选择教来访者用0～100等级量表让她指出心境程度。[“回想过去的一周，总体来讲，你的抑郁（或焦虑、生气，如果存在这些问题）程度如何。0意味无抑郁，而100则意味你有从未感到的最严重的抑郁。”在抄录过程中，治疗师已经完成了日程设置，进人分析来访者心境的过程。1：下面，我们是否开始读读这周你过得怎样。我能看看你填写的表格吗？（浏览表格）。表格提示，你好像仍相当抑郁和焦虑：从这个评估看，这些分值改变了许多。对吗？”\n",
      "\n",
      "True\n",
      "治疗师在会谈早期，通过鼓励来访者写下问题或目标，帮助来访者更积极地参与治疗。治疗师建议来访者在每次会谈时记录要点，以便双方都能保留复印件。当来访者不能或不愿意写时，治疗师应帮助来访者做记录，可以通过画图或听会谈录音带的方式加强主要治疗思想。此外，治疗师还指导来访者用行为术语制定总体目标，并要求来访者思索家庭作业录。治疗师在会谈结束前概括讨论内容，教育来访者了解认知模式，旨在培养来访者成为自己的认知治疗师。治疗师通过训练来访者掌握认知模式，用她自己的例子讲解治疗预示，帮助来访者理解治疗方式和目标。这些策略旨在促进来访者更积极地参与治疗，加强对治疗内容的理解和应用。 治疗师有效地总结了来访者目前的问题，明确惠者没有自杀的危险，她的症状自从第一次评估后无明显加重，帮助来访者转化特殊的问题成为治疗目的。如果来访者已处于自杀危险中，希望提供重要的新的信息，或很困难详细说明她的问题或目标，治疗师在第一次会谈的此阶段应多用一些时间（当然，其他的项目可少用一些时间）。会谈早期，治疗师应鼓励来访者，通过写出问题或目标更积极地参与治疗。因为她不太明确，他应建议她写什么内容。在每一会谈，他应要求她在无碳纸张（通常在办公用具储藏处）或记录本（他能复印的本子）写下要点，以便治疗师和来访者均可保留复印件1当来访者不能或坚决不愿意写时，治疗师应帮来访者做记录。来访者，包括不能写出总结的孩子，可以通过画图或听会谈录音带作为加强主要治疗思想的方式。治疗师也可指导来访者用行为术语制定总体目标（“我希望我幸福，感觉好”）。会谈的主要目的不仅仅是目标讨论，他要求来访者思索家庭作业录。最后，在进行下列项自之前，他概括至此他们已经在本会谈讨论了什么。教育来访者了解认知模式认知治疗的一个重要目标是教育来访者成为她自己的认知治疗师。治疗早期，治疗师诱发出（和纠正，如果必要）来访者对治疗方式知道了什么。他训练她掌握认知模式，用她自己的例子讲解治疗预示。\n",
      "\n",
      "True\n",
      "治疗师应确保来访者能够成功完成治疗家庭作业，如有必要，提议撤销不适合的任务。在处理可能的抵触情绪时，治疗师需要解释家庭作业与学校作业的区别，并寻找更易接受的术语，如“自助行动”。治疗师还应追寻家庭作业对来访者的意义，以了解其背后的模式和情感反应。家庭指定作业包括阅读治疗相关材料和参与恢复愉快活动。每次会谈结束时，治疗师要求来访者提供反馈，以加强情感协调，提供信息并解决可能的误解。此外，治疗师还可以让来访者完成书面治疗报告，以促进表达和反思。这些策略旨在促进来访者的参与和合作，同时加强治疗师与来访者之间的沟通和理解。 治疗师应找出，确信来访者在做治疗家庭作业中体验成功的项目。如果他觉得可能不能贯彻指定的任何作业，应提议撤销它。（“你认为记录下你的思维会有麻烦吗？（如果是）你认为我们应将它从今天的日程中取消吗？这不成问题。”）偶然，来访者会对“家庭作业”发怒。然后，治疗师需小心的解释治疗家庭作业与以往经历的如学校家庭作业是不同的，前者是双方协作设定，专门帮助来访者感觉好转，而后者往往是强制性的、非个体化的、经常是指派的。治疗师和来访者也能动脑筋寻找更易接受的术语如“自助行动”。解决了有关使用“家庭作业”术语的实际问题后，治疗筛可追寻（或从心理上避开进一→步的探寻）“家庭作业”对惠者意味着什么，以发现是否她客观上将它视为一种模式（如：她对受别人控制很敏感？当她要求完成一项任务时，她感到不合适？）。常规第一次会谈（和其他会谈）家庭指定作业包括阅读治疗。治疗师可要求来访者阅读认知治疗通俗读物的一个章节。他努力使来访者积极参与阅读治疗（“在你阅读时记下要点，这样你可告诉我，你同意或反对哪些观点，哪些似乎适合你或不适合。”在第一次会谈之后，第二次会谈的的家庭指定作业是监察和/或计划活动（见第十二章）。目的是使来访者恢复那些曾经使他们获得成就感和／或愉快感的活动反馈每一会谈的最后一个要素是反馈。在第一次会谈结束时，多数来访者对治疗师和治疗都会感到满意。要求反馈是为了进一步加强情感协调，提供治疗师关心来访者思想的信息，同时也给来访者一个表达的机会，及治疗师解决可能产生的任何误解。偶然，来访者可对治疗师的言行做出特异性的解释。通过询问来访者是否有什么事使她烦恼，给她陈述的机会，然后检验她的结论。除了口头反馈外，治疗师可让来访者完成-一个书面治疗报告。\n",
      "\n",
      "True\n",
      "治疗师需要判断是否需要加强治疗联盟，以确保来访者对会谈满意并建立信任。他应灵活处理家庭指定作业，以验证来访者对认知治疗的疑虑。在面对反馈时，治疗师应表达理解并移情于来访者，促进协作和信任。第一次会谈的重要目标包括建立情感协调、精练概念化、教育来访者认知模式和障碍，以及提出希望和症状缓解。治疗师集中精力建立治疗合作关系和促进症状缓解。在心境检查中，治疗师引导来访者进行主观描述，并结合客观测试量表进行评估，同时比较前后评定，以了解来访者的真实状况。这些策略有助于治疗师全面了解来访者的需求，建立有效的治疗联盟，并促进治疗目标的达成。 在这里，治疗师需判断加强“治疗联盟”的必要性。他可能会错过来访者对会谈不满意的征象，或来访者是隐藏的高手。如果治疗师不能得到对会谈的反馈或善于解决消极反馈，下一会谈来访者有可能不再回来。治疗师处理家庭指定作业的灵活性，有助于来访者再次验证她对认知治疗适用性的疑惑。谈到对反馈和做出合理评价的反应，治疗师应陈述他的理解并移情于来访者，这可促进协作和信任。\n",
      "小结\n",
      "第一次会谈包括几个重要的目标：建立情感协调；精练概念化，社会化来访者进人认知治疗的过程和结构；对来访者进行认知模式的教育和对她的障碍的了解；提出希望和一些症状缓解。发展牢固的治疗合作关系（又叫“治疗同盟”），鼓励来访者与治疗师协作完成治疗目标是本会谈的主要目的。下一章将描述其他会谈的结构，第五章将详细讨论结构会谈中的困难。（魏志珺锋）师集中精力建立治疗合作关系（“治疗同盟”）和使症状缓解。月前状况和心境（医疗状况）检查心境检查通常简短易行，可结合本周的国前状况获得。治疗师诱发来访者一个主观描述，再用客观测试量表进行评估。如果量表评估和自我报告有差距，他应询问来访者。（如“你说你已感到好转，但实际上你的抑郁分值高于上周。这是什么原因呢？”)同时，他也将前面会谈的客观量表评定与现在的评定迅速进行了比较（如“本周焦虑分值较上周减低。你是否感到本周焦虑症状减轻？”）。\n",
      "\n",
      "True\n",
      "治疗师的策略包括通过简洁心境测试和本周回顾来验证来访者的情绪焦点，并与来访者一起检查过去会谈中的进步。治疗师还关注来访者的微小心境变化，并引导她解释这些变化的原因，以加强认知模式和暗示她的自我管理能力。此外，治疗师进行客观评估，寻找积极或消极的变化，并可能要求额外的资料以更全面了解来访者的问题。如果来访者正在接受药物治疗，治疗师会检查依从性问题、副作用或疑问，并建议必要时寻求医学或精神科会诊。最后，治疗师通过与以前会谈的联系，帮助来访者准备当前会谈，并鼓励她使用会谈连接作业表来做进一步反思。这些策略旨在促进有效的治疗过程，同时提醒来访者对治疗内容的复习和对治疗师的反馈。 这里来访者提供了有关她心境的简单陈述。当她最后已开始详尽描述时，治疗师应努力社会化她、使她做出简明的阐述（如：“来访者，我能打断你一会儿吗？你能仅用一句话告我，与上次相比你的抑郁和焦虑症状如何？·…或我们是否应将“心境检查”列入日程，以便我们能利用更多的时间讨论它？”）。\n",
      "来访者也提出两个问题。治疗师将问题记录在日程，而没有在此时展开讨论。如果他已允许她开始对问题进行详尽的描述，他应及时终止来访者的这个机会，而思考会谈中讨论什么对她是最重要的。他也可能已经放弃工他预期的使治疗过程更有效的条款的讨论。\n",
      "在己经注意到她的心境的微小变化后，治疗师要求她做出解释。如果合适，他会指出积极的进步是来访者行为或思维改变的结果，而不仅仅因为环境的改变：“你感到好转但并不知道为什么。\n",
      "你注意到这周你的思维有什么变化吗？在你做事的时候？”同样，如果她的心境已变坏，他应寻求来访者的原因：“为什么你认为本周你感到很糟糕？是否你的思维或你做的事引起了什么变化或不是因为这些？”治疗师以这种方式巧妙的加强认知模式，并暗示惠者她已有一些管理自已进步的能力（并因此有责任感）。\n",
      "简洁心境测试和本周回巅为治疗师创造了儿个机会。他能验证来访者上周感觉的重点。他和来访者可蓝察，在过去的会谈中来访者已取得怎样的进步。他能确认（然后能加强或纠正）来访者对她的进步或退步的解释。他也能加强认知模式：也就是来访者已有的看待情境的方式影响了她的心境。\n",
      "当复习客观评估时，治疗师要明确复习具体项目，以寻找积极或消极的变化（例如：自杀意念或绝望感的变化）。他也许要求得到不专门包括在测试中的附加资料，这些可能与她目前的问题有关（惊恐障碍来访者的一些惊恐攻击，贪食症来访者暴食的日数，有敌意来访者的0～100愤怒等级评估等）。\n",
      "如果来访者正因心理问题服药治疗，治疗师应简单检查依从性问题、副作用或疑问。如果治疗师本人不是内科处方医师，他首先应获得来访者的允许，然后定期与内科医师联系，交换信息和建议。尽管治疗师不直接推荐来访者改变药物，他也许帮助她对妨碍服药和减药的意念做出反应（当合适时）。他也许帮助来访者阐明或写下有关副作用、剂量、选择药物等特殊的问题，以至来访者更可能从她的医师那里寻求信息。他也建议尽管药物可能对她的感觉好转起部分作用、但惠者自身的努力也可能使她有所改进。如果来访者不再服药，而治疗师相信精神药物有效，他应建议医学或精神科会诊。\n",
      "与以前会谈的联系这个简要条款的目的是检查来访者的知觉和对以前会谈的理解。通过问她对前面会谈的认识，思考本周的治疗，鼓励来访者准备现在会谈。如果来访者不回忆前面会谈的反应或重要要点及治疗师和来访者如何解决问题，她不能较好地记住目前会谈的内容。这样，治疗师可建议，例如来访者使用会谈连接作业表（见图4-1）即从思会谈连接作业表1．上个会谈我们讨论了哪些重要的问题？你从中学到了什么？（1～3句话）2、上个会谈有什么事使你烦恼吗？你有什么事不愿讲吗？3.你的这·周怎磨样？与其他周相比，你这一周的心境如何？（1～3句话）4.这周有无什么重要的事发生并需要讨论？（13句话）5、你想要将什么问题列人日程？ （1-3句话）6．你做了或没做什么家庭作业？你学到了什么？图4-1想上也以书写的方式来准备下一会谈。要求对过去会谈做出进一步反应，这样可引出重要的、来访者前面没有提供到的反馈。如果项目确定需要多于一分钟或应分两项讨论，治疗师可将此项目并作为附加日程条款。与过去会谈的连接可帮助社会化来访者进入治疗过程一一给她以下信息：她有责任复习每一会谈的内容，有责任告诉治疗师她是否因治疗师或前会谈的事而烦恼。\n",
      "\n",
      "True\n",
      "在会谈期间，治疗师可能会根据特殊情况提议改变时间分配，例如，来访者需要更多时间讨论特定问题，或出现了新的严重问题。治疗师会引导来访者回避次要问题，以确保会谈达到特定目标。此外，治疗师可能会故意约束来访者进行更随意的谈话，例如询问家庭情况或时事看法，以促进关系和心情愉快。家庭作业复习被认为对治疗效果有积极影响，规律完成家庭作业的来访者病情改进明显。治疗师强调家庭作业的重要性，并在每个会谈中进行复习，以传达连接工作的价值。家庭作业复习可能占据整个会谈时间，尤其当来访者想讨论的问题包括在家庭作业中时。治疗师在家庭作业复习中的角色是引导和支持来访者，确保其完成家庭作业并从中获益。 在会谈期间由于一些原因，治疗师可提议改变时间分配。例如，正像前面的转抄所说，来访者在一个特殊的问题上十分烦恼，需要用更多的时间讨论它。或，文出现了新的似特别严重的问题。或在会谈中来访者的心境改变（变得更糕）。治疗师指导来访者回避次要的问题，那些问题是指没有列人原来目程，并且没被允诺将在本会谈中帮来访者解决的。当治疗师为了达到特殊的目标，故意（即便通常是简洁的)约束来访者进行更随意的谈话时，显著的意想不到的事情可能发生。例如，治疗师也许问来访者刚看过的电影，或询问她的家庭情况，或为了使她心情愉快，促进他们的关系询问她对时事的看法，或分析她的认知功能或社会技能。\n",
      "家庭作业复习研究结果显示，规律完成家庭作业的来访者较不能完成者病情改进明显。在每个会谈复习家庭作业能强化这个行为，传达进行各会谈之间连接工作的价值。我们的经验提示，如果不复习家庭作业，来访者则开始相信它并不重要，从而敷衍了事，使家庭作业的质量发生戏剧性的下降。有时，家庭作业复习相当简单：然而，有时它可能占用几乎整个会谈，尤其当来访者想讨论的问题包括在家庭指定作业中时。第十四章将十分详尽和深入地讨论家庭作业）这里列举治疗师如何理想地进行家庭作业复习的例子\n",
      "\n",
      "True\n",
      "治疗师计划在会谈期间复习所有家庭指定作业，并将考试的自动思维作为主要问题留待后续深入讨论。他将家庭作业复习与日程问题讨论融合，以确保会谈进展顺利。治疗师在日程问题讨论时给予来访者选择的权利，以促使她更积极主动地参与并负责任。同时，治疗师在会谈中贯穿治疗目标，加强认知模式，帮助来访者确认自动思维，并通过深入了解来维持和建立治疗师和来访者之间的协调关系。这些策略旨在促进来访者更深入地参与治疗过程，同时确保治疗目标得到贯彻和实现。 治疗师打算在会谈期间复习所有家庭指定作业，因此他注明有关考试的自动思维，并做为主要问题将在后面会谈深入讨论。\n",
      "治疗师没有和其他日程条款分开来复习所有家庭作业。确实，许多有经验的治疗师善于将家庭作业复可和日程问题讨论融会起来进行。然而，初学者对于会谈的进程和还有什么问题尚未解决需要有清楚的思路。依附于清晰的会谈结构，标明将在后面讨论的条款，会谈进展起来就显得容易的多。例如对这个治疗师来讲这是很容易的，既集中讨论了考试问题又着手复习来访者其余的家庭作业。\n",
      "日程问题讨论，布置新的家庭作业及阶段总结多数情况下，治疗师问来访者，她想先从哪一项日程条款开始。\n",
      "这样做是为了给来访者机会，使她更积极主动地参与并使她更负有责任感。有些时候，治疗师起主导作用，建议应从哪项日程条款开始，无其当他判断，一个特殊日程条款的选择将导致会谈顺利进展时。（“如果我们从讨论寻找业余工作的问题开始，你认为行吗？）无论讨论什么问题，治疗师能恰如其分地将他的治疗目标贯穿其中。在第二次会谈，治疗师不仅仅寻求帮助来访者解决一些间题，而还要完成以下任务：（1）将问题和来访者的治疗自标联系起来。（2）加强认知模式。（3）不断教来访者确认她的自动思维。（4）通过帮助来访者对她的焦虑思维做出反应，使得一些症状缓解。（5）在会谈中随时应做的，通过深入的了解，维持和建立治疗师和来访者之间的协调关系。\n",
      "\n",
      "True\n",
      "治疗师可以要求来访者完成一份用心写出的治疗报告，以确保她充分表达对会谈的反馈。随着治疗的进展，治疗内容将根据来访者的问题和目标以及治疗师的目标而改变。在最初阶段，治疗师主导并帮助来访者确认和纠正自动思维，设计家庭指定作业，并概括会谈。随着治疗的进行，责任逐渐转移至来访者本人，她应能确定大多数日程条款，使用评估量表评估思维，设定自己的家庭指定作业，并概括治疗会谈。治疗师还逐渐从单独强调自动思维过渡到既强调自动思维也重视根本信念，并相对强调行为改变。在治疗的最后阶段，重点转移到准备结束会谈和预防复发。这些策略旨在逐步转移治疗责任，促进来访者的自我管理和行为改变，以实现治疗的最终目标。 如果治疗师意识到，来访者没有完全表达她有关会谈的反馈，或如果他判断，本会谈结束时，来访者仍对她学广什么没有充分的反应，他可以要求她完成一份用心写出的治疗报告。后续会谈和其他会谈继第二次会谈后的会谈仍使用相同的格式。治疗内容根据来访者的问题和目标及治疗师的目标而改变。本会谈将概括跨会谈的治疗流程。更详细的治疗计划的描述参见第十六章。正如前面所述，在最初阶段建议日程条款时，治疗师起主导作用，帮助来访者确认和纠正自动思维，设计家庭指定作业，并概括会谈。随着治疗的进展，责任应逐渐得以转移。接近会谈结束时，来访者本人应能确定大多数日程条款，使用评估量表如功能障碍性思维记录（见第九章）评估她的思维，设定自已的家庭指定作业，概括治疗会谈。\n",
      "另一逐渐的转移，是从单独强调自动思维过渡到既强调自动思维也重视根本信念（见第十、十一章）。同时、也转移到相对强调行为改变，即使是较难预见的方式。从开始治疗，应鼓励抑郁症来访者计划社会活动并主动参与（见第十二章）。（一个严重抑郁来访者可能不能集中精力进行认知作业，治疗师应激发她的行为，症直到她的抑郁症状充分缓解，充许她进行认知作业）治疗师回买强调行为改变，是为了使来访者确认一些思维或信念，或实践新的技能如自信（见第十二章）。当治疗进入最后阶段，还有一个转移：准备结束会谈和预防复发（见第十五章）。\n",
      "\n",
      "True\n",
      "治疗师的策略包括向来访者传达她的问题是存在的，并可以逐个解决，同时强调她在解决问题过程中并不孤立。治疗师通过强行让来访者选取一个问题，帮助她聚焦并走向问题的解决，同时也接受来访者拒绝选择的可能性。治疗师还指出自动思维的重要性，帮助来访者认识并评估自己的思维模式，以及对自动思维进行合理的反应。治疗师通过举例讲解自动思维，帮助来访者理解自动思维的特点和影响，以及如何对自动思维进行评估和调整。这些策略旨在帮助来访者认识和应对自己的思维模式，从而促进情感的积极转变。 在这个例子中，治疗师应给辛来访者这样一个信息，即她的问题确实是存在的，同时这些问题也是可以逐个解决的。而且在解决问题的过程当中她也不是孤立的。强行让她选一个问题是为了让她聚焦于所选的问题，以帮她走向问题的解决。如果来访者拒绝作出选择，治疗师可以换个不同的方式。点穿了来访者的绝望并坦陈了治疗师不能保证一定会成功之后，来访者可能会愿意花上数分钟试试能否解决问题。\n",
      "检查家庭作业典型的问题就是治疗师急匆匆地介入来访者的日程问题，而没有问问惠者前一周所做的家庭作业。如果治疗师案前备有《会谈六要素》（见第四章）及前一一周记载有作业布置的工作笔记，他就更容易记得问问来访者关于家庭作业的事了。相反的问题发生于治疗师在转入来访者的日程主题之前，对与来访者那天的忧郁无关的家庭作业检查得过细。其他有关家庭作业的问题将在第十四章中详细讨论。\n",
      "关于日程项目的讨论这里出现的典型问题包括绝望、不能集中或讨论离开正题、不能有效地定步(来访者acing)以及没有进行治疗性干预。当治疗师没有通过温和地打断（引导来访者回到当前的问题上来）以充分地制定整个讨论时，当治疗师没有就重要的自动思维、情感、信念和行就是要教会给他们一种工具，有意识，有步骤地评估他们的思维，尤其是在他们到不安时。\n",
      "举个获丽的例子。当她在阅读个经济学章节时，也产生了与面读者同样的思维：“这个我不明白。”她的想法其至还要极端：“我永远也不会明白。”她坚信这种想法并感到非常伤心。然而在她学习了认知治疗以后，她就能够以消极情绪为线索去寻找，确认并评估她的思维，因而产生更为适应的反应：“等一会儿，我不会永远不明自的，我现在是遇到了些麻烦，但如果我再读一遍或出去透会儿新鲜空气后再回来接着读，我会更明白些的。退一步讲，我也不是非要弄明自不可，何况必要的时候我还可以请别人给我讲解一下嘛。”\n",
      "尽管自动思维看上去是自发地涌现的，然而其背后隐含的来访者的信念一旦被确认，自动思维就变得可预测了。认知治疗师所要做的就是确认那些错误的思维，也就是说那些歪曲了现实、造战精神痛苦和或妨碍来访者实现国标的思维。除非来访者是躁狂或轻躁狂、自恋型人格障碍或物质滥用者，否则错误的自动思维总是消极的。\n",
      "自动思维常常是非常简洁的，而且来访者往往会把她觉察到的情绪看成是思维的结果而不是思维本身。在会谈中，来访者常会觉察到·些焦虑、忧伤、愤怒或尴尬，但觉察不到自动思维，直到治疗师向她询尚。\n",
      "来访者所感到的情绪与自动思维内容是有逻辑关联的。例如来访者想：“我真笨，我实在听不懂（治疗师）在说什么”，并感到伤心。另一次她会想：“他在看钟，对他来讲我不过是文一个惠者而已，”并感到愤怒。当她想到“如果治疗没有效果怎么办。”时她就会感到焦虑。\n",
      "自动思维通常以“速记”的形式出现，但当治疗师询问其含义时，自动思维也可以很容易地拼读出来。例如，“噢，不！”可以解读为“（治疗师）要给布置大量的作业了。“见鬼！”可以解读为“我把约会记录本忘在家里了，今天我没祛和治疗师安排下一次预约了，我真。”自动思维可以以语词形式、视觉形式（相像）战两种形式同时出现。来访者除了有语词形式的自动思维（“噢，不！”）之外还有视觉形式的，如出现自已深夜独坐在书桌前，埋头做家庭作业的形像（参见第十三章关于视觉形式自动思维的描述）。对自动思维的评估可以根据其有效性（validi治疗师y）和有用性（u治疗师ili治疗师y）来进行。最常见的自动思维是有某种程度的曲且尽管有相反的客观证据时，它还是照常出现。第二种类型的自动思维是准确的，但其得出的结论可能是歪曲的。例如：“我没有兑现（对室友的）承诺”是有效的思维，但其结论“因此我是个坏家伙！”是无效的。\n",
      "第三种自动思维也是准确的但绝对是错误的。例如来访者在复习准备考试，她想：“看完这些还要花好几个小时，我得熬到凌晨三点钟了。”毫无疑问，她的思维是准确的，但这增加了她的焦虑，使注意力和积极性下降。对这一思维的合理反应称为自动思维的有用性：“看完这些书的确要花很长时间，但我能看完。我以前就看过。老是去想会花多长时间只会使我感到痛苦，精力也不能集中，看完这些要花的时间可能会更长。我最好先集中精力看完一～部分，给自已一个信心。”评估自动思维的有效性和/或有用性并采取适应性的反应一般都会使情感发生积极的转变。\n",
      "总的来讲，自动思维是与较明显的思想流共存的、自发产生的、不是基于反省或深思熟虑的。人们通常更多地意识到的是与自动思维相关的情绪反应，但稍加训练后他们就可以对自已的思维有所认识。与个人问题有关的思维依其内容及意义的不同会发生特定的情绪反应。自动思维通常是简洁的、稍纵即逝的、以“速记”的形式出现、可表现为语词性的和或形像性的。人们通常对自动思维信以为真而不加思考与评估。对自动思维加以确认及反应（以更为适应性的方式）通常会使情感发生积极的转变。\n",
      "给来访者讲解自动思维最好能举来访者自身的例子来讲解自动思维，第三章中有一个样式，下面再列一个。\n",
      "\n",
      "True\n",
      "治疗师的策略包括识别来访者在会谈中产生的自动思维，并通过回忆、想像、角色扮演或假设的方式引导来访者对会谈之间所遇到的困境曾有过的自动思维。治疗师通过提问来引导来访者识别自动思维，包括询问来访者在会谈中的内心想法，让来访者描述困境或情感变化的情境，并通过想像或角色扮演的方式详细描述特定情境并提出问题。此外，治疗师还通过推测来访者的内心想法、询问是否在想象或回忆特定情境以及询问情境对来访者的意义等方式来帮助来访者识别自动思维。治疗师强调在会谈中意识到来访者情感变化的时机是识别来访者自动思维的最佳时机。这些策略有助于帮助来访者认识和理解自己的自动思维模式，从而促进治疗过程的深入和有效进行。 识别自动思维学会识别自动思维的技巧与学习其他技巧是类似的。有些来访者（及治疗师）很快很容易就能掌握，另外：一些则需要较多的指导及练习来确认自动思维及形像。下面两部分讲述了识别自动思维的程序（见图6-2的总结）第一个办法就是识别来访者在会谈当中产生的自动思维，第二个办法就是通过回忆、想像、角色扮演或假设的方式引导来访者对会谈之间所遇到的困境曾有过的自动思维。\n",
      "娇此自动想维的技术基本向题：\n",
      "刚才您心里在想什么？\n",
      "识别自动思维：\n",
      "1．当注意到来访者在会谈中有情感变化或增强叶提上面的问题。\n",
      "2、让来访者撤述困境或她体验到情感变化的一段时间，并问上面的问题。\n",
      "3．如果有必要，让惠者用想像详细描述这特定处境及时间段（犹如现在发生的一一样）然后问上面的问题。\n",
      "4、如果行必要在兴趣得话，让来访者与您表演特定的角色让动、然后问上而的叫题。\n",
      "其他识别自动思维的刷题；[您推测下刚才在想什么？\n",
      "2.您认为公是在想载吗？（治疗师举两个似乎行理的可能性）3．您是不是想像会发生什么事或想起己经发生的什么事？\n",
      "4.这一处境对您意味着什么？（或谈谈您自己吧）5、您是不是在想？（治疗师举个与顶期的回答相反的思维）图 6-2识别自动思维的技术概要识别会谈当中的自动思维识别来访者自动思维的最佳时机就是治疗师在会谈中意到有情感变化的时候。\n",
      "\n",
      "True\n",
      "治疗师的策略包括保持对来访者语言和非语言线索的警觉，以引导出与情绪变化相关的重要自动思维。这些自动思维可能涉及来访者自身、治疗师或讨论主题，对其进行识别至关重要，因为它们在问题概念化中起着关键作用。治疗师需要及时识别这些自动思维，以创造迅速检验并对其做出反应的机会，从而促进会谈的顺利进行。治疗师还需要保持警觉，观察来访者的面部表情、肌肉紧张、姿势变化以及语调、音高、语量、语速的改变等非语言和语言线索，一旦注意到情感变化，立即询问来访者她心里所想，以检出自动思维。如果来访者无法表达自己的思维，治疗师可以通过让来访者集中于自己的情绪及生理反应的办法慢慢唤起她的回忆。 对惠者出现的语词性或非语词性的线索保持警觉至关重要，这样才能够引导出“热性认知”（ho治疗师cogni治疗师ion），也就是在会谈当中出现的与来访者的情绪变化有联系的重要自动思维和相像。这些热性认知可以是有关来访者自身的（“我真没用”），有关治疗师的（“他不理解我”）或有关讨论主题的（“让我做这么多太不公平了”）。识别热性认知之所以重要是因为它们在概念化当中非常关键。总的来讲、这些充满情感的思维是我们要解决的最重要的问题。此外，这些热性认知会削弱来访者的动机或价值感，满足感。它们可能会妨碍来访者对会谈的专注，最终可能妨碍治疗关系。不失时机地识别自动思维可为来访者创造迅速检验并对自动思维做出反应的时机，从而使余下的会谈进展更顺利。\n",
      "当来访者有情感变化时，治疗师文怎么能发现呢？治疗师对来访者的非语词性及语词性提示保持警觉，前者如面部表情变化、肌肉紧张、姿势变换或手势变化，后者包括语调、音高、语量、语速的改变。当注意到有变化时，治疗师猜想有情感的变化并立即问惠者她心里刚才想的是什么以检出自动思维，如果来访者讲不出自已的思维，治疗师可以通过让来访者集中于自己的情绪及生理反应的办法慢慢唤起她的回忆。\n",
      "\n",
      "True\n",
      "治疗师的策略主要集中在教导来访者确认和评价错误的自动思维，并进行矫正。治疗过程从确认特定处境下的自动思维入手，需要治疗师认真倾听来访者的言辞，帮助她识别自动思维。治疗师努力帮助来访者区分自动思维与情绪，并通过不断设法帮助来访者用认知模式来看待她的体验。治疗师将来访者提供的材料按认知模式加以组织分类，同时保持警觉以应对来访者混淆思维和情绪的情况。在特定情况下，治疗师可以决定暂时忽略混淆，或在稍后讨论其他事情时加以解决。治疗师的策略旨在帮助来访者理解和纠正错误的自动思维，促进认知模式的建立和应用。 总而言之，有心理障碍的人他们的思维一定出现了错误，认知治疗师就是要教会来访者确认错误的思维，然后加以评价并矫正。\n",
      "治疗过程从确认特定处境下的特定自动思维入手。确认自动思维的技术在有些来访者看来非常容易而且自然，而对另一些来访者来说就要难得多。治疗师必须认真倾听来访者以确定她所说的是实际的思维，并且当来访者不能识别自动思维时改变提问方式。下一章要在诸多事物之中区分自动思维与情绪。(唐锋)分自动思维与情绪很多惠者并不能清楚地理解他们所想的与他们的情绪感受有什么区别。治疗师设法弄清来访者的体验并将他的理解告知来访者。他不断地设法帮助来访者用认知模式来看待她的体验。治疗师把来访者提供的材料按认知模式加以组织分类：处境！自动思维和反应（情绪、行为和生理的）。对来访者混淆思维和情绪的情况保持警觉很重要。这些时候，治疗师可根据会谈的进展情况、他们的目标以及双方合作的程度来决定对这种混淆是完全忽略还是在晚些时候或当时就加以解决。\n",
      "有时候，在特定的情况下错误地把思维当作感受相对而言并不重要，这种混淆即使要处理的话也最好在稍后讨论其他事情时进行。在该例中，治疗师完全忽略了来访者的混淆。\n",
      "\n",
      "True\n",
      "治疗师的策略包括使用消极情绪清单和简短讨论来帮助少数来访者区分和量化情绪强度。这有助于来访者检验情绪强度，纠正错误的情绪信念，并评估思维和信念的适应性反应。治疗师通过评定情绪强度的变化来判断认知是否需要干预，并决定是否需要对特定处境进行更详尽的研究。这种策略有助于确保治疗师和来访者能够有效地处理情绪，帮助来访者学会自我评定情绪强度，从而更好地应对情绪和信念。 重申一下，对大多数来访者而言是不需要采用这种技术来区分情绪的，另一些来访者可能只需按上面的顺序快速讨论一遍就可以了。对少数来访者而言，《消极情绪清单》（见图7-2）加上简短的讨论可能会有效。\n",
      "悲伤、压抑、孤独、不悦焦虑、担心、害怕、恐惧、紧张愤怒、恼火、生气、烦恼害臊、造尬、差舒失望嫉妒、美幕愧痰伤害疑虑图7-2 消极情绪评定情绪强度的困难不但要确认情绪而且也要对体验到的情绪强度进行量化，这对来访者来说很重要。有些来访者对情绪本身也有错误的信念，例如他们坚信如果能感到一些烦恼的话、这些烦恼就会进一·步增强直至无法忍受。学会评定情绪强度可以帮助来访者检验借念。\n",
      "此外，对思维和信念加以询间并作适应性的反应是否收到了效果？评价这-点很重要。治疗师和惠者可以通过粗略地测算情绪强度的下降值来判断对某一个认知是否需要进步的干预。治疗师如果没有评定烦恼的改变程度，就很可能会错误地认为于预已经成功并过早地进人到下一个思维或问题的干预中去，或者相反地，他们可能会不停地讨论某个自动思维惑信念，，全然不知道来访者已不再为这点烦恼了。\n",
      "最后，对特定处境下的情绪强度进行评定有助于治疗师和来访者决定是否有必要对该处境进行更详尽地研究。情绪反应相对小的处境，其讨论价值就不如反应较强烈的处境，因为在后者中重要的信念可能很活跃。\n",
      "大部分来访者无需很多帮助就可以很容易地学会评定情绪的强度。\n",
      "\n",
      "True\n",
      "治疗师的策略包括帮助来访者区分思维与情绪，理解来访者的情绪并帮助她评价影响心境的错误思维。治疗师在一次会谈中选择关键的自动思维进行评价，教会来访者评价自身思维的方法。在揭示出自动思维后，治疗师可以选择集中于该思维、进一步询问与该思维有关的处境、探明该自动思维的典型程度、确认该处境下出现的其他思维及想像、解决与自动思维有关的处境、探询隐藏在自动思维之后的信念，或转到其他话题。治疗师在做出选择时会考虑目标、来访者的日程安排、思维的重要性和典型程度，以及聚焦于该思维对来访者是否有普遍意义。这些策略旨在帮助来访者理解和处理影响情绪的错误思维，促进她的概念化和合作。 总而言之，治疗师的目标是要清晰地了解困扰来访者的处境，他帮助来访者区分思维与情绪，在此过程中理解来访者的情绪并帮助她评价影响心境的错误思维。\n",
      "(唐锋)来访者每天产生的思维成干上万，有些是错误的，有些则不是。\n",
      "为有效地治疗，在一次会谈中治疗师只选择一个或几个关键的思维来加以评价。本章讲述的是如何选择最有用的自动思维加以评价，如何教会来访者一套评价自身思维的方法。\n",
      "决定是否要集中于某自动思维在一次会谈中，治疗师可以揭示出几个或许多的自动思维。\n",
      "当揭示出一个自动思维后，他如何决定下一步做什么。选择可以是多样的，他可以：1.集中于该自动思维。（对这一思维您相信多少？这一思维让您情绪如何？产生这一思维后您做了什么？2.进一步询问与该自动思维有关的处境（就在您产生这一思维之前卡伦对您说了什么？这是什么时候的事？当时您在哪儿？请多说些有关这处境的事）3.探明该自动思维有多典型。（这种思维出现有多频繁？在什么情况之下？对您的干扰有多大？）4.确认该处境下出现的其他思维及想像。（您心里还想到别的什么吗？有没有想像及图画？）5.就自动思维有关的处境加以解决。（对此您能做些什么呢？您以前是怎么处理这类事的？您希望您能做什公？）6.探询隐藏在自动思维之后的信念。（如果这思维是对的这对您又意味着什么？）7.转到其他话题。（好的，我想我明白了，您能告诉我这周还发生了别的什么事吗？\n",
      "在这些选项中治疗师如何择定呢？他会自问1.这次会谈中我要达到什么目标？聚焦于这个思维对达到该目标有帮助吗？\n",
      "2惠者的日程定的是什么2聚焦于该思维能解决她要处理的问题吗？如果不能，我们又有充裕的时间解决她所关心的问题吗？评价这个思维时她会与我合作吗3，这个思维是否重要，值得集中吗它看上去明显的歪曲或错误吗？它有多典型或多核心？聚焦于该思维对来访者是否有普遍意义探讨该思维是否更有助于使来访者概念化？例如，来访者讲述了她在图书馆曾遇到的一个问题：\n",
      "\n",
      "True\n",
      "治疗师在判断自动思维是否需要进一步讨论时，考虑了多个因素，包括来访者当前的情绪状态、是否已采取正确的方式来处理、处境是否已解决以及日程上的紧急问题。如果决定集中讨论某个自动思维，治疗师会询问来访者对该思维的信念程度和相关的情绪感受，以确定是否值得深入探讨。如果来访者坚信并且受到困扰，治疗师将根据认知模式提出问题，以获得更全面的印象。在获得更全面的印象后，治疗师会根据情况解释治疗的过程，以帮助来访者更好地理解治疗的目标和方法。这些策略有助于治疗师有效地处理来访者的自动思维，并引导来访者逐步认识和改变不利的认知模式。 这里，治疗师判定该自动思维没有进一步讨论的必要，尽管当时它非常恼人。这是因为：1.来访者不再因它而苦恼；2.来访者已经采取了正确的方式；3.该处境已经解决了；4.日程上还有许多更急迫的问题；5.来访者以前在遭遇类似处境时并没有出现错误的应付模式。\n",
      "集中自动思维决定集中某自动思维后，治疗师要问下面的问题，以设法肯定该自动思维值得探讨：\n",
      "1.对这个思维您现在相信多少2（0~100%）2.这个思维让您情绪感受如何？\n",
      "3.情绪强度是多少2（0%-100%）如果坚信及痛苦的程度都很低，治疗师会建议转向其他的问题。如果来访者坚决地相信该自动思维且明显地为之所困扰，治疗师就会根据认知模式提些问题形成完整的印象：\n",
      "1您什么时候有这个想法的？在什么特定的处境之下？\n",
      "2.在这个处境之下您还有过其他什么恼人的想法或想像？\n",
      "3.（尤其是对焦虑来访者）如果有的话，您注意到身体发生了什么情况？\n",
      "4．您接着做了什么？\n",
      "在获得更全面的印象后，治疗师会做下面的一件或几件事：\n",
      " \n",
      "提问的方式，到第二个或第三个会谈时，他会更清楚地解释治疗的过程。\n",
      "\n",
      "True\n",
      "治疗师需要确定自动思维评价无效的原因，特别是当来访者仍然坚信自动思维且情绪没有改善时。治疗师应考虑以下原因：首先，可能存在其他尚未确认和评价的更为核心的自动思维或想像。其次，来访者对自动思维的评价可能不合理、表面化或不够充分。第三，来访者可能没有充分地表述支持她自动思维的证据。第四，自动思维本身可能是一个核心信念。第五，来访者可能在情绪层面上仍然相信自动思维，即使她知道它是错误的。最后，来访者可能对评价打了折扣。治疗师需要针对不同情况采取相应策略，如引导出最核心的自动思维或想像，深入评价来访者的思维，以及诱导出来访者根据何种理由认为她的思维是正确的。这些策略有助于找出自动思维评价无效的原因，并为治疗师提供指导，以更有效地帮助来访者改变其自动思维。 弄清自动思维评价无效的原因如果来访者仍然非常相信自动思维，情绪也无好转，治疗师就要弄清楚最初重构认知的努力为什么效果不充分。通常要考虑的原因有下面这些1存在其他尚未被确认和评价的更为核心的自动思维和或想像。2.对自动思维的评价可能不合理、表面化或不够充分3.来访者没有充分地表述她所认为的支持她自动思维的证据。4.自动思维其自身也是一个核心信念5.来访者虽知道自动思维是错误的，但在情绪层面上并不这样认为。6.来访者对评价打了折扣第一种情况：治疗师没有引导出最核心的自动思维或想像。\n",
      "例如，来访者汇报了她的思维“如果我向校报投稿，我可能不会成功”。对这一思维进行评价并没有明显改变来访者的恶劣心境，因为她还有其他一些重要的（但未被确认的）思维：“如果我写的东西很糟糕怎么办？”她还想像编辑们带着嘲笑和不屑的表情看她文章的情景。第二种情况，来访者对自动思维的反应表面化。来访者的思维是“我完不成任务的，我要做的事太多了”。她对该思维没有认真地评价，而只是反应为“不，我也许能完成的”，这一反应是不充分的，因而来访者的焦虑并未减轻。第三种情况：治疗师没有充分地诱导出来访者是根据什么而认为她的思维是正确的，结果造成反应无效，如下面的对话：\n",
      "\n",
      "True\n",
      "治疗师的策略包括引导来访者评定自动思维的程度和情绪反应，以及帮助来访者对自动思维作出反应。在介绍D治疗师R之前，治疗师需要确保来访者已掌握并相信认知模式，并能够清晰地区分自动思维、情境、情绪和心理反应。治疗师还应在口头提问中引出特定情境伴随自动思维和情绪的例子，以确保来访者理解和掌握了相关概念。在介绍D治疗师R之前，来访者还应表明能够独立完成几个不同情境下的前四栏。治疗师还需要口头评估至少一个重要的自动思维，并在介绍D治疗师R之前减少来访者的焦虑。在确认有疑问的情境后，治疗师通过单独的口头提问帮助来访者确认特定的自动思维及伴随的情绪，并选择这些例子来说明D治疗师R的使用。这些策略旨在帮助来访者理解和应对自动思维，以促进治疗过程的有效进行。 将反应打折扣通常会采取“对的，但是··”的陈述：“对的我相信（这个反应），但是·”可以把这种陈述也当作一个自动思维来合乎情理地评价。\n",
      "概括地讲，评价了一个自动思维后，治疗师应要求来访者评定她相信反应的程度以及情绪反应。如果不太相信且仍然痛苦，治疗师就应该弄清为什么来访者的痛苦没有减轻。下一章讲述的是如何帮助来访者对自动思维作出反应。\n",
      "(盾勇译）D治疗师R。第一阶段介绍前面的四个空栏；第二阶段介绍后面的两栏。\n",
      "3、介绍D治疗师R之前，治疗师应确定态者已掌握并相信认知模式。（否则地就会不理解确认及评估其思维的价值）4.介绍D治疗师R之前，来访者应证明有确认其自动维和情绪的能力，她应该能够陈述当时的情境，她的情绪以及地的心理反应，而没有把自动思维混同于这三个。加果她没有清晰的理力并且不能在这些现象中间加以区别，那地应付D治疗师R就很可能遇到困难。这样，在演示如何在D治疗师R上记录这样的资料前，治疗师应口头诱出特定情境伴随自动思维和情绪的几个清晰重要的例子。\n",
      "5.在介绍最后两栏之前，惠者应表明能成功地独立完成几个不同情境下的前四栏。\n",
      "6.在说明如何完成最启两栏之前，治疗师应和来访者已经口头评估了至少一个重要的自动思维，并且已经减少了一些焦虑.如果来访者不能用D治疗师R完成家庭作业指定的作业，治疗师应引出对于做D治疗师R本身的自动思维，以实际的问题解决帮助来访者，有意把做D治疗师R当作一个试验，考虑透露他自已D治疗师R的使用，并且在其他方面刺激来访者。\n",
      "确认有疑问的情境后，治疗师首先通过单独的口头提问帮助来访者确认特定的自动思维及伴随的情绪，他可以选择这些例子来说明D治疗师R的使用。如果首先没有成功地确认重要的情境、自动思维及情绪，治疗师就介绍D治疗师R，那么如果后来来访者不能正确地确认这些不同的项目，治疗师就冒了把来访者弄糊涂的风险。\n",
      "下面的会谈中，治疗师给惠者介绍空白的D治疗师R之前，他已经弄清了某一特定自动思维D治疗师R前四栏的内容。\n",
      "\n",
      "True\n",
      "治疗师采用多种策略来帮助来访者应对自动思维，包括确认和处理功能障碍性思维、解释D治疗师R的作用和限制、以及提供反映自动思维的其他方法。治疗师强调不要过分强调功能障碍性思维记录的重要性，而是将其视为学习的机会，帮助来访者避免自我批判和贬低反应。针对不同个体，治疗师解释D治疗师R可能无法显著降低焦虑的原因，并指出自动思维评估可能不会最理想地显效的情况。此外，治疗师提供了多种不需要书写的方法来反映自动思维，如心理上做D治疗师R、阅读以前治疗中所写的自动思维的笔记等。最后，治疗师强调问题的解决比评估自动思维更有用，鼓励来访者寻找解决方法。总体而言，治疗师教导来访者多种方法来反映歪曲的思维，增加了来访者使用该重要工具的机会，并提供了其他方法来处理自动思维。 下一会谈中，来访者事情的讨论可能涉及到自动思维的确认，和有关的形象，诸如他人看到D治疗师R，与能够感觉好一些相关的绝望，不想付出矫正其情绪所需要的努力，或者其他妨碍来访者完成D治疗师R的功能障碍性观念。\n",
      "当功能障碍性思维记录不充分有用时由于认知治疗中有许多方法，因此，不要过分强调其重要性，这很重要。许多来访者从一些方面发现完成特定的D治疗师R并没有多少缓解。通过强调其般的作用及“问题症结”作为学习的一个机会，治疗师帮助来访者避免自动思维批判她自己、该治疗、治疗师或D治疗师R本身。\n",
      "依个别来访者而定，治疗师可解释D治疗师R为什么不能显著降低来访者黛虑的常见原因，正如前一意所描述的，如果来访者不能对使她最不安的思维或意象作出反应，如果她的自动思维是核心信念或激活了的-个内在的信念，如果她的评估和反应是肤浅的，或如果她贬低了她的反应，那么自动思维（有或无D治疗师R）的评估可能不会最理想地显效。\n",
      "反映自动思维的其他方法本章至此强调了反映自动思维的书写方法，然而，对来访者来说用书写的方法对每个自动思维反应，这不实际也不需要。如果她这样做了，她的生活就会浪费在如此的负担中。事实上，有些惠者（尤其是那些强迫性人格障碍者）可能太多地使用D治疗师R，其他思者则不能或不愿做书写的指定作业。下列是选择的方法，它们不要求书写：\n",
      "1.心理上做D治疗师R2.阅读以前治疗中所写的包含确认的或相似的自动思维的D治疗师R或笔记3.对某些人听写D治疗师R矫正过的形式，或让他阅读以前所写的反应（如果该来访者能理解但不能自已阅读或书写)。\n",
      "4.阅读应付卡（见第十二章）。\n",
      "5.听一个治疗会谈或录音带某一章的部分最后，有时问题的解决比评估自动思维更有用。举例来说，来访者有这个思维：“考试前我再也不学经济学这些东西了”，通过仔细地提问，她的治疗师得出结论：即如果来访者继续像以往那样学习，事实上她很可能不能充分地学好这些知识，他认为利用治疗时间帮助她设计真正生活问题可能的解决方法会更好一些，包括从同学那儿借笔记，去教授那儿请求帮助，画出所读教课书章节的重点，安排与朋友一起学习等等。\n",
      "概括之，治疗师教给来访者各种各样的方法来反映她的歪曲的思维，细心地传授D治疗师R，增加了来访者他们自已使用该重要工具的机会，但是，如果来访者不能或不愿使用D治疗师R，还有其他方法反映自动思维。\n",
      "(称静译)避免消极情绪表现高昂的情绪（例如，吸引注意力）尽最完美故意地表现无能或无助过度地负责逃避责任避亲密关系寻找不适当的亲密关系寻求认可逃避注意例避对抗激怒他人孩子般的行为嫩出权威者姿态试图使他人愉快与他人保持距离或仪想取悦自己图10-4典型的补偿策格1.来访者可实际地明确表达某一信念为某一自动思维，尤其如果她在抑郁的时候。\n",
      "\n",
      "True\n",
      "治疗师在决定是否对来访者的重要中间信念进行工作时，会先确认该信念的强度和对生活的影响程度。治疗师会问自己一系列问题，包括该信念的内容、来访者对其的信仰程度、以及是否现在就应该对其进行工作等。治疗师会考虑来访者是否愿意对该信念进行工作，以及是否具备足够客观性评估它的能力。治疗师还会考虑当前会谈是否有足够的时间和空间来开始对该信念进行工作。一般来说，治疗师会等到来访者学会确认和矫正自动思维的工具，并且已经获得了一定症状的缓解后，才会进行信念矫正。此外，治疗师会使用特定的信念作为例子，教育来访者有关信念的性质，并强调信念是可以被修正的。这些策略有助于治疗师在进行信念矫正时，充分考虑来访者的意愿和能力，并为信念矫正提供了一个系统的方法。 认别完重要的中间信念后，治疗师决定是否将该信念对来访者叙述清楚。如果是这样，是否仅作为一个将来要对之工作的信念而确认，或是否他们现在就对此工作。为了帮助他在这些选择中决定，治疗师问他自己：该信念是什么？?来访者相信它的强烈程度如何？如果强烈，其影响她生活的广度如何？影响她生活的强烈程度如何？。如果强烈地影响，我应该现在对它工作吗？来访者愿意对它工作吗？在这个问题上她能以足够的客观性评估它，这可能吗？今天的会谈中我们有足够的时间开始对它工作吗？它符合我们日程上的项目，或来访者会顺从我们日程项目的推迟讨论而为探究该信念赢得时间吗？一般地，治疗师抑制住不进行信念矫正，直到来访者学会了确认和矫正其自动思维的工具，并且已经获得了有些症状的缓解为止。信念矫正对·一些来访者相对地简单，而对另一些却非常困难。在作为后面的核心信念矫正可能十分困难前，中间信念的矫正通常地已经完成。\n",
      "关于信念教育来访者认别完重要的信念并查出来访者相信它后，治疗师可使用一特殊的信念作为例子教育来访者有关大体上的信念性质。他强调有一个来访者能采用并且能被学会的潜在信念范围，信念不是固有的，因而能够被修正。\n",
      "\n",
      "True\n",
      "治疗师在矫正来访者的信念时，首先明确核心信念，并系统地阐明更为适当的信念。他不是强加新信念，而是通过合作的方式引导来访者构思更功能性的信念。治疗师还教育来访者信念的性质，并帮助她评估持续坚持该信念的好处和不利之处。治疗师连续地询问来访者对假设的信念现在的信任程度，以估计是否需要进一步的工作。他还建议在治疗笔记上记录已探究过的信念，并指定每日家庭作业来重新评估信念的强度。治疗师采用苏格拉底对话、行为实验、认知连续体等策略来矫正信念，以帮助来访者更理性地评估和改变信念。 系统地阐述新的信念为决定运用哪种策略矫正特定的信念，治疗师明确地对其自身陈述某一更为适当的信念，他问自己：“什么信念会对来访者更加有用？”\n",
      "例如，图10-5列出了获来访者的目前信念和治疗师头脑中的新的信念。虽然，构造一个新的信念是一协作性的过程，然而治疗师头脑里仍然系统地阐明了更有理由信念的范畴，以便他能适当地选择策略改变老的信念。\n",
      "概括地说，治疗师试图矫正来访者的信念前，他应证实这是核心的、强烈坚信的信念，并且在其头脑中系统地阐明主题上与一一功能障碍性信念有关、更加功能性、并不刻板的信念，但是他相信该信念终归给来访者更大的满意。他没有将该信念强加于来访者，而是宁愿使用苏格拉底对话，以合作的态度指导来访者构思一选择性信念。另外，他可教育来访者信念的性质（例如，它们是观念，没勃川的催念较能功能的信念1．如果没有划人做得 如果我没有别人做得好，我不是火败者、侵仪是·个人。好，我就是失败者。2.如果我请求帮助、它 巧我需要时如果我请求帮助，我就鼠示了好的问题解决的就是软竭的标患。能力（这是力量的标志）。3.如果我在1作／学如朵我在1作/学习失败、这并不是我全部的反映。（全部习失败，作为一个人我 的我包括我是如何作为个期友、女儿、姐姚、亲戚、公是失败的。民、社区成员，以及对他人二慈。敏感、帮助的品德，等等）再者，失败不是永久的情况。4、我吃该能在任何我 除非我在那个领喊存大赋，我本来就不能在些事」表现尝试的事上胜过别人。杰山。5、我应该··直努力学我应该投人合情合理的努力、时间。学习并尽我最人的力最。6如果我发挥不到我 如果我没有尽我最人的努力，我或许已经成功了70%，的潜力，我就失败了。 80%，90%：而不是0%。7.如果我不努月作、如果我不·直努力学习，我可能也学得比较好、并且还有我就会失瞰更多的时间权衡生活图10-5系统阐述较佳功能的信念必要是真的；它们是被学来的，所以可从脑中清除掉；它们能被评估及矫正）和/或帮助来访者评估持续坚持该信念的好处、不利之处。\n",
      "矫正信念下面列出了矫正中间信念及核心信念的常见策略。（矫正核心信念的另外方法下一章中更详细地介绍）一些信念可容易地改变，而许多信念则需要一段时间并要齐心协力才能改变。为了估计是否需要再进一步的工作，治疗师连续地问来访者她对假设的信念现在相信多少（0～100%）。\n",
      "通常既不可能也不需要将信念的程度降到0%，因此，知道何时停止对某一信念的研究是判断的要求。通常，当来访者认可该信念已不到30%，并且尽管仍然坚持信念的残余部分，但有继续矫正其功能障碍性行为的可能，这时这一信念就已有了足够的降低。\n",
      "对来访者来说在他们的治疗笔记上记录他们已探究过的信念是明智的，“一个有用的格式包括功能障碍性信念、新的更具功能性信念以及每一信念的强度，正如下面的例子那样，将它们写在一张纸上：旧的信念：如果我没有取得很高的成就，我就是一个失败者新的信念：如果几乎在每件事上我都真正的失败，我才是一个全面的失败者。（80%）每天典型的家庭作业指定的作业是阅读并重新评估惠者每天承认的这两个信念的强烈程度。\n",
      "用来矫正信念的一些策略与用来矫正自动思维的策略一样但是，还有其他方法，包括：1苏格拉底对话2.行为实验。3.认知连续体4.理性一情绪角色扮演5.利用其他人作为参考点6.“仿佛”性表演。7自我暴露苏格拉底对话矫正信念正如下一副本中所图解说明的，治疗师利用用于评估来访者自动思维的样问题来检查她的信念，其至当他确认一般的信念时他也帮她联系下特殊的情境去评估，这种特定的帮助使评估更真体、更有意义、不抽象，因而更理性。\n",
      "\n",
      "True\n",
      "治疗师通过确认中间信念的方法来帮助来访者，包括使用箭头向下技术，寻找自动思维中的共同主题，以及复习来访者完成的信念问卷。治疗师还关注来访者对信念的强度和广泛影响程度，以确定信念的重要性和矫正的时机。在进行信念矫正工作时，治疗师通过教育来访者了解信念的性质，探究其利弊，并系统地提出新的、更有功能性的信念。他还使用多种信念矫正方法，如苏格拉底对话、行为性试验、认知连续体等，以帮助来访者改变不健康的信念。治疗师还需要识别来访者的核心信念，通过相同的方法确认特定的核心信念，并在治疗早期进行评估，以帮助来访者概念化和计划治疗。治疗师的策略旨在帮助来访者理解和改变不健康的信念，从而促进心理健康的发展。 概括地说，治疗师帮助来访者确认中间信念的方法，可通过认识（当一个信念表现为自动思维时），提供某个假设的一部分，直接诱出某个规则或态度，使用箭头向下技术，在来访者的自动思维中寻找共同的主题，和／或复习来访者完成的信念问卷。接下来通过弄清来访者相信该信念的强度，以及该信念如何广泛地、强烈地影响她的活动，治疗师决定该信念的重要程度。然后他决定是在目前会谈中开始矫正的工作，还是等到将来的会谈中。当开始信念矫正工作时，治疗教育来访者有关信念的性质、变规则和态度为假设形式，探究假设信念的利擎，他心理上系统地陈述某个新的，更有功能性的信念，并且通过许多信念矫正方法，包括苏格拉底对话、行为性试验、认知连续体、理性一情绪角色扮演、利用他人作为对照点，仿佛性表演以及自我暴露指导来访者采用它们因为惠者非常严格地坚持这些信念，这些方法常常比标准的自动思维苏格拉底对话更有说服力，同样的方法也能用来矫正核心信念(静锋)没有价值，不受欢迎，不合格（不是在成就土，而是在一些方面的缺陷，因此妨碍来访者得到持久的爱和他人的喜爱）。\n",
      "有时，尤其是当来访者实际地用诸如这样的句子，“我无能”或“我不可爱”时，某一特定的核心信念应归人哪一范畴是很清楚的。另一些时候，治疗师最初可能不知道核心信念的哪一类已经激活起来。例如，一个抑郁的来访者说，“我不够好”，然后，治疗师需要弄清该思维的意思，以决定是来访者认为她不够好得取得成就还是获得尊敬（无能类），或者是否她不够好得其他人去喜欢她（不可爱类）。\n",
      "概括之，不管何时来访者以其对情境（自动思维、情绪和行为）反应的形式提供资料时，治疗师就开始心理上系统地陈述有关来访者核心信念的假设，他首先在似乎归为无能类的认知和归为不可爱类的认知之间有一个大体的区别。识别核心信念治疗师使用用于识别中间信念的相同方法确认来访者特定的核心信念（见第十章），除了箭头向下技术外，他还寻找来访者自动思维中核心的主题，注意表达为自动思维的核心信念，并直接地诱出核心信念。治疗师经常在治疗早期识别核心信念，以便概念化来访者并计划治疗；他可能搜集有关的资料，甚至在治疗早期就试图帮助来访者评估核心信念，在许多情况下，这么早期的评估是无效的，但是它却帮助了治疗师测试核心信念的强度、广度及缓和度。\n",
      "\n",
      "True\n",
      "在治疗过程中，治疗师强调了矫正核心信念和增强新信念的重要性。他首先确认了来访者的负性核心信念，然后在心理上设计新的、更实际和有用的信念，并引导来访者朝着这个方向努力。治疗师采用了一系列方法来减弱旧的信念，例如苏格拉底对话、行为实验、认知连续体等，以帮助来访者建立更积极的核心信念。治疗师指出相对温和的新信念通常更容易被来访者接受，例如从“我是坏的”到“我是一个具有积极和消极特征的有价值的人”。此外，治疗师还强调了对于一些来访者可能需要帮助发展正面核心信念的情况，治疗师需要在这方面提供支持和指导。整体而言，治疗师的策略包括确认负性核心信念、设计新信念、采用多种方法减弱旧信念、引导来访者朝着积极信念努力，并在必要时帮助来访者发展正面核心信念。 阅读治疗能增强核心信念治疗工作的重要性，尤其是两本书，因犯的信念和驾驭你的生活在该治疗阶段很有益。\n",
      "矫正核心信念和增强新的信念确认完负性的核心信念后，治疗师心理上设计一个新的、更实际的、更有功用的信念，并指导来访者朝着那个方向努力，他可使用列在图11-2左边的一些方法来开始减弱旧的信念，很快，他和来访者协作产生了一个新的更适应的信念，相对地止面信念比走极端的信念对来访者来说通常更易采纳，例如：旧的核心信念新的核心信念我（完全地）不可爱 我通常是个可爱的人我是坏的我是个具有积极和消极特征的有价值的人我没有能力我可以控制许多事情我是有缺陷的人我是既有力量和又软弱的正常人已描速过的方法另外的方法苏格拉底对语法接心信念件业表检查利整极端对照理性一情络角色粉演利川隐输伤佛性表演行为实验阅防验重建尔期记忆认知连续体应付卡（见第）\"我案路图11-2矫正核心信念轴「来访者在她生活的很多时间里可能已经相信了“新的”核心信念，因此相对容易地详细说明，相反，轴Ⅱ来访者可能从来没有过正面的核心信念，这样，治疗师可能需要帮助她发展一·个可选择的正面核心信念，来访者的治疗师发现不难帮她将较正面的核心信念变成谈话：\n",
      "\n",
      "True\n",
      "治疗师在核心信念作业表的介绍和应用上采取了一系列策略。首先，治疗师引入核心信念作业表，帮助来访者确认旧的功能障碍性信念并发展新的更适合的信念。治疗师与来访者一起填写表格，评定来访者对旧信念和新信念的相信程度，以促进来访者对自身信念的认知和反思。此外，治疗师鼓励来访者在会谈中和作业中填写表格的下部分，以帮助来访者检查其信念的运转并找到支持旧信念的证据。这一系列策略旨在帮助来访者进行核心信念工作，促进认知模式的转变和个体信念的重塑。 核心信念作业表确认完老的核心信念并发展了新的后，治疗师可介绍核心信念作业表（corebeliefworkshee治疗师，CBW，见图11-3），正如前面提及的，在来访者已经知道她的一些观念（自动思维）在一些方面不准确或被歪曲后，介绍该工具就很好。另外，通常在来访者已成功地学会评估和矫正其自动思维的程序。真正地明白她能够矫正她的功能障碍性思维，并且已与治疗师建立了坚实的治疗同盟核心信金作业表的核心信念：我不适查现在你多大程度地相信老的借念？（0一100%）0%这个星期你信它的最人限度是多少？（0～100%）90%这个足期许相信它的最低限度是多少？（0-100%）60%新的信念：我在很是方面是适当的人【促是我率意是是个人】\n",
      "现在你多达程度地相信新的信念？（0～100%）50%反驳作的核心信念利片再组织支持新的信念的证据支持旧的核心信念的证据该评书写摄很好课堂上不理解经济学恢紊，使是有美这些我汉该过、以后我可在统计议上间间显能会懂的、豪差就是这门课不适透当，理血许实际上是肥的理解达个作业表释、妇为波有把它料释荐充分化学考试搏了 B不去勤教邵儿墙术挚助、使是这异不意味着我术适当。去部为下一茸作决定北我素转,妇为我在该能端己游决这些问题,异直我快使安梯转换电话、维行征来性,会认为我没有体容保险找对所有我容经评学论复需要我物女学作业存了B、 径是达的参考书是个可以的成绩,感果我其的并惜了娩计书第出常的绝大不续当，我就不会在大学黑帮台给下面大厅钠小伙子静释烧计学挑令素有关增加或降低信念强度的情景应该是日程的论题吗？来访者的核心鹰念作业表后，开始核心信念工作。CBW有两个部分：上端的部分指导来访者确认“旧的”功能障碍性信念和“新的”更适合的信念，并评定她相信的程度。介绍了CBW后，在每一会谈开始治疗师和来访者一起填写这部分，鉴于来访者要检查其信念的运转并再找似乎支持旧的信念的证据，下面的部分在会谈中和作为家庭作业都由惠者填写。\n",
      "\n",
      "True\n",
      "治疗师采用多种策略帮助来访者认识到属于作业表左边正面资料的其他方法。首先，治疗师鼓励来访者想象其他人可能会如何看待她的行为，以寻找正面证据。其次，治疗师引导来访者思考她信任的人会如何评价她的行为，以找到正面证据。此外，治疗师提出让来访者比较自己的行为与假定的负面模式，以帮助来访者发现潜在的正面证据。最后，治疗师建议在每个会谈开始时填写评分，以帮助来访者记录自己的情绪变化，并在日程上记录重要事项。这些策略为来访者提供了多种途径来寻找和强化正面证据，有助于改变她的认知模式和情绪状态。治疗师还鼓励在会谈中提问来访者有关这些策略的适用性，以促进对认知行为工具的理解和应用。 使来访者认识到属于作业表左边正面资料的其他方法包括\n",
      "1.（正如副本所述）请来访者想想她可能会说对他人是正面证据的资料：“来访者，你能想出你认为在绝大多数方面适当的其他什么人？谁可能是那样的人？今天你所做的什么你会说它显示了如果唐娜做了它，她就是一个适当的人？”\n",
      "2、请来访者想出其他人会说就来访者而言提示了正面证据的资料：“来访者，谁是那个相当了解你的人，你信任谁的判断？今天所做的是你适当的证据，这人）会说什么？”或“来访者，今天你所做的我可能会想这表示你是适当的？”\n",
      "3.如果来访者将她所做的与假定的负面模式相比较，是否她会低特定的正面证据，请来访者对此反应“来访者，你不相信完成那简短的论文是适当的标志，但是一个真正不适当的人会有能力去写它吗？一个真正不适当的人基至会成功到你现在的程度吗？”\n",
      "4.日程设置前，请来访者每个会谈开始在CBW的最上端填写评分，然后，治疗师可以问：“什么时候你最低强烈程度地相信你不适当，继续下去是什么公？这是我们应该写在日程上的事吗？”这些情境（多数正面的）的讨论给搜集或强化左边证据提供了机会。（注意CBW有打印在底部这些问题的提示治疗师也可以贯穿于会谈利用机会提问惠者有关CB矫对附近话题的适用性。\n",
      "\n",
      "True\n",
      "在这一段中，治疗师采用了角色扮演和写作练习的策略，帮助来访者测试其思维和信念的有效性。治疗师引导来访者写下旧信念和新信念，并评定她对每个信念的相信程度，然后与来访者讨论她目前的困扰，帮助她得出更现实、更适合的结论。通过这一过程，来访者逐渐减少了对不适当信念的相信程度，增加了对适当信念的相信程度，最终形成了更积极、更现实的解释。治疗师的策略旨在帮助来访者重新构建核心信念，通过系统的工作和特定方法来重建自动思维和中间信念，以促进来访者的认知重建和情绪调适。同时，治疗师还使用了问题解决作业表，帮助来访者在特定情境下识别问题、反应和可能的解决方法，从而促进来访者的自我反思和问题解决能力。这些策略有助于来访者理解和调整自己的思维模式，从而更好地应对困扰和挑战。 治疗师和来访者继续角色扮演，这给来访者提供了测验其思维及其母亲结论的有效性。最后，治疗师请来访者写下在该记忆中被激活的旧的信念、新的信念，并且评定现在她对每个相信多少。然后，他们讨论目前涉及佩吉和学习组苦恼她的事情，以帮助来访者得出一个更具现实基础的、更适合的结论。到该会谈结束为止，来访者只20%地相信她不适当，70%的相信她适当，她非常强烈地相信选择性的解释：她的投稿可能没有达到佩吉的期望，但是那并没有使她感到完全地不适当；即使没有可能的那么好，也并不意味着作为一个人她是完全地不适当；缺乏广度的主要原因是学习小组缺乏详细说明的指导，以及来访者在学习组工作方面相对无经验。\n",
      "既括之，核心信念需要一致的、系统的工作，许多适用于重建自动思维和中间信念的方法，可以与更专门的特别指向核心信念的方法一起使用。(静译)问题解快作业表患省姓名：茎日期： 4,12（在自动思维、信念及高涨的情绪真接干扰问题解决的时）1、间题看手写经济学课理的论文。2、特殊意义：自动思维和信念我难以胜住。3.对特殊意义的反应我有足略的能力衰出论或。 事实上,直到我去做了才知道我能致再每么样。4、可能的解决方法(1)望持原来的法（2）略记论女树要（停小时）（3）与室友主流（4）用读推荐的键物并做葡物范记（5）出第一革稳，争取C工作，而葬A工作图12-1问题解决作业表\n",
      "\n",
      "True\n",
      "治疗师采用活动表来帮助来访者识别自动思维对情绪的影响，并通过意象帮助来访者回忆自动思维，展示不同思维对情绪的积极影响。治疗师还布置家庭作业，监测来访者的自动思维，并询问上一周其他活动是否受到消极思维的影响。活动表的使用有助于评估特定心境的发生情况，对于难以觉察情感变化的来访者或情感波动较大的来访者尤其有帮助。此外，活动表还可用于计划活动，来访者可以计划下周的活动以取代监测本周的活动。治疗师还可以让来访者预测情感水平，并与实际评分进行比较，以提供有价值的资料。这些策略有助于来访者更好地认识自动思维对情绪的影响，并通过监测和计划活动来调节情绪。 在这一部分，治疗师首先利用活动表来识别自动思维干扰愉快感及优越感的情况，然后用意象帮助来访者回忆起自动思维，从而表明不同的思维将对来访者的情绪产生更积极的影响。最后，治疗师为来访者布置家庭作业以监测她的自动思维，并提问上一周其他活动是否受到消极思维的影响。用活动表评估情绪对某些来访者来说，活动表对研究特殊心境的发生情况是有帮助的。例如，焦虑障碍的来访者可以填写活动表中的相关项目，并对焦虑症状以0~～10进行评估。慢性激惹或愤怒的来访者也可以进行同样的操作，并用愤怒量表以0～10进行评估。无论是那些难以觉察到的情感轻微变化的来访者，还是情感过高或过低的来访者，这样的量表尤其有用。对于情感变化快的来访者而言，将他们所经历的每一个活动及占主导地位的心境列下来是很有用的。活动计划同样的活动表还可以用来计划活动。来访者以计划下周的活动取代监测本周的活动，如计划一些愉快的活动（尤其是抑郁症来访者），必须完成的任务，社交活动，治疗作业，练习，或以前回避的活动。治疗师亦可以问来访者是否愿意保持监测活动表，如前所述，或者记下她的所有活动，或者仅记下她实际完成的计划如果治疗师认为有价值，可以让来访者预测-=下表中优势感和愉悦感或情感的水平，并记下实际的评分进行比较，这样的比较是一份有价值的资料。\n",
      "\n",
      "True\n",
      "治疗师应当引导来访者学习和实践放松技术，并了解到有些来访者可能会出现自相矛盾的唤起效应，即放松练习反而导致更紧张、焦虑的情况。治疗师建议来访者将放松视为一个实验，要么减轻焦虑，要么导致焦虑。治疗师还应鼓励来访者将应付卡随身携带，作为日常规则或按需阅读，应付卡可包括主要的自动思维和适应性反应，以及行为策略和自我训练方法。此外，治疗师还应引导来访者进行分级暴露，帮助来访者集中注意力在目标上，而不是目前的状况，以减少焦虑情绪的产生。这些策略有助于来访者学会应对焦虑和紧张情绪，提高心理调适的能力。 放松许多来访者获益于放松技术，在其他地方也曾详细描述过这种技术（Benson，1975；Jacobson，1974）。与其他技术一样，放松练习也需要在会谈中学习和实践，从而处理、评估疗效。\n",
      "治疗师应该了解一些来访者从放松练习中得到了自相矛盾的唤起效应，事实上他们变得更加紧张、焦虑（Clark，1989）。有如其他所有的技术一样，治疗师建议来访者将放松视为一个实验，要么减轻焦虑，要么导致焦虑。\n",
      "应付卡应付卡约75毫米×127毫米大小，放在来访者随手可及的地方（如放在办公桌抽屉、衣服口袋、钱包里面，或贴在浴室的镜子上冰箱上或汽车挡风玻璃上）。鼓励惠者将之作为日常规则或按需阅读。应付卡可采取多种形式，例如：在应付卡的一面写下主要的自动思维，另一面写上适应性的反应，设计行为策略以用在有特定问题的时候，组织自我训练方法以激活来访者。\n",
      "应付卡1：自动思维一适应性反应当来访者无法评估其烦恼的思维，且分心术和重聚焦不尽如人意时，来访者可以阅读事先已与治疗师组织好的应付卡。来访者按规则阅读应付卡是值得的，这样她就更有可能将其溶入到她的思维中。\n",
      "分级暴露为了达到自标，通常需要完成许多步骤。当来访者的注意力集中在离目标有多远，而不是他们目前的状况时，来访者就会变得不安。\n",
      "\n",
      "True\n",
      "治疗师建议来访者采取减缓焦虑的活动，逐步挑战焦虑，并在每个阶段讨论应对技巧。治疗师提出使用功能障碍记录、应对卡、放松练习等技术来帮助来访者面对焦虑。对于回避的来访者，治疗师建议使用默演来识别焦虑的自动思维或不做作业的情况。此外，治疗师建议来访者填写活动表，以帮助她完成分级暴露阶梯的日常工作。监察表也被提出，以帮助来访者记录活动和焦虑程度，并剔除不准确的预言。角色扮演被介绍为一种广泛应用的技术，用于揭示自动思维、发展理性反应、修改中间信念和核心信念，以及学习和应用社交技能。这些策略旨在帮助来访者逐步面对焦虑，发展应对技能，并提高社交技能。 治疗师建议来访者每天进行一次有助于减缓焦虑的活动，或者一天数次直到焦虑症状明显减轻。然后来访者尝试去做阶梯上的下一个任务，直到能够较轻松地完成。在完成每一个任务之前、之中及之后，治疗师与来访者可以讨论各种应付技术：功能障碍记录，应付卡，放松练习等等。尤其对那些回避的来访者，可用默演（十四章）识别焦虑不安的自动思维或不做作业的情况。另外，如果让来访者填写活动表，她就有更大的可能性去完成分级暴露阶梯的日常工作。可用空白的活动表或者快速画出制定好的监察表。监察表可以很简单，仅需列出日期、活动、焦虑的程度，或者可以更精确些（见图12-7）。在较精确的监察表中，可以指导来访者记录并剔除以前未能实现的预言，进一步提醒来访者有许多不确切思维。在其他资料中有详尽的描述。角色扮演角色扮演是一项应用广泛的技术。这一栏中将介绍角色扮演的内容，包括用它来揭示自动思维，发展理性反应，修改中间信念和核心信念。角色扮演在学习和应用社交技能中同样有用。总体而言，一些来访者的社交技能薄弱，或者虽熟悉某一种形式的交流方式，然而当需要时却缺乏应用技巧\n",
      "\n",
      "True\n",
      "治疗师在教授社交技能之前，首先评估来访者已有的水平，特别关注功能障碍性假设对技能应用的影响。治疗师采用肯定法的方法，让来访者假设积极的结局，从而帮助来访者克服消极信念，提高对社交技能的运用能力。在来访者应用技能出现问题时，治疗师区分功能障碍性信念和技能缺陷，针对不同情境采取不同的教学方法。治疗师还运用“馅饼”技术，让来访者用图表观察自己的观念，帮助来访者树立目标并承担相关责任，以增强对自身问题的认知和解决能力。这些策略旨在帮助来访者克服社交技能中的困难，提高自我认知和应对能力。 在教来访者社会技能之前，治疗师需评估一下来访者已有的水平。许多来访者精确地知道该说什么、做什么，但由于存在功能障碍性假设而难以运用这些知识。（例如，“如果我表达了我的观点，我就会遭到摔击”“如果我肯定了我自己，其他人就会受到伤害／发疯／认为我出轨”）肯定法的方法之一即让来访者假设一个积极的结局：“如果你确信助教乐于与你交谈，你将说些什么？”“如果你确信你有权获得帮助，你怎么说？\"“如果教授已经意识到他不够理性，你说些什么？\n",
      "来访者在另一种情境下应用这些技能出现的问题与功能障碍性信念有关，而与技能缺陷无关。她可能对工作相当自信、对期友则不然。在这种情况下，治疗师不需用角色扮演来讲授判断技能（尽管他可以用角色扮演帮助来访者识别自动思维，或者互换角色以预测另一个人的思维和情感。运用“馅饼”技术让来访者用图表的形式观察他们的观念是很有用的。馅饼图应用颇广。例如，帮助来访者树立目标，为已知的结局承担相关的责任。下面作一些说明。染养蓝其作/学口工作 / 学动实际理想图12-8用馅饼图建立目标建立目标当来访者难以详细说明她的问题，而且不知道生活中能进行什么样的改变，或者对如何平衡自己的生活缺少洞察力时，将她理想的时间安排与实际的时间消耗相对比会对她有益。\n",
      "\n",
      "True\n",
      "治疗师的策略包括在治疗早期引导来访者完成积极自我陈述记录，以帮助他们在核心信念作业表中发现积极信念。此外，治疗师教导来访者识别和处理自发的意象，以及如何治疗性地处理自发和诱发的意象。治疗师强调许多来访者的自动思维可能不仅是言语，还可能是图形或意象，而这些意象可能导致持续的痛苦。在会谈中，治疗师努力引出来访者曾有的自发意象，并试图发现来访者在有言语性自动思维的同时是否存在自发意象。这些策略旨在帮助来访者增加认知和行为技能，以及教导他们如何处理自发的意象，从而减轻持续的痛苦。 在治疗的早期完成积极自我陈述记录，将有助于为来访者在完成核心信念作业表时发现积极信念（第十一章）。总之，有许多的认知和行为的技术，这里阐述的是最常用的鼓励来访者作更多的阅读以增加他们的技能。(春喜评)许多来访者的自动思维不仅是脑海中未表达出来的字词，也可，能是图形或意象。来访者有过这样的思维一一如果我向教授求助，他会认为我在纠缠他。针对这样的问题，治疗师让获来访者在有这些言语性的自动思维的同时，想像教授高大的形像站在她面前，皱着眉，一脸的怒容。这种意象即形像自动思维。\n",
      "这章旨在教来访者如何识别他们门自发的意象及如何治疗性地预自发的和诱发的意象。尽管很多患惠者出现过视觉意象，却鲜见报道。只有不断重复问及意象，才能引出来。意象常常十分简短，使人感到不安，许多来访者很快将之置之脑后。不能识别和应答这样的意象会导致来访者持续的痛苦。在第一个会谈中，治疗师开始对来访者讲授有关意象的内容（见第三章）。识别意象为了教会来访者如何识别和于预令他们感到痛苦的意象，治疗师可在会谈中尽力引出来访者曾有的自发意象，或者诱发出意象。下面，治疗师试图发现：来访者在有言语性自动思维的同时是否存在自发意象。\n",
      "\n",
      "True\n",
      "治疗师采用了一系列想象练习，引导玛丽想象自己死后5年、10年、20年的情景，以减轻她对死亡的恐惧。此外，治疗师还通过让来访者用更现实的评估来考虑实际存在的威胁，如鼓励想象朋友的面部表情或产房内的情景，帮助来访者减轻已感知的威胁。治疗师强调了通过不断提问帮助来访者认识他们的意象的重要性，以及通过规则地练习意象技术来减轻痛苦意象的方法。此外，治疗师还提出了一些策略，如要求来访者在会谈中写下家庭作业、将作业与日常活动结合进行、使用提醒贴纸等方式帮助来访者坚持完成作业。最后，治疗师强调了在制定家庭作业时需要考虑来访者的实际情况和目标，并与来访者共同探讨作业的合理性、难度、可完成性以及与目标的一致性。治疗师的策略全面考虑了来访者的需求，旨在帮助他们减轻恐惧和痛苦，同时促进他们的自我成长和发展。 治疗师缓慢地引导玛丽完成了一系列想像，包括想像她死后5年、10年、20年的情景。通过该练习，玛丽看到她女儿在一开始所承受的打击最终会平息，悲伤的时间会逐渐缩短，他们能够去应对。想像她女儿长大的细节及各自成家的情形，可以显著地减轻她对自己在车祸中丧生的恐惧。\n",
      "减轻已感知的威胁第三种诱发意象的类型即：允许来访者用更现实的评估来考虑实际存在的威胁。例如，治疗师鼓励来访者想像她的朋友们鼓励她时的面部表情，从而使她上课演讲的想像得到改善。又如，帕咪，害怕剖腹产，就可以想像产房内所有的急救设备及戴着口罩的医护人员。\n",
      "总而言之，很多来访者的自动思维是以自发意象的形式出现的，需要通过不断地提问（非教训性的）帮助来访者认识他们的意象。常有痛苦意象的来访者可以通过规则地练习上述几种意象技术而得到解脱。另外，也可以诱发意象进行各种治疗。\n",
      "(养想誉祥)记住做家庭作业最重要的是在会谈中，使来访者习惯于从一开始就写下他们所做的作业，其他几个策略对那些没有意志坚持的来访者是有用的。\n",
      "他们被要求和其他日常活动同时进行作业（比如，如何在吃饭和睡觉前列出活动日程表等）。他们能在冰箱、洗燥间的镜子或他们汽车的挡泥板上贴纸条，怎样记住服药或将药物送给别人的讨论能促使他们门回忆起以前用的技术。比如，在上下班的路上可以听治疗磁带。\n",
      "期待的问题治疗师将自已置身于来访者的境遇中是非常重要的，需考虑下列几个问题：\n",
      "家庭作业量对这个来访者合理吗？\n",
      "难度恰当吗？\n",
      "作业能完成吗？\n",
      "作业和她的目标一致吗？\n",
      "在时间、能力和机会等方面遇到的实际问题是什么？\n",
      "他们的想法是什么？\n",
      "治疗师问来访者，她做这项工作有多大的可能性（0～100%）。\n",
      "\n",
      "True\n",
      "治疗师的策略包括在来访者自我批评时进行讨论，以保护来访者不出现情绪低落。治疗师还会考虑来访者家庭作业的完成情况，以增加对来访者的了解。他们会关注家庭作业未完成是否与实际问题、心理问题或与治疗师有关的心理问题有关。治疗师鼓励来访者在注意到情绪变化时及时记录下来，以便在治疗中进行讨论。此外，治疗师还会帮助来访者认识和改变回避治疗问题的信念，以促进来访者在整周内积极完成家庭作业。治疗师还会帮助来访者理解为什么需要完成家庭作业，以避免忘记作业的情况发生。这些策略旨在促进来访者的参与和积极性，以支持治疗的进行。 当来访者自我批评时，上述问题的讨论可能保护来访者不出现情绪低落。概念化的难度如果她的家庭作业很难完成，治疗师更好地利用这点可增加了解惠者的机会。治疗师要考虑家庭作业未完成是否与实际问题，心理问题、被实际问题掩盖了的心理问题，和／或与治疗师有关的心理问题有关。实际问题如果治疗师认真地布置作业让来访者去做，绝大部分实际问题可避免，默演（上面提到过）也被查出有潜在的困难。下面将介绍四个常见的实际问题和它们的治疗。\n",
      "在最后一分钟做治疗作亚理想的是，来访者整周都做治疗作业。比如，来访者在注意到他们的情绪变化和对他们在心理上或笔头上对思维作出反应的一刻，抓住它并记录下来是非常有用的。有些来访者在两个会谈之间回避考虑治疗问题。通常这种回避是较大问题的一部分，治疗师和来访者首先必须认识和改变这种信念。（比如，如果我强调一个问题而分散了自我，我将感觉很糟糕，或“我不能改变，为什么还要试呢？”）然而其他来访者只需要轻微的提醒，不到最后一分钟不做家庭作业。一些来访者在治疗结束前一天晚上才做家庭作业。你认为在治疗结束前而不是整周做作业有用吗？忘记作业的基本原理偶而，来访者由于不了解她为什么要做，而忘记了做家庭作业。这个问题在来访者记录下基本原理后，下次作业时就可避免。\n",
      "\n",
      "True\n",
      "在治疗过程中，治疗师采用实验性的方法帮助来访者验证她的负面预测和想法。当来访者取得成功时，她会记录下自己的结论，例如“有时我的想法不确切，我能做的比我想的多”。治疗师鼓励来访者在面对负面预测时进行实验，若实验不成功，治疗师会调整作业以更基础的方式进行。对于披露了做作业的矛盾心理的来访者，治疗师重点关注了解她不知道的结果以及做作业的收获。此外，治疗师与来访者一起探讨做作业的好处和不利，帮助来访者更好地认识和表达自己的想法。最后，治疗师关注来访者可能在信仰水平上受到影响，激活了一系列负面信念，如“做治疗作业意味着我有缺陷”等。治疗师的策略旨在帮助来访者通过实验和探索，更好地理解和应对负面预测和信念，从而促进个体的认知改变和成长。 在会谈中，来访者可能很好地完成了一项实验。由于得到了一个成功的结果，她可能记下她的结论。比如，有时我的想法不确切，我能做的比我想的多。下一次我感到无望，我能做实验来检验我的想法。（如果实验不成功，治疗师可以将作业改为更基础的作业。）其他的负面预测，比如“我的室友不想和我一起去参加会议”，或者“做家庭作业将使我感觉更差”等，这些在行为上能用直接的方法被检验（尽管治疗师可能再次提前考虑到了来访者对阴性结果的反应）。其他想法，比如“我不能正确地做任何事情”或“这次我可能会失败”，可能会使用标准问题进行评价（见第八章。\n",
      "如果来访者披露了做作业的矛盾心理，对治疗师来说，最重要的是了解他不知道的结果是什么：“事实上，我不知道做这项作业会有帮助。如果不做这项作业将失去什么？如果你做这项工作最终的收获是什么？”另一方面，如果来访者很难认识她关于家庭作业的想法，或很难真实地向治疗师表达，来访者和治疗师可以列出做作业的好处和不利。她可能被要求填写一种设计来描述家庭作业问题的表格。最后，来访者可能在信仰水平上从工作中获益，家庭作业可能激活如下信念-我是无用的/无助的/无能的。“做治疗作业意味着我有缺陷。”我不应该为了感觉好些，做这么大的努力。”我的治疗师正试图控制我。“如果我考虑自己的问题，我将感觉越来越糟。\n",
      "\n",
      "True\n",
      "治疗师在认知治疗中采用了多种策略。首先，治疗师应评估自己的认知，确保不会因为担心伤害来访者的感情或者触怒她而在暗地里阻止或鼓励来访者做家庭作业。治疗师应意识到自己的功能障碍性假设，并通过功能障碍性思维记录、行为实验或与导师或同事的商议来加以处理。其次，治疗师应将家庭作业作为治疗的重要组成部分，并在每次会谈前认真布置家庭作业，即使来访者处于危机中或希望探讨其他问题。家庭作业也应与议事日程、治疗目的和整个会谈涉及的项目相联系，并在家庭作业总结中得到进一步强化。最后，治疗师的目的是教会来访者成为自己的治疗师，而不是取代来访者解决所有问题。治疗师应鼓励来访者逐渐减少治疗频率，并在治疗结束后进行支持者会谈，以帮助来访者巩固所学的技能并预防复发。治疗师还应在治疗开始时考虑到来访者的治疗结束和病情复发问题，以帮助来访者理解病情改善的波动性，并提前做好心理准备。 与治疗师的认知有关的问题最后，治疗师应该评估他的某个想法或信息是否在暗地里和恰当地阻止或鼓励来访者去做家庭作业。典型的功能障碍性假设包括：\n",
      "“如果我揭露她为什么不做家庭作业会伤害她的感情。”\n",
      "“如果我（恰好）遇到她，她会变得生气。”\n",
      "“如果我建议她努力试试家庭作业监视器，她将感到被悔厚“她真的没有必要将家庭作业做得更好。”\n",
      "“现在，其他事情使她的负担过重。\n",
      "她是太被动了，以致不能做家庭作业。”\n",
      "她是太脆弱了以致不能把她暴露在焦虑情景中。\n",
      "治疗师应该问她自己。当他考虑到布置家庭作业或探讨来访者为什么不能做作业时，他脑子中想什么？如果治疗筛充许她不做家庭作业，而不是要她尽力完成，她应该提醒自已，她不能帮助来访者。然而，功能障碍性思维记录、行为实验或与导师或同事的商议是有序的。\n",
      "总结一开始就让来访者了解家庭作业是治疗的重要一环是非常重要的。因此，治疗师在每一会谈前都要认真地布置家庭作业。即使来访者处于危机中或希望探讨与家庭作业无关的问题，花几分钟做作业或同意在下一会谈中讨论仍然是有用的。\n",
      "家庭作业最终将与议事日程、和／或治疗师的目的、整个会谈涉及到的家庭作业项目和5~10分钟的家庭作业总结相联系。\n",
      "家庭作业总结也能导致以后两周的新作业，比如，继续或尽力做一项新作业。\n",
      "总之，治疗师和来访者应该把家庭作业作为治疗的一个重要组成成分。\n",
      "（袁勇贵）认知治疗的目的是教会来访者成为自己的治疗师，而不是要治，疗师来帮她解决所有的问题，以利于缓解来访者的疾病。事实上，认为自已有责任帮助解决来访者每一个问题的治疗师有使来访者产生或强化依赖性的危险，并且剥夺了来访者检验自已能力的机会。通常治疗开始时的日程安排为每周一次，一旦来访者的症状减轻，学会了基本的认知治疗工具，治疗将逐渐减为每2周一次，然后，每3~4周一次。另外，鼓励来访者在治疗结束后3个月、6个月、12个月时进行支持者会谈。本章列出了来访者谁备结束治疗的儿个步骤，以及从治疗开始到最后的支持者会谈中可能出现的复发问题。治疗疗程在头一次会谈，治疗师就要考虑到来访者的治疗结束和病情复发问题。这有助于来访者了解在治疗过程中，病情改善常会停滞不前、波动或倒退（见图15-1)。展进时间图15-1治疗进展。这幅图类似于美国南部得克萨斯州和佛罗里达州的边界，这种幽默的解释能帮助来访者认识到波动是正常的，如果从一开始就考虑到来访者病情的波动和倒退，一日发生时惠者就不会受到太大的打击，自己能够很好地处理。\n",
      "\n",
      "True\n",
      "在结束治疗准备阶段，治疗师应关注来访者对结束的自动思维，包括兴奋、希望、恐慌和生气等复杂情感。治疗师需要了解来访者的情感，并帮助她改变歪曲的反应，同时表达自己真实的感情，包括对治疗成果的骄傲和对结束治疗关系的遗憾。此外，治疗师鼓励来访者复习治疗笔记，整理治疗中学到的重要问题和技能，并制定自我治疗计划。治疗师还提醒来访者对支持者会谈的重要性，以及对继续保持进步的计划。这些策略旨在帮助来访者应对结束治疗的情绪，整理和巩固治疗中学到的内容，并为自我治疗和继续保持进步做好准备。 结束会读的准备当来访者两周一个会谈做得很好时，治疗师可改为每月一个会谈，为结束治疗作准备。\n",
      "当治疗快结束时，最重要的是要养清来访者对结束的自动思维，一些来访者既兴奋又觉得有希望，相反，另一一些来访者感到恐慌，甚至生气。绝大多数人有着复杂的情感，她们很高兴自己的进步，但担心会复发。经常她们遗撼地结束与治疗师的关系。\n",
      "最重要的是了解来访者的情感，并且帮助她改变歪曲的反应。\n",
      "治疗师经常渴望表达自己真正的感情：尽管对结束治疗关系有些遗憾，但又为来访者通过治疗取得的成绩感到骄傲。对其他自动思维的反应、检验结束的有利和不利能用同样的方法开展。（与前面提到的逐步结束会谈的想法的反应一样，复习在治疗中学到的东西治疗师鼓励来访者阅读和整理所有的治疗笔记，将来她能很容易地用来做参考。对于家庭作业，她能写下在治疗中学到的重要问题和技能的概况，并和治疗师一起复习这个计划单。\n",
      "自我治疗会读尽管许多来访者不能进行正式的自我治疗会谈，然而讨论自我治疗计划是有用的（见图15-3），值得鼓励。治疗师可提醒来访者正如下文提到的，对支持者会谈治疗师的全部目标是捡验来访者的健康和对继续保持进步的计划。\n",
      "\n",
      "True\n",
      "治疗师鼓励来访者列出治疗结束后进行支持者会谈的几个理由。首先，支持者会谈提供了一个讨论和评估来访者面临困难的机会，帮助她制定处理困难的计划，并激励她继续进行认知治疗作业和练习技能。其次，支持者会谈也能帮助来访者判断之前纠正的功能障碍性信念是否再次出现，并在会谈中进行认知重建。此外，支持者会谈还提供了检查功能障碍性策略再现的机会，评价自我治疗计划并进行必要的修订。最后，了解结束后支持者会谈的安排有助于减轻来访者保持进步的焦虑。为了准备支持者会谈，治疗师提供了一系列问题，包括来访者的进展、面临的问题、认知治疗的实践和目标的达成情况。这些策略有助于来访者在治疗结束后得到持续的支持和指导，以保持进步并应对可能出现的困难。 治疗师鼓励来访者列出治疗结束后进行支持者会谈的几个理由。\n",
      "无论遇到什么困难，来访者和治疗师都能讨论怎样处理它，并且评估一下她是否能用一种更好的方法来处理它？然后她们系统地制定一个计划去处理这些情况。治疗师询问她做自我治疗的进展，可能激励来访者去做她的认知治疗作业和练习她的技能。另外，治疗师能帮助来访者判断她前面纠正了的功能障碍性信念是否再次被激活。如果是这样，她们能在会谈中进行认知重建，在家按计划继续进行信念工作。\n",
      "支持者会谈也给治疗师提供一个机会去检查功能障碍性策略的再现（比如回避）。来访者能表达任何新的或以前的不复杂目标和行为，治疗师和来访者一起评价自我治疗计划，必要时进行修订。最后，了解她结束后的支持者会谈的安排，有时能减轻来访者保持她们进步的焦虑。\n",
      "为了准备支持者会谈，治疗师能提供给来访者一系列的问题（见图15-5)。\n",
      "支持者会谈指南A：前面的日程已经作了安排，如果可能、可打电话证实。\n",
      "B，既使你--直维特你的进度，也要考虑到预防性策略。\n",
      "C.你来之前准备一下。决定什么有助下讨论，包括：\n",
      "1.对你来说、什么已经好转？\n",
      "2.提出了什么问题？你怎样处理的？还有更好的方法处理它吗？\n",
      "3、在达个支持者会谈和下-个支持者会谈之间、能提出什么问题？细致地考虑这些问题。你可能出现什么自动思维？可能激活什么信仰？你怎样处理这些自动思维和信仰？你怎样解决这些间题？\n",
      "4.你做什么认知治疗？现在和下一个支持者会谈中你辜做什么认知治疗？\n",
      "在做认知治疗中，你遇到了什么自动思维？你将怎样向答这些思维？\n",
      "5.你自起有什么尽标？你怎样达到这些月标？你在认知治疗中学到的东怎样帮助你？\n",
      "图15-5支持者会谈指席（BeckJS,1993）讨人喜爱呢？”\n",
      "\n",
      "True\n",
      "在这一部分，治疗师评估了来访者的抑郁水平，日程设置，并讨论了一个与男友分手有关的问题。治疗师认为来访者的抑郁较轻，因此花少量时间制定了一个计划来帮助纠正她的观念，并提醒她使用工具。治疗师强调了预防复发的重要性，并指出了可能导致浪费治疗时间的问题。治疗师还强调了识别并指定问题的重要性，并提出了五个步骤来帮助确定对问题的干预程度。这些策略包括对问题收集更多资料，评估问题的性质，确定问题值得干预的程度，并根据治疗阶段的需要进行必要的调整。治疗师的策略着重于有效地评估和处理来访者的问题，以确保治疗过程的高效性和个性化。 支持者会谈这一部分，治疗师评估了来访者的抑郁水平，日程，设置、讨论一个问题、帮助来访者为自己布置作业。治疗师认为来访者的抑郁很轻，好像只与男友分手有关。（如果抑郁严重，治疗师应该花更多的时间评估促发因素和识别、纠正不良信念、思想和行为。治疗师和来访者应该讨论增加会谈的可行性，这个来访者很容易表达自动思维和重要信念。她和治疗师花很少的时间制定了一个计划去帮助纠正她的观念，她已谁备在治疗期间学习工具，她需要支持者会谈去提醒她使用工具。\n",
      "总之，预防复发贯穿于整个治疗中。\n",
      "(袁勇贵锋)题，那些未必可能复发的分离性事件，那些不是特别苦恼的问题和／或那些似乎可能导致浪费治疗时间、没有结果的问题。\n",
      "识别并指定了某个问题之后，治疗师要做几件事情帮助自己来确定对该问题要花多少时间、多大精力。他应对该问题收集更多的资料，回顾选择，考虑实际的需要，以治疗阶段为指南，必要时改变目标。下面描述一下这5个步骤。\n",
      "对一一个问题收集更多的资料当一个来访者首次提出某个问题或当一次会谈中间存在的某个问题明显时，治疗师应评估问题的性质并确定它是否值得花时间去干预。例如，来访者已经把一个新问题列人了日程：她的父亲的生意失败了，来访者感到悲哀，治疗师向来访者发问以评估对这个问题占用治疗时间显著部分有多少用处。\n",
      "\n",
      "True\n",
      "治疗师的策略包括引导来访者朝解决问题的方向前进，帮助她决定合理可行的步骤，并利用情境加强认知模式。治疗师指导来访者解决问题的技术，帮助她概念化较大的困难，并评价令人苦恼的思维。治疗师还鼓励来访者做功能障碍性思维记录，并指导她形象化技术。此外，治疗师与来访者共同决定继续进入下一个日程项目，以及在何时回到当前问题。治疗师在决定继续哪些过程时考虑多个因素，包括来访者的信念、时间、可用技术和家庭作业。他还利用治疗阶段作为指南，避免在早期讨论激发痛苦核心信念的问题，并在需要时改变会谈目标。这些策略有助于治疗师有效地引导来访者朝着解决问题的方向前进，并根据情境和治疗阶段进行灵活的调整。 保证来访者一直朝向解决问题，帮助她决定哪些步骤看起来最合理可行2.用这个问题作为一个例子，指导来访者解决问题的技术。\n",
      "3.利用这个情境作为一个机会以加强认知模式4.利用这个情境作为一个机会以帮助来访者把她较大的困难概念化，假定困难是她在一个新情境下不适应并感到不知所措来代替信念的检验。\n",
      "5.让来访者识别最令人苦恼的思维，并帮助她评价它6.用这个情境指导来访者如何去做功能障碍性思维记录7用她描述的形像作为一个机会指导她的形象化技术，8.和来访者共同决定继续进入到下一个日程项目（也许是个更加紧迫的问题），而在会谈晚些时间或在今后的一次会谈中回到这个问题。\n",
      "关于实际需要的思考治疗师如何决定哪些过程需要继续？他要考虑大量因素，包括：\n",
      "1什么会带给来访者坚定的信念？\n",
      "2他们有时间做些什么？他们还必须在会谈中做些什么？\n",
      "3.这个问题提供了一个机会去指导或者和来访者一起回顾对此什么技术会是有用的？\n",
      "4.来访者能为她自己做些什么（即家庭作业）以缓解苦恼？\n",
      "例如，假如来访者能在家中做功能障碍性思维记录并感觉良好，他们则能把会谈时间用在其他的事情上，那将帮助来访者更快进步。\n",
      "利用治疗阶毁作为指南来访者的治疗阶段治疗师经常指导。例如，位治疗师与抑郁症来访者在起先少数会谈中倾向于避免对付一个非常令人烦恼的错综复杂的商题。假如不能这样，他们将在这个方面取得很大进展。\n",
      "治疗师还倾向于在治疗早期来访者有办法处理之前，避免讨论那些激发痛苦的核心信念的问题。\n",
      "会谈中改变目标有时治疗师无法轻易地评价某个问题将有多难，或一次特殊的讨论激发-一个痛苦的核心思维的可能性有多少，他可能起始就聚焦于某个问题，然而当他认识到他的干预是不成功的和／或来访者经历着更大的（非趋向性的）不安时，他会改变到另一个主题。\n",
      "下述是一个早期治疗会谈的副本。\n",
      "\n"
     ]
    }
   ],
   "source": [
    "\n",
    "def reload_summary(save_json_content,json_res):\n",
    "    count_long=0\n",
    "    for i in range(0,len(json_res)):\n",
    "        if json_res[i]['key']=='reasoning':\n",
    "            if len(json_res[i]['content'])>450:\n",
    "                print(save_json_content[count_long]['len']==len(json_res[i]['content']))\n",
    "                print(save_json_content[count_long]['summary'], json_res[i]['content'])\n",
    "                json_res[i]['content']=save_json_content[count_long]['summary']\n",
    "                json_res[i]['text_before_summary']=save_json_content[count_long]['content']\n",
    "                count_long+=1\n",
    "    return json_res\n"
   ]
  },
  {
   "cell_type": "code",
   "execution_count": 16,
   "metadata": {},
   "outputs": [],
   "source": [
    "import json\n",
    "def save_final_file(json_res,file_n):\n",
    "    with open(\"./z2jsonoutputdir/隔开拼接CN认知疗法[OCR]97_dialogs.txt.json\",\"w\") as json_file_:\n",
    "        json.dump(json_res, json_file_, ensure_ascii=False)\n",
    "\n",
    "### 当处理其他文件流时要小心文件名"
   ]
  }
 ],
 "metadata": {
  "kernelspec": {
   "display_name": "DataProc",
   "language": "python",
   "name": "python3"
  },
  "language_info": {
   "codemirror_mode": {
    "name": "ipython",
    "version": 3
   },
   "file_extension": ".py",
   "mimetype": "text/x-python",
   "name": "python",
   "nbconvert_exporter": "python",
   "pygments_lexer": "ipython3",
   "version": "3.9.0"
  }
 },
 "nbformat": 4,
 "nbformat_minor": 2
}
