{
 "cells": [
  {
   "cell_type": "code",
   "execution_count": 31,
   "metadata": {},
   "outputs": [],
   "source": [
    "# 载入\n",
    "import json\n",
    "input_file_path=\"/home/ckqsudo/code2024/0dataset/E-bed/Chinese/中文数据_处理错reasoning_分离长对话数据_分离label_对话人.json\"\n",
    "with open(input_file_path,\"r\",encoding=\"utf-8\") as i_f:\n",
    "    cn_data=json.load(i_f)"
   ]
  },
  {
   "cell_type": "code",
   "execution_count": 32,
   "metadata": {},
   "outputs": [],
   "source": [
    "# dialog_id=0\n",
    "cn_dialog_data=[]\n",
    "for x,item in enumerate(cn_data):\n",
    "    if item['key']==\"fewshot\":\n",
    "        new_dialog_json=[]\n",
    "        new_list={\"unit_id\":item[\"unit_id\"],\"dialog_list\":[]}\n",
    "        for y,dialog_item in enumerate(item['dialog']):\n",
    "            # print(dialog_item)\n",
    "            new_unit={\"id\":dialog_item[\"id\"],\"participant\":dialog_item[\"participant\"],\"text\":dialog_item[\"text\"]}\n",
    "            new_list['dialog_list'].append(new_unit)\n",
    "            # new_list[\"dialog_list\"]\n",
    "        cn_dialog_data.append(new_list)"
   ]
  },
  {
   "cell_type": "code",
   "execution_count": 33,
   "metadata": {},
   "outputs": [
    {
     "data": {
      "text/plain": [
       "2554978"
      ]
     },
     "execution_count": 33,
     "metadata": {},
     "output_type": "execute_result"
    }
   ],
   "source": [
    "# 计算message 和string中的token数量\n",
    "from pyexpat.errors import messages\n",
    "import tiktoken\n",
    "# 2. Load an encoding\n",
    "# 使用tiktoken.get_encoding()按名称加载编码。\n",
    "# 第一次运行时，它将需要互联网连接进行下载。后续运行不需要互联网连接。\n",
    "encoding = tiktoken.get_encoding(\"cl100k_base\")\n",
    "# 使用tiktoken.encoding_for_model()函数可以自动加载给定模型名称的正确编码。\n",
    "encoding = tiktoken.encoding_for_model(\"gpt-3.5-turbo\")\n",
    "# 3. Turn text into tokens with encoding.encode()\n",
    "# The .encode() method converts a text string into a list of token integers.\n",
    "encoding.encode(\"tiktoken is great!\")\n",
    "def num_tokens_from_string(string: str, encoding_name: str) -> int:\n",
    "    \"\"\"返回文本字符串中的Token数量\"\"\"\n",
    "    num_tokens=0\n",
    "    encoding = tiktoken.get_encoding(encoding_name)\n",
    "    num_tokens = len(encoding.encode(string))\n",
    "    return num_tokens\n",
    "def calculate_messages(messages:list) -> int:\n",
    "    \"\"\"返回总的message长度\"\"\"\n",
    "    counter=0\n",
    "    for mess in messages:\n",
    "        counter+=num_tokens_from_string(mess.content,\"cl100k_base\")\n",
    "    return counter\n",
    "num_tokens_from_string(json.dumps(cn_data),\"cl100k_base\")\n",
    "# 2554978\n",
    "# 1937335\n",
    "# 2541877"
   ]
  },
  {
   "cell_type": "code",
   "execution_count": 34,
   "metadata": {},
   "outputs": [
    {
     "data": {
      "text/plain": [
       "18269"
      ]
     },
     "execution_count": 34,
     "metadata": {},
     "output_type": "execute_result"
    }
   ],
   "source": [
    "num_tokens_from_string(json.dumps(cn_dialog_data[168]['dialog_list'],ensure_ascii=False),\"cl100k_base\")"
   ]
  },
  {
   "cell_type": "code",
   "execution_count": 35,
   "metadata": {},
   "outputs": [
    {
     "data": {
      "text/plain": [
       "98"
      ]
     },
     "execution_count": 35,
     "metadata": {},
     "output_type": "execute_result"
    }
   ],
   "source": [
    "len(cn_dialog_data[168]['dialog_list'])\n"
   ]
  },
  {
   "cell_type": "code",
   "execution_count": 36,
   "metadata": {},
   "outputs": [
    {
     "name": "stdout",
     "output_type": "stream",
     "text": [
      "462\n"
     ]
    }
   ],
   "source": [
    "print(len(cn_dialog_data))"
   ]
  },
  {
   "cell_type": "code",
   "execution_count": 37,
   "metadata": {},
   "outputs": [],
   "source": [
    "from z6_prompt import *\n",
    "# print(input_str) \n",
    "# from z6_prompt import *\n",
    "import json"
   ]
  },
  {
   "cell_type": "code",
   "execution_count": 1,
   "metadata": {},
   "outputs": [],
   "source": [
    "# from dotenv import load_dotenv\n",
    "import os\n",
    "os.environ['OPENAI_API_BASE'] ='https://gptnb.keqichen.top/v1'\n",
    "from langchain.prompts.chat import (\n",
    "    ChatPromptTemplate,\n",
    "    HumanMessagePromptTemplate,\n",
    "    SystemMessagePromptTemplate,\n",
    ")\n",
    "from langchain.schema import HumanMessage, SystemMessage,AIMessage\n",
    "from langchain_openai import ChatOpenAI\n",
    "\n",
    "chat = ChatOpenAI(temperature=0,model=\"gpt-3.5-turbo\")\n",
    "# long_chat =ChatOpenAI(temperature=0,model=\"gpt-3.5-turbo-16k\")"
   ]
  },
  {
   "cell_type": "code",
   "execution_count": 2,
   "metadata": {},
   "outputs": [
    {
     "name": "stdout",
     "output_type": "stream",
     "text": [
      "https://gptnb.keqichen.top/v1\n"
     ]
    }
   ],
   "source": [
    "# print(chat.openai_api_base)"
   ]
  },
  {
   "cell_type": "code",
   "execution_count": 3,
   "metadata": {},
   "outputs": [
    {
     "name": "stdout",
     "output_type": "stream",
     "text": [
      "**********\n"
     ]
    }
   ],
   "source": []
  },
  {
   "cell_type": "code",
   "execution_count": 39,
   "metadata": {},
   "outputs": [],
   "source": [
    "\n",
    "# question=HumanMessage(content=\"请你帮我纠正下面这段心理咨询对话OCR后的结果，以json数组形式输入，以json数组的形式输出:\"+json.dumps(cn_dialog_data[315]['dialog_list'],ensure_ascii=False))\n",
    "\n",
    "# messages.append(question)"
   ]
  },
  {
   "cell_type": "code",
   "execution_count": 40,
   "metadata": {},
   "outputs": [],
   "source": [
    "import os \n",
    "cache_dir_path=\"/home/ckqsudo/code2024/0dataset/E-bed/Chinese/ChatGPT_缓存文件夹\"\n",
    "def get_beg_idx(dir_path):\n",
    "    files=os.listdir(dir_path)\n",
    "    if len(files)==0:\n",
    "        beg_idx=0\n",
    "    else:\n",
    "        idx_list=[]\n",
    "        files.sort()\n",
    "        for f in files:\n",
    "            tmp=f.split(\"_\")[-1].split(\".\")[0]\n",
    "            idx_list.append(int(tmp))\n",
    "        beg_idx=max(idx_list)\n",
    "    return beg_idx\n",
    "beg_idx=get_beg_idx(cache_dir_path)"
   ]
  },
  {
   "cell_type": "code",
   "execution_count": 41,
   "metadata": {},
   "outputs": [
    {
     "data": {
      "text/plain": [
       "461"
      ]
     },
     "execution_count": 41,
     "metadata": {},
     "output_type": "execute_result"
    }
   ],
   "source": [
    "beg_idx"
   ]
  },
  {
   "cell_type": "code",
   "execution_count": 42,
   "metadata": {},
   "outputs": [],
   "source": [
    "messages = [\n",
    "    SystemMessage(\n",
    "        content=\"我希望你扮演一个中文语法和心理咨询专家，你需要根据语境纠正下列文本中的OCR的语法错误和中文符号使用错误。我希望你以json格式输出纠正错误OCR识别后的结果。json元素的键值包括：'id','participant','text','reason',其中'id','participant' 保留原始数据，不得修改，如果text中有语法或符号错误，输出修改后结果。'reason'记录修改原因，如果没有修改，reason值为空。请不要大幅度修改句子结构，主要修改错词和错误的中文标点符号。下面为部分例子，请确保输出格式为标准的json格式：\"\n",
    "    ),\n",
    "    HumanMessage(\n",
    "        content=r\"\"\"请你帮我纠正下面这段心理咨询对话OCR后的结果，以json数组形式输入，以json数组的形式输出:\"\"\"+input_str\n",
    "    ),\n",
    "    AIMessage(content=output_str),\n",
    "    HumanMessage(\n",
    "        content=r\"\"\"请你帮我纠正下面这段心理咨询对话OCR后的结果，以json数组形式输入，以json数组的形式输出:\"\"\"+input_str2\n",
    "    ),\n",
    "    AIMessage(\n",
    "        content=output_str2\n",
    "    ),\n",
    "    HumanMessage(content=r\"\"\"请你帮我纠正下面这段心理咨询对话OCR后的结果，以json数组形式输入，以json数组的形式输出:\"\"\"+input_str3),\n",
    "    AIMessage(\n",
    "        content=output_str3\n",
    "    ),\n",
    "    HumanMessage(content=\"请你帮我纠正下面这段心理咨询对话OCR后的结果，以json数组形式输入，以json数组的形式输出:\"+json.dumps(cn_dialog_data[315]['dialog_list'],ensure_ascii=False))\n",
    "]"
   ]
  },
  {
   "cell_type": "code",
   "execution_count": 43,
   "metadata": {},
   "outputs": [
    {
     "data": {
      "text/plain": [
       "(8, 461)"
      ]
     },
     "execution_count": 43,
     "metadata": {},
     "output_type": "execute_result"
    }
   ],
   "source": [
    "len(messages),beg_idx"
   ]
  },
  {
   "cell_type": "code",
   "execution_count": 44,
   "metadata": {},
   "outputs": [],
   "source": [
    "beg_idx=get_beg_idx(cache_dir_path)"
   ]
  },
  {
   "cell_type": "code",
   "execution_count": 45,
   "metadata": {},
   "outputs": [
    {
     "data": {
      "text/plain": [
       "461"
      ]
     },
     "execution_count": 45,
     "metadata": {},
     "output_type": "execute_result"
    }
   ],
   "source": [
    "beg_idx"
   ]
  },
  {
   "cell_type": "code",
   "execution_count": 46,
   "metadata": {},
   "outputs": [
    {
     "data": {
      "text/plain": [
       "'[{\"id\": \"170-0\", \"participant\": \"治疗师\", \"text\": \"说说看，都发生了什么？\"}, {\"id\": \"170-1\", \"participant\": \"来访者\", \"text\": \"真是太有收获了。Clark跟往常一样走进诊室，告诉我他都遭遇了哪些事。听他讲的那些故事，照说我应该感到很有意思才对，因为他谈了与供货商之间发生的争执，他设法与之周旋，表现得相当好：可是呢，我却发现那故事让我觉得挺无聊的。\"}, {\"id\": \"170-2\", \"participant\": \"治疗师\", \"text\": \"这果然很有意思。你怎么解释自己这种情绪呢？\"}, {\"id\": \"170-3\", \"participant\": \"来访者\", \"text\": \"我觉得在某种程度上，他从我身边“走开”了。这可能是他对上次被我伤害、被我误解所做的反应吧。\"}, {\"id\": \"170-4\", \"participant\": \"治疗师\", \"text\": \"的确是这样。当你对一个来访者感到无聊时，通常这不是面询内容本身所造成的。失去与来访者在情感上的联系，是引发疏离感的原因。从婴儿期开始，我们就在回应他人以各种方式传递给我们的信息，诸如说话声调、身体姿态，以及他人对我们的整体态度。当来访者退缩时，尽管他可能依然在不停地说，但语气语调都会有变化，似乎不再是对着我们说话，而像是在对着一堵白墙；对此，我们的反应往往是不知不觉中感到孤单、隔离与无意义一一换言之，感到被遗弃。假如对这些没有觉察，我们也会转而退缩，从来访者身边“走开”；哪怕我们在继续专注地看着对方，甚至装出很感兴趣的样子。\"}, {\"id\": \"170-5\", \"participant\": \"来访者\", \"text\": \"发生这种情况，你会怎么处理呢？\"}, {\"id\": \"170-6\", \"participant\": \"治疗师\", \"text\": \"不要让自己沉浸在闪问不乐中，不要陷于被动而无所作为，而要积极地与来访者互动。假如你还搞不清当前状况，那就去探寻看看。来访者沉默不语，这会是什么原因呢：咨询中他为什么会漫无目的，表现得随波逐流呢；或者，他在详述那些看起来无关紧要的细节，这是为什么呢？对此类现象，你无需犹豫，只管把你的假设说出来。而不要去想当然地作意断。假如来访者滔潘不绝地漫谈，你则切忌对此妄加瘾测，认准他的话里准有什么是需要被理解的；假如你在面询中感到非常无聊，就不要想当然地认为自己必得耐着性子听完本节面询，或者再多听几节，以为到最后你总能搞清楚情况。要知道，当来访者说真正重要，却又无法让你理解的事时，你的感觉会完全不一样。那时你不会感到无聊，而会觉得兴奋，会兴致然，会态度积极且感受敏锐，而且心里会不时冒出疑惑，因为来访者会以其非言语的沟通方式，让你感受到他在极力与你交流而不是在回避你。这种情形下，选择静观其变，的确可能更好一些；只要你感到自己在保持着警觉，那么面询就能向前发展，而你则无需过于担心。\"}, {\"id\": \"170-7\", \"participant\": \"来访者\", \"text\": \"假如难以专注，是由于自己的疲劳，或者被自身问题所困扰而分散了精力，又或者是正处于自己的某种情绪低潮里疲于应付，那又该如何处理呢？\"}, {\"id\": \"170-8\", \"participant\": \"治疗师\", \"text\": \"我发现，要摒除我对自己的过度关注，最好的解药是来访者；他能使我转而投入到治疗工作里去。瞬间地，我的头也不那么疼了，让我不开心的事也没那么糟了。所以我觉得同样的原理你也能适用。你还是必须问自己，为什么你遇到“这个”来访者时，会特别关注到自己的健康问题或其他困扰，而面对同一天里的其他来访者时则不会。答案是，来访者让你“闲到”有时间去关注自己，通常是因为他在以某种形式退缩，他因某种尚待探明的原因从你身边“走开”了。\"}, {\"id\": \"170-9\", \"participant\": \"来访者\", \"text\": \"当然还可能是别的原因啊，比如来访者走进来，发现你看起来心事重重的，脸色苍白或者面容痛苦，由此他便认定了自己在打扰你，觉得你对他不会感兴趣，于是就退缩了。\"}, {\"id\": \"170-10\", \"participant\": \"治疗师\", \"text\": \"的确是很有可能，但这一可能性需要去加以探索验证。而一旦这些被摆到台面上加以讨论，那你也就回到了来访者身边，于是你们就能进一步探索：他的这些认知，对他而言，意义是什么：他进门后的这种事态变化，在如何影响他一一如此一来，也就可以了。好吧，刚才说到，你因为Clark而感到无聊了，对于他为什么把你“关146 在门外”你也有个不错的想法，那么然后呢，你做了什么？\"}, {\"id\": \"170-11\", \"participant\": \"来访者\", \"text\": \"我听从了你的建议，不去耗费精力承认错误，或是试图消除那些业已犯下的错。而是等着他说完，仅仅在必要处才做一点评论。然后就告诉他，上次他的话让我很迷惑，我问道：“你去逛妓院，又怎能说这么多年来和妻子关系亲密呢，你还声称彼此有着深厚的感情？“说完以后，我就坐等着“天花板砸下来落在我身上”。 家\"}, {\"id\": \"170-12\", \"participant\": \"治疗师\", \"text\": \"砸下来了么？\"}, {\"id\": \"170-13\", \"participant\": \"来访者\", \"text\": \"没有，这真叫我惊。他看起来一点儿也没有对我的问题感到不满。他告诉我，尽管他早期只和妓女有过性经验，他也认为一旦结婚了就不会再跟妓女扯上关系；但是后来，他发现妻子在性的方面没有太大兴趣，而且对于他试图使夫妻关系变得更为热烈，妻子还感到很厌烦。早先，妻子至少在婚姻层面上还保留着一些对性的兴趣，而在知道由于他的不育他们不会有子女后，很快地，就连这一点兴趣也都消失了。他说虽然没和妻子公开讨论过，但他很清楚妻子更愿意他在别人那里得到性满足。而他重回其旧有模式一一出去找妓女，只是个时间问题而已。我还是难以相信一切就只是这样而已，于是我就问他，他从没对此感到过丝毫良心上的不安或者负疫么？\"}, {\"id\": \"170-14\", \"participant\": \"治疗师\", \"text\": \"你做得好！\"}, {\"id\": \"170-15\", \"participant\": \"来访者\", \"text\": \"提了这一问题后，似乎我和他的角色就做了个对调。我原本以为，Clark可能会因此生气或者产生防御，可事实上他不仅没有如此，还表现得非常慈祥和，完全像个长辈一样。他安坐回椅子里，温和友善地看了我一会儿，然后对我说，我真的给了他很大的帮助，很明显我受到的教育要比他好得多；尽管他并无对我不敬的意思，但在这些事情上，他的阅历要比我深得多了，或许他能教给我一些东西。接下去他告诉我，总体上，他与妻子的共同生活是美好的，婚姻中两人感情深厚，彼此相互扶持，而之前他曾以为假如自己继续保持婚外性生活，婚姻会因此出问题。他年轻时也对未来生活有过美好的憧憬，然而后来他发现，在他所认识的人里，那些执着于自己的理想愿景而不甘妥协的人，最终更容易落得个一无所获：而他自己，以及在他所认识的那些能够从容接受失望、尽其所能加以变通的人，反而会更快乐一些。他说：“不，我不会因跟朋友们每个礼拜去声色场所逛逛，就感到内疚或不安。”或许，假以时日，我对这些也会有更多的理解吧。可能与婚姻的整体关系相比，这件事算是微不足道吧。他说，这么些年来，更困扰他的其实是没有子女。他曾经很想有个儿子，可是妻子却非常固执地不愿收养个孩子。最终，他也打消了这个念头。说到这里，他又反省道，假如他们有孩子的话，或许他就不会如此长久地依赖妻子了，或许他就会更早地开始改变，早点做现在正在做的事情。我们进行到这里，就到了面询结束的时间。\"}, {\"id\": \"170-16\", \"participant\": \"治疗师\", \"text\": \"我认为，你为他做了很多。\"}, {\"id\": \"170-17\", \"participant\": \"来访者\", \"text\": \"我想知道，为什么在我最初听到Clark谈他的性经历时，会感到那么的烦乱？而现在，尽管我个人还是强烈不赞同他那种做法，但这件事似乎已经不再困扰我了。\"}, {\"id\": \"170-18\", \"participant\": \"治疗师\", \"text\": \"你感到困扰，部分原因是因为缺之经验。你只是不了解，其实你可以对来访者的行为保有自己的评判，而这一评判并不必然会干扰到你的专业治疗行为。但是，更深层的原因，或许也是更重要的原因，在于你所建立的对Clark的潜意识感受。你知道，移情关系的能量是双向流动的。我猜想，从某种意义上说，你眼中的Clark，有着你所赋予他的一些态度与品德，你将他视为老一辈人的代表，代表了你父亲那一代人。而当你发现他那个年纪的男人也在关注性欲问题时，你对他举止循礼的印象以及你的秩序感就都被扰乱了，更何况他还对妻子不忠，而他的妻子恰恰又是母亲的典型代表。你的焦虑，一时间扰乱了你的专业治疗态度，这种焦虑听起来就像一个小男孩或小伙子在清楚地意识到其父母其实并不如他所想象的或者期望的那样，是个无性别的人时，他内心里所遭受的纷扰。有趣的是Clark与你互换角色的过程，在你清楚地表达了自己的苦恼后，他就相应地变成了你的人生向导或指导教师，他帮着你去应对现实中令你感到烦扰的事。\"}, {\"id\": \"170-19\", \"participant\": \"来访者\", \"text\": \"你觉得这样做会破坏对他的治疗么？\"}, {\"id\": \"170-20\", \"participant\": \"治疗师\", \"text\": \"在本案中不会。事实上，我认为这对治疗很有益。这提醒了Clark，尽管他在某些方面是不成熟的、缺乏他这个年龄的人所应有的某些能力，但是在其他方面，他依然能够冷静从容、安定自若。这对来访者和治疗师都是好事，它在不时地提醒我们，生命中那些有问题的部分并不能代表一个人的全部。这可以帮助我们纠正某些观念一一以为来访者是无助的、残缺的人，他们只能去依赖充满智慧、坚强有力的治疗师。通常来说，来访者在其各自的生活领域里还是颇具能力的，他们只是碰巧在解决某一特定领域问题时，难以运用其过去所掌握的技能而已。有时候治疗师可能还必须要面对一个事实：他可能不如某个特定来访者成熟，可能更缺乏效率。但是，不能由这一点去否定来访者需要得到治疗师帮助，或者否定治疗师有能力去支持这个来访者。\"}, {\"id\": \"170-21\", \"participant\": \"来访者\", \"text\": \"治疗师怎么才能避免自己的盲点干扰治疗过程呢？\"}, {\"id\": \"170-22\", \"participant\": \"治疗师\", \"text\": \"在某种程度上说，了解自己的治疗风格，对自己的反常情绪与行为能够加以识别，都会对我们有所帮助，因为这些很可能是个人情结侵入治疗的信号。在这种情形下，治疗师要加倍努力，确认自己是否真实理解了当下所发生的事情。治疗中最重要的是，治疗师在治疗实践中所获得的经验。假如治疗师曾经在某次治疗情境里与自己的潜意识冲突一道工作过，那么当它们再次被激活时，就很可能会被治疗师识别出来。\"}, {\"id\": \"170-23\", \"participant\": \"来访者\", \"text\": \"上次的面询，让我多少有种感觉，Clark的治疗似乎即将走到终点了。可能是因为我失去了对治疗情境的控制吧，在我们的关系中Clark取得了领导地位。\"}, {\"id\": \"170-24\", \"participant\": \"治疗师\", \"text\": \"我愿意认同你的部分观点，即在他的治疗里所能做的都已经完成了；但是，这不是由于你失去了对情境的控制。你会发现，他依然会前来赴约，会跟以前一样向你汇报其日常活动，寻求你对他所获成就的赞扬与认可。问题在于，治疗就这么做下去，能有多大效果？我认为，借由在上次面询中他获取的领导地位，他表明了自己有能力独自走下去，所以治疗的下一步，也是最后一步，就应该是帮助他去完成这一点。我建议，你可以和他一起回顾从他初访到现在，都发生了哪些事。他妻子的去世，某种程度上促使他去面对自我肯定的困境，而对于这个困境，他的旧有经验并未替他做好准备他与你一道工作，从而逐渐意识到自己不仅有能力维护自身利益，而且现在还能够乐在其中。这些历程，都要用语言去表达出来。再然后，我会告诉他，接下去他要凭借自己的力量前行了，而我的诊室大门会向他敬开着，只要他需要随时可以回来，我会问他对此有何感受。\"}, {\"id\": \"170-25\", \"participant\": \"来访者\", \"text\": \"你认为对于他丧妻的哀伤，处理得足够充分吗？\"}, {\"id\": \"170-26\", \"participant\": \"治疗师\", \"text\": \"这一点似乎他处理得不错。他重新开始性生活，这表明现在他充分自由独立，可以重建其人生了。与治疗前的他相比，你对他所做的工作无疑使他进入了一个更好的情境，能够为自己去创造更合理的、令人满意的生活。这是结束治疗的好时机。我们常犯的错误是，认为只有更好的生活成为现实了，那才是治疗结束的时点。而追求这一点，只会让治疗走向一个永无止境且令人沮丧的局面。一旦来访者准备好了，就像孩子长大成人了一样，他必须走出家门自己闯一闯。父母无法为子女预设幸福，治疗师也是如此。治疗在两个月之后，令人满意地结束了。鉴别诊断与治疗的选择定状样神经症和神经症式性格障碍在心理治疗的实践中，大部分疾病可以归为三类：症状样神经症和精神神经症式的性格障碍，自恋癖或自体客体失调边缘性障碍。这些诊断描述了发展上的变迁，它们不是建立在来访者外在表现、主诉内容或现象学基础上的判断。诊断只能建立在对来访者整体性格结构的评估之上，尤其是在他与治疗师的关系之中，所呈现出的整体性格结构。然而，尽管诊断结果对治疗及预后具有深远意义，但诊断分类并非固定不变、不容更改，也不是相互排斥的；它们在某些情形中可能出现重叠。此外，治疗师在逐渐熟悉来访者之后，或者来访者在治疗中发生改变、成熟起来之后，治疗师的诊断印象都可以做修正或变更。GloriaDelmore的案例督导住院医师：我想跟你谈的来访者，是一个26岁的女教师，名字叫GloriaDelmore。她前来就诊，是因为她与男性相处的关系出现了诸多问题。最近她订了婚准备结婚，但是，在婚礼计划确定后的不久，她感到极度恐慌，就打了退堂鼓。她说，她意识到自己一定有哪里不对劲了，才会使她跟每一个男人交往时都会遇到这样或那样的麻烦；而那些男人其实很喜欢她，也挺适合她的。督导：关于这个来访者，你的问题是什么？\"}, {\"id\": \"170-27\", \"participant\": \"来访者\", \"text\": \"我在诊断方面没有太大把握。看起来，她在别的方面表现得都非常好，所以我想不出，她怎么就会出了这种问题。\"}, {\"id\": \"170-28\", \"participant\": \"治疗师\", \"text\": \"你见过她几次了？光 精\"}, {\"id\": \"170-29\", \"participant\": \"来访者\", \"text\": \"两次，中间还隔了两周。\"}, {\"id\": \"170-30\", \"participant\": \"治疗师\", \"text\": \"那么，我们来听听看你对她的了解吧。她在面询中留给你什么印象呢？\"}, {\"id\": \"170-31\", \"participant\": \"来访者\", \"text\": \"她是个亲切开朗、彬彬有礼的人。她第一次来时，给我留下印象最深的是她的开场白；她第一句话就是感谢我为她把面询安排在了伤晚，因为她是个教师，下午三点半之前没法离校，况且从学校到我的诊室，还有很长一段路。大多数人似乎会把你为他们提供的方便，视为理所应当，而不会为此道一声谢。她类似的言行不仅仅在是开场白上，在其他一些事上也表现得举止得体，善解人意。\"}, {\"id\": \"170-32\", \"participant\": \"治疗师\", \"text\": \"你挺喜欢她。\"}, {\"id\": \"170-33\", \"participant\": \"来访者\", \"text\": \"的确是的，而且我也很欣赏她努力经营自己生活的态度和做法。她出生于一个传教士家庭，家里有七个孩子，她排行老四。她父亲被派往南美一个贫困教区做牧师。她6岁前一直生活在那个教区，之后被送到美国的亲戚家，于是，她在美国上学读书，而父母在南美继续完成教职。直到她10岁，他们才得以一家团聚。在她的记忆里，她很孤单；父母都不在她身边，要每隔18个月父母有假期了，才能回国跟她见上一面。此外就只有通信联系了，父母每周都给她写信，也盼着她能尽快回信。似乎在她的行为规范里，特别强调“服从上帝与长辈”，教堂和家庭是他们的生活重心。就来访者所能回忆起的部分看，她有着一个美好的童年，症状样神经症和神经症式性格障碍 153和她一起生活的亲戚对她也很友善：她有不少朋友，在学校发展也挺顺。青春期时，她有过一次轻微的叛逆。在大学里，她所加入的教会要比她父亲的那个更为自由开放。父母对此倒也并不反对，一家人依然很亲密。她靠奖学金完成了动物学的硕士学位，目前在一所高中担任生物教师，她很喜欢这份工作，跟学生，同事以及学校领导相处得都非常好。所有的一切听起来都非常美好，她似乎也是一个相当健全的人，只是现在她依然住在父母家里而已，好像她还没法从父母身边独立出去。她从来也不之追求者。那些男人既吸引她，也让她害怕。她跟每一任男友的交往其实一直都挺顺，直到男友提出性要求，情形就变了；任何程度上的身体接触都会让她变得焦虑，会出现各种躯体症状，比如脸红，恶心，腹泻，于是关系很快也就断了。她也搞不懂为什么总会这样，其实她很想拥有自己的家庭。\"}, {\"id\": \"170-34\", \"participant\": \"治疗师\", \"text\": \"她父母对她留在家里的感觉如何？\"}, {\"id\": \"170-35\", \"participant\": \"来访者\", \"text\": \"对于希望女儿能够结婚成家这一点，他们倒是也从不掩饰，尽管家里其实挺需要她的。她妈妈会不时因为某种慢性肠胃疾病发作而不能工作，显然这是她在海外工作时得的病，每当这个时候，家里很多事就需要这个女儿来操持。令我感到迷惑的是，Delmore相当主动地跟我讲述了她的很多事，这一点远远超过别的大多数来访者，他们通常在最初有限的几次会面里做不到这样。我还无法真正识别出她的问题本质，也没法制定出治疗方案。\"}, {\"id\": \"170-36\", \"participant\": \"治疗师\", \"text\": \"当我看到一个来访者，其个人功能完整，社会关系良好，能以一种成熟的方式跟我沟通，但同时又因为受到某些局限性的心理问题干扰，使得他无法过上本应有的良好生活，这时候，我就会想到有关神经症的疾病一一在本案中，我想到的是歇斯底里症。\"}, {\"id\": \"170-37\", \"participant\": \"来访者\", \"text\": \"为什么说这里是神经症呢？并没有出现明确的恐惧症状，强迫观念，强迫行为或者转换反应啊。\"}]'"
      ]
     },
     "execution_count": 46,
     "metadata": {},
     "output_type": "execute_result"
    }
   ],
   "source": [
    "json.dumps(cn_dialog_data[170]['dialog_list'],ensure_ascii=False)"
   ]
  },
  {
   "cell_type": "code",
   "execution_count": 47,
   "metadata": {},
   "outputs": [
    {
     "data": {
      "text/plain": [
       "([1, 2], 461)"
      ]
     },
     "execution_count": 47,
     "metadata": {},
     "output_type": "execute_result"
    }
   ],
   "source": [
    "[1]+[2],beg_idx"
   ]
  },
  {
   "cell_type": "code",
   "execution_count": 48,
   "metadata": {},
   "outputs": [],
   "source": [
    "beg_idx=461"
   ]
  },
  {
   "cell_type": "code",
   "execution_count": 53,
   "metadata": {},
   "outputs": [
    {
     "name": "stdout",
     "output_type": "stream",
     "text": [
      "[[0, 1, 2], [3, 4, 5], [6, 7, 8], [9, 10, 11], [12]]\n",
      "[0, 1, 2]\n",
      "[3, 4, 5]\n",
      "[6, 7, 8]\n",
      "[9, 10, 11]\n",
      "[12]\n"
     ]
    }
   ],
   "source": [
    "lists= [0, 1, 2, 3, 4, 5, 6, 7, 8, 9, 10, 11, 12]\n",
    "n = 3 # 表示多少个一组\n",
    "list_ = [lists[i:i+n] for i in range(0,len(lists),n)]\n",
    "print(list_)\n",
    "for i in list_:\n",
    "    print(i)"
   ]
  },
  {
   "cell_type": "code",
   "execution_count": 50,
   "metadata": {},
   "outputs": [
    {
     "name": "stdout",
     "output_type": "stream",
     "text": [
      "单独处理特殊样本\n",
      "d_168.json\n",
      "<class 'list'> {'id': '168-0', 'participant': '来访者', 'text': '你怎么理解这个案例呢？你的诊断是什么？'} 49.0\n",
      "18308 20870\n"
     ]
    },
    {
     "name": "stdout",
     "output_type": "stream",
     "text": [
      "[\n",
      "    {\n",
      "        \"id\": \"168-0\",\n",
      "        \"participant\": \"来访者\",\n",
      "        \"text\": \"你怎么理解这个案例呢？你的诊断是什么？\",\n",
      "        \"reason\": \"\"\n",
      "    },\n",
      "    {\n",
      "        \"id\": \"168-1\",\n",
      "        \"participant\": \"治疗师\",\n",
      "        \"text\": \"我认为我们不该在目前仅有的信息基础上，去给Clark先生下结论。我们可以等你下回和他再见过一次面后，再来谈谈，那时我们再看看走到了哪一步。而现在，我想继续刚才的话题，继续说说诊断过程，并且，我还可以给你举几个例子，具体阐明在实际临床治疗中，面对打破我们原先预期的情形，或者面对不常见的、令人困惑的情形，我们该如何去得出结论。Billy，9岁男孩，某次手臂骨折后送进医院。儿科医生偶然间得知，Billy在视听方面皆有幻觉，持续几个月了。医生初步诊断为精神分裂症，并提出应该对他做会诊。当我走进病房，听到电视里传来的隆隆响声，正在播放着儿童节目，我看到一个小男孩坐在床上，正沉浸于某种绘画游戏里。尽管他左臂还打着石膏，可他似乎操作得还是蛮成功的。我打招呼说：“嗨！”想把他的注意力请吸引到我这里来。他抬头看着我，眼神澄澈晶莹，他用友善的微笑回应着我。就在那一刻，我清楚地意识到自己已经下了个判断：他不是个患有精神分裂症的男孩。我低头核对了一下转诊单，想确认自己是否走错病房、见错病人。结果，一切都没有错。\",\n",
      "        \"reason\": \"\"\n",
      "    },\n",
      "    {\n",
      "        \"id\": \"168-2\",\n",
      "        \"participant\": \"来访者\",\n",
      "        \"text\": \"对不起，我打断一下。你不会是在说，直觉预感应该成为我们诊断的基础吧？你是这个意思么？\",\n",
      "        \"reason\": \"\"\n",
      "    },\n",
      "    {\n",
      "        \"id\": \"168-3\",\n",
      "        \"participant\": \"治疗师\",\n",
      "        \"text\": \"我不是在说“应该”或“不应该”，而是试着向你描述，在我和Billy互动时发生的真实情况。当然啦，我不会在此刻就止步的，我要继续完成对他的诊断。我做了自我介绍，然后和Billy漫谈了一会儿，其间聊到了他的个人情况。我询问了他那些奇怪的视听幻觉，了解到他总能提前知道自己在什么时候快要有麻烦了，因为在发作之前他心里就会先有一种奇怪的感觉；接下来在他眼前总能出现某个特定老师的脸，还能很清楚地听到她的声音，虽然听不懂她在说什么；再接下去，会有一圈人围着他，个个满脸担忧的样子，还有人说“他一定是晕过去了”。事实上，似乎就是在出现上述某个感觉的时候，他从楼梯上摔下去骨折了，这才被送到医院里来的。\",\n",
      "        \"reason\": \"\"\n",
      "    },\n",
      "    {\n",
      "        \"id\": \"168-4\",\n",
      "        \"participant\": \"来访者\",\n",
      "        \"text\": \"我明白你想要说什么了。听起来这孩子的发病原因更多地属于器质性的而不是心因性的。\",\n",
      "        \"reason\": \"\"\n",
      "    },\n",
      "    {\n",
      "        \"id\": \"168-5\",\n",
      "        \"participant\": \"治疗师\",\n",
      "        \"text\": \"不，我不是这个意思。我们无法用器质性病变的存在，去排除病人同时遭受着心因性疾患困扰的可能；这两者并不互斤。我必须要强调的是，心理疾病不能靠排除法来下诊断，但是很遗撼，人们却常常是这样用排除来做诊断的。人们会错误地认为，假如病人不存在器质性病变，那么疾病就一定是心因性的，或者反过来，只要存在器质性的病因，那么就能用它去解释一切。心理问题是否存在，应当以访谈过程中病人所呈现出的症状为判断基础。跟我对话时，这个男孩说话直截而坦率，表现出的稚气与其年龄相称，能引发别人去体会，理解他的感受，他这些交往能力证实了我之前的初始判断与瞬间印象：他不是一个精神分裂症患童。当我们谈到他的兴趣爱好、学校功课、在家的活动时，我做出了进一步的假设：这男孩并未罹患精神疾病，无需做心理治疗。当我们找到机会去讨论他的幻觉时，我又做了个假设，那就是这孩子患有题叶癫痫，需要做神经科检查。后来，给他做了脑电图等项目的检查，诊断为先天题叶癫痫，随后为他安排了去神经科做治疗。在上述过程里到底发生了什么呢？我的结论又是怎样得出的呢？首先，让我们对“理论”这个概念下一个具有操作性的定义吧：所谓理论，就是为了解释一个或多个具体经验而提出的一组论点。在刚才的例子中，儿科医生的诊断印象一一儿童期精神分裂症，以及他所提及的视听幻觉，引导我想起曾见过和读过的对此类儿童的印象。所以，在我亲眼见到Billy之前，我已经构建出一个“理论”：我即将见到的儿童，可能如教科书上疾病分类里所描述的那样，“自闭，非典型，具有退缩行为，无法从母亲那里分离并发展出自我认同，广泛性的发展不均衡，发展不足、不成熟”。\",\n",
      "        \"reason\": \"\"\n",
      "    },\n",
      "    {\n",
      "        \"id\": \"168-6\",\n",
      "        \"participant\": \"来访者\",\n",
      "        \"text\": \"我从来都记不全那些疾病分类的细节。\",\n",
      "        \"reason\": \"\"\n",
      "    },\n",
      "    {\n",
      "        \"id\": \"168-7\",\n",
      "        \"participant\": \"治疗师\",\n",
      "        \"text\": \"我也一样，这就是我要说的重点。在Billy跟我说话的时候，我意识到之前所预想的理论并不对，但我不可能像台数字计算机似的，将我脑海中对Billy渐次浮现出的临床印象，拿来与精神分裂症的诊断标准做逐条审查，从而得出一个结论。事实上，我的头脑工作起来更像是一台老式的模拟计算机一一早先，在对Billy的临床印象还极其遗乏的情形下，输入标志着儿童期精神分裂症的信号模式，此刻姑且先不做对与错的判断随后将见到Billy时的信号输入；两种信号模式比照后我发现一致性不足，于是，否定掉之前的预设判断。和Billy谈话时，某种完全是意料之外的东西进入我的意识，那是一种紧张情绪卸去后的轻松。而之前，想到将面对的孩子可能会丧失功能、很不快乐、要求很多，或者极其愤怒以致于拒绝与人接触，我的紧张与压力就油然而生：而现在，紧张情绪荡然无存。接下来结论就浮现了：从心理学意义上讲，他可能就是个健康孩子。在那一刻，我并没有对照转诊单上的既往病史去审查是否有其他造成幻觉的病因，突然间，我有了个新的假设：或许儿科医生对其所谓幻觉的判断是错的，或计他错将一个聪慧孩子的生动想象以及对白日梦的形象描述，看成了一种反常知觉。在Billy告诉我他的前驱症状时，我又意识到自己的这个假设是错的。我还来不及停下来反思，脑海中就冒出一个词，“癫痫先兆”。接下来我准备在Billy身上搜集进一步的资料，看是否合乎叶激发状态的模式，那是我当实习医生在精神科室轮值时学到的。后来，这个预判得到了证实。治疗师带着诸多预期进入特定的临床治疗情境，他把咨访双方之间实*为避免我被认为是在主张心理治疗师必须具备医学背景，容我赶紧再补充一段，相对于我所想要表达的重点而言，我在本案中的最终诊断能得到确证，只不过是个偶然事件而已。在我能相对确定地指明，Billy的症状既不能解释为精神分裂症，也不能归因于其他心理疾病时，我的工作在本质上就已经完成了。120 家际发生的事情，与之前所做的预期做比较，判断吻合或差异程度，契合或者偏离，都能促使治疗师对来访者的情况做出一系列新的假设，而这些假设是否成立，则应在接下去的会谈里，不动声色地再加以检验。就这样，循环递进，直到初步诊断出现，治疗方案形成。\",\n",
      "        \"reason\": \"\"\n",
      "    },\n",
      "    {\n",
      "        \"id\": \"168-8\",\n",
      "        \"participant\": \"来访者\",\n",
      "        \"text\": \"当然啦，一旦有了经验，我也就会明白这里面究竞是怎么回事了，可是，新手刚开始没经验，该怎么办呢？如果你是新手，你要怎么做呢？\",\n",
      "        \"reason\": \"\"\n",
      "    },\n",
      "    {\n",
      "        \"id\": \"168-9\",\n",
      "        \"participant\": \"治疗师\",\n",
      "        \"text\": \"是的，我们一开始都缺之经验，难以通过来访者的外貌、态度、说话风格及其主诉的性质，唤起记忆，想到曾见过的或详加研究过的其他来访者，从而难以迅速整合出对陌生来访者的系统见解；当然，这只是暂时的。我们还必须要去克服焦虑对我们的干扰一一当我们想象着来访者、同行、督导师以及其他人将会如何看待我们时，焦虑就会产生。基于以上原因，在初始阶段里，我们很可能会更多地关注自己而不是来访者；也就是说，我们为了免于让自己因为拿不出诊断而看起\n"
     ]
    },
    {
     "ename": "JSONDecodeError",
     "evalue": "Unterminated string starting at: line 59 column 17 (char 3559)",
     "output_type": "error",
     "traceback": [
      "\u001b[0;31m---------------------------------------------------------------------------\u001b[0m",
      "\u001b[0;31mJSONDecodeError\u001b[0m                           Traceback (most recent call last)",
      "Cell \u001b[0;32mIn[50], line 22\u001b[0m\n\u001b[1;32m     20\u001b[0m pre_res\u001b[38;5;241m=\u001b[39mchat(messages)\u001b[38;5;241m.\u001b[39mcontent\n\u001b[1;32m     21\u001b[0m \u001b[38;5;28mprint\u001b[39m(pre_res)\n\u001b[0;32m---> 22\u001b[0m pre_json\u001b[38;5;241m=\u001b[39m\u001b[43mjson\u001b[49m\u001b[38;5;241;43m.\u001b[39;49m\u001b[43mloads\u001b[49m\u001b[43m(\u001b[49m\u001b[43mpre_res\u001b[49m\u001b[43m)\u001b[49m\n\u001b[1;32m     23\u001b[0m pre_json\u001b[38;5;241m=\u001b[39m\u001b[38;5;28;01mNone\u001b[39;00m\n\u001b[1;32m     24\u001b[0m post_half\u001b[38;5;241m=\u001b[39md_list[\u001b[38;5;28mlen\u001b[39m(d_list)\u001b[38;5;241m/\u001b[39m\u001b[38;5;241m/\u001b[39m\u001b[38;5;241m2\u001b[39m:]\n",
      "File \u001b[0;32m~/sys_tool/miniconda/tmp/yes/envs/trl/lib/python3.9/json/__init__.py:346\u001b[0m, in \u001b[0;36mloads\u001b[0;34m(s, cls, object_hook, parse_float, parse_int, parse_constant, object_pairs_hook, **kw)\u001b[0m\n\u001b[1;32m    341\u001b[0m     s \u001b[38;5;241m=\u001b[39m s\u001b[38;5;241m.\u001b[39mdecode(detect_encoding(s), \u001b[38;5;124m'\u001b[39m\u001b[38;5;124msurrogatepass\u001b[39m\u001b[38;5;124m'\u001b[39m)\n\u001b[1;32m    343\u001b[0m \u001b[38;5;28;01mif\u001b[39;00m (\u001b[38;5;28mcls\u001b[39m \u001b[38;5;129;01mis\u001b[39;00m \u001b[38;5;28;01mNone\u001b[39;00m \u001b[38;5;129;01mand\u001b[39;00m object_hook \u001b[38;5;129;01mis\u001b[39;00m \u001b[38;5;28;01mNone\u001b[39;00m \u001b[38;5;129;01mand\u001b[39;00m\n\u001b[1;32m    344\u001b[0m         parse_int \u001b[38;5;129;01mis\u001b[39;00m \u001b[38;5;28;01mNone\u001b[39;00m \u001b[38;5;129;01mand\u001b[39;00m parse_float \u001b[38;5;129;01mis\u001b[39;00m \u001b[38;5;28;01mNone\u001b[39;00m \u001b[38;5;129;01mand\u001b[39;00m\n\u001b[1;32m    345\u001b[0m         parse_constant \u001b[38;5;129;01mis\u001b[39;00m \u001b[38;5;28;01mNone\u001b[39;00m \u001b[38;5;129;01mand\u001b[39;00m object_pairs_hook \u001b[38;5;129;01mis\u001b[39;00m \u001b[38;5;28;01mNone\u001b[39;00m \u001b[38;5;129;01mand\u001b[39;00m \u001b[38;5;129;01mnot\u001b[39;00m kw):\n\u001b[0;32m--> 346\u001b[0m     \u001b[38;5;28;01mreturn\u001b[39;00m \u001b[43m_default_decoder\u001b[49m\u001b[38;5;241;43m.\u001b[39;49m\u001b[43mdecode\u001b[49m\u001b[43m(\u001b[49m\u001b[43ms\u001b[49m\u001b[43m)\u001b[49m\n\u001b[1;32m    347\u001b[0m \u001b[38;5;28;01mif\u001b[39;00m \u001b[38;5;28mcls\u001b[39m \u001b[38;5;129;01mis\u001b[39;00m \u001b[38;5;28;01mNone\u001b[39;00m:\n\u001b[1;32m    348\u001b[0m     \u001b[38;5;28mcls\u001b[39m \u001b[38;5;241m=\u001b[39m JSONDecoder\n",
      "File \u001b[0;32m~/sys_tool/miniconda/tmp/yes/envs/trl/lib/python3.9/json/decoder.py:337\u001b[0m, in \u001b[0;36mJSONDecoder.decode\u001b[0;34m(self, s, _w)\u001b[0m\n\u001b[1;32m    332\u001b[0m \u001b[38;5;28;01mdef\u001b[39;00m \u001b[38;5;21mdecode\u001b[39m(\u001b[38;5;28mself\u001b[39m, s, _w\u001b[38;5;241m=\u001b[39mWHITESPACE\u001b[38;5;241m.\u001b[39mmatch):\n\u001b[1;32m    333\u001b[0m \u001b[38;5;250m    \u001b[39m\u001b[38;5;124;03m\"\"\"Return the Python representation of ``s`` (a ``str`` instance\u001b[39;00m\n\u001b[1;32m    334\u001b[0m \u001b[38;5;124;03m    containing a JSON document).\u001b[39;00m\n\u001b[1;32m    335\u001b[0m \n\u001b[1;32m    336\u001b[0m \u001b[38;5;124;03m    \"\"\"\u001b[39;00m\n\u001b[0;32m--> 337\u001b[0m     obj, end \u001b[38;5;241m=\u001b[39m \u001b[38;5;28;43mself\u001b[39;49m\u001b[38;5;241;43m.\u001b[39;49m\u001b[43mraw_decode\u001b[49m\u001b[43m(\u001b[49m\u001b[43ms\u001b[49m\u001b[43m,\u001b[49m\u001b[43m \u001b[49m\u001b[43midx\u001b[49m\u001b[38;5;241;43m=\u001b[39;49m\u001b[43m_w\u001b[49m\u001b[43m(\u001b[49m\u001b[43ms\u001b[49m\u001b[43m,\u001b[49m\u001b[43m \u001b[49m\u001b[38;5;241;43m0\u001b[39;49m\u001b[43m)\u001b[49m\u001b[38;5;241;43m.\u001b[39;49m\u001b[43mend\u001b[49m\u001b[43m(\u001b[49m\u001b[43m)\u001b[49m\u001b[43m)\u001b[49m\n\u001b[1;32m    338\u001b[0m     end \u001b[38;5;241m=\u001b[39m _w(s, end)\u001b[38;5;241m.\u001b[39mend()\n\u001b[1;32m    339\u001b[0m     \u001b[38;5;28;01mif\u001b[39;00m end \u001b[38;5;241m!=\u001b[39m \u001b[38;5;28mlen\u001b[39m(s):\n",
      "File \u001b[0;32m~/sys_tool/miniconda/tmp/yes/envs/trl/lib/python3.9/json/decoder.py:353\u001b[0m, in \u001b[0;36mJSONDecoder.raw_decode\u001b[0;34m(self, s, idx)\u001b[0m\n\u001b[1;32m    344\u001b[0m \u001b[38;5;250m\u001b[39m\u001b[38;5;124;03m\"\"\"Decode a JSON document from ``s`` (a ``str`` beginning with\u001b[39;00m\n\u001b[1;32m    345\u001b[0m \u001b[38;5;124;03ma JSON document) and return a 2-tuple of the Python\u001b[39;00m\n\u001b[1;32m    346\u001b[0m \u001b[38;5;124;03mrepresentation and the index in ``s`` where the document ended.\u001b[39;00m\n\u001b[0;32m   (...)\u001b[0m\n\u001b[1;32m    350\u001b[0m \n\u001b[1;32m    351\u001b[0m \u001b[38;5;124;03m\"\"\"\u001b[39;00m\n\u001b[1;32m    352\u001b[0m \u001b[38;5;28;01mtry\u001b[39;00m:\n\u001b[0;32m--> 353\u001b[0m     obj, end \u001b[38;5;241m=\u001b[39m \u001b[38;5;28;43mself\u001b[39;49m\u001b[38;5;241;43m.\u001b[39;49m\u001b[43mscan_once\u001b[49m\u001b[43m(\u001b[49m\u001b[43ms\u001b[49m\u001b[43m,\u001b[49m\u001b[43m \u001b[49m\u001b[43midx\u001b[49m\u001b[43m)\u001b[49m\n\u001b[1;32m    354\u001b[0m \u001b[38;5;28;01mexcept\u001b[39;00m \u001b[38;5;167;01mStopIteration\u001b[39;00m \u001b[38;5;28;01mas\u001b[39;00m err:\n\u001b[1;32m    355\u001b[0m     \u001b[38;5;28;01mraise\u001b[39;00m JSONDecodeError(\u001b[38;5;124m\"\u001b[39m\u001b[38;5;124mExpecting value\u001b[39m\u001b[38;5;124m\"\u001b[39m, s, err\u001b[38;5;241m.\u001b[39mvalue) \u001b[38;5;28;01mfrom\u001b[39;00m \u001b[38;5;28;01mNone\u001b[39;00m\n",
      "\u001b[0;31mJSONDecodeError\u001b[0m: Unterminated string starting at: line 59 column 17 (char 3559)"
     ]
    }
   ],
   "source": [
    "# beg_idx=0\n",
    "import json\n",
    "cache_dir=\"/home/ckqsudo/code2024/0dataset/E-bed/Chinese/ChatGPT_缓存文件夹\"\n",
    "error_idx=[168,170, 175, 183, 188, 251, 322, 411, 415, 418, 440]\n",
    "print(\"单独处理特殊样本\")\n",
    "for x,dialog_item in enumerate(cn_dialog_data):\n",
    "    if x>=beg_idx or x in error_idx:\n",
    "        file_name=\"d\"+\"_\"+str(x)+\".json\"\n",
    "        print(file_name)\n",
    "        with open(cache_dir+\"/\"+file_name,\"w\",encoding=\"utf-8\") as o_f:\n",
    "            d_list=dialog_item['dialog_list']\n",
    "            messages[-1]=HumanMessage(content=instruct_prompt+json.dumps(d_list,ensure_ascii=False))# 获得的是一个列表\n",
    "            print(type(d_list),d_list[0],len(d_list)/2)\n",
    "            total_tokens=calculate_messages(messages)\n",
    "            last_tokens=num_tokens_from_string(messages[-1].content,\"cl100k_base\")\n",
    "            interval=10\n",
    "            n_list=[d_list[i:i+interval] for i in range(0,len(d_list),interval)]\n",
    "            # for item_list  这里好像不小心删掉了\n",
    "\n",
    "            if last_tokens*2/3>4096 or total_tokens>4096-100:\n",
    "                response=long_chat(messages).content\n",
    "                response_json=json.loads(response)\n",
    "            else:\n",
    "                response=chat(messages).content\n",
    "                response_json=json.loads(response)\n",
    "            json.dump(response_json,o_f,ensure_ascii=False)\n",
    "            "
   ]
  },
  {
   "cell_type": "code",
   "execution_count": null,
   "metadata": {},
   "outputs": [],
   "source": [
    "\n",
    "            # if last_tokens*2/3>16000 or total_tokens>16000:\n",
    "            #     print(last_tokens,total_tokens)\n",
    "            #     pre_half=d_list[:len(d_list)//2]\n",
    "            #     messages[-1]=HumanMessage(content=instruct_prompt+json.dumps(pre_half,ensure_ascii=False))\n",
    "            #     pre_res=chat(messages).content\n",
    "            #     print(pre_res)\n",
    "            #     pre_json=json.loads(pre_res)\n",
    "            #     pre_json=None\n",
    "            #     post_half=d_list[len(d_list)//2:]\n",
    "            #     messages[-1]=HumanMessage(content=instruct_prompt+json.dumps(post_half,ensure_ascii=False))\n",
    "            #     post_json=json.loads(chat(messages).content)\n",
    "            #     post_json=None\n",
    "            #     response_json=pre_json+post_json\n",
    "            #     print(response_json)\n",
    "            # el"
   ]
  },
  {
   "cell_type": "code",
   "execution_count": null,
   "metadata": {},
   "outputs": [],
   "source": []
  },
  {
   "cell_type": "code",
   "execution_count": 20,
   "metadata": {},
   "outputs": [
    {
     "ename": "NameError",
     "evalue": "name 'cn_dialog_data' is not defined",
     "output_type": "error",
     "traceback": [
      "\u001b[0;31m---------------------------------------------------------------------------\u001b[0m",
      "\u001b[0;31mNameError\u001b[0m                                 Traceback (most recent call last)",
      "Cell \u001b[0;32mIn[20], line 2\u001b[0m\n\u001b[1;32m      1\u001b[0m \u001b[38;5;66;03m# messages\u001b[39;00m\n\u001b[0;32m----> 2\u001b[0m HumanMessage(content\u001b[38;5;241m=\u001b[39m\u001b[38;5;124m\"\u001b[39m\u001b[38;5;124m请你帮我纠正下面这段心理咨询对话OCR后的结果，以json数组形式输入，以json数组的形式输出:\u001b[39m\u001b[38;5;124m\"\u001b[39m\u001b[38;5;241m+\u001b[39mjson\u001b[38;5;241m.\u001b[39mdumps(\u001b[43mcn_dialog_data\u001b[49m[\u001b[38;5;241m315\u001b[39m][\u001b[38;5;124m'\u001b[39m\u001b[38;5;124mdialog_list\u001b[39m\u001b[38;5;124m'\u001b[39m],ensure_ascii\u001b[38;5;241m=\u001b[39m\u001b[38;5;28;01mFalse\u001b[39;00m))\n",
      "\u001b[0;31mNameError\u001b[0m: name 'cn_dialog_data' is not defined"
     ]
    }
   ],
   "source": [
    "# messages\n",
    "# HumanMessage(content=\"请你帮我纠正下面这段心理咨询对话OCR后的结果，以json数组形式输入，以json数组的形式输出:\"+json.dumps(cn_dialog_data[315]['dialog_list'],ensure_ascii=False))"
   ]
  },
  {
   "cell_type": "code",
   "execution_count": null,
   "metadata": {},
   "outputs": [],
   "source": []
  },
  {
   "cell_type": "code",
   "execution_count": 8,
   "metadata": {},
   "outputs": [
    {
     "data": {
      "text/plain": [
       "[1, 14, 21]"
      ]
     },
     "execution_count": 8,
     "metadata": {},
     "output_type": "execute_result"
    }
   ],
   "source": []
  },
  {
   "cell_type": "code",
   "execution_count": 1,
   "metadata": {},
   "outputs": [
    {
     "name": "stdout",
     "output_type": "stream",
     "text": [
      "['d_1.json', 'd_14', 'd_21.json']\n"
     ]
    }
   ],
   "source": [
    "# testfiles=[\"d_1.json\",\"d_21.json\",\"d_14\"]\n",
    "# testfiles.sort()\n",
    "# print(testfiles)"
   ]
  }
 ],
 "metadata": {
  "kernelspec": {
   "display_name": "trl",
   "language": "python",
   "name": "python3"
  },
  "language_info": {
   "codemirror_mode": {
    "name": "ipython",
    "version": 3
   },
   "file_extension": ".py",
   "mimetype": "text/x-python",
   "name": "python",
   "nbconvert_exporter": "python",
   "pygments_lexer": "ipython3",
   "version": "3.9.0"
  }
 },
 "nbformat": 4,
 "nbformat_minor": 2
}
