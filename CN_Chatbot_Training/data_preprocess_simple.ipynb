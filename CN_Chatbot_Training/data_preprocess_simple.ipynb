{
 "cells": [
  {
   "cell_type": "code",
   "execution_count": 6,
   "metadata": {},
   "outputs": [
    {
     "data": {
      "text/plain": [
       "{'messages': [{'role': 'system', 'content': 'You are helpful'},\n",
       "  {'role': 'user', 'content': \"What's the capital of France?\"},\n",
       "  {'role': 'assistant', 'content': '...'}]}"
      ]
     },
     "execution_count": 6,
     "metadata": {},
     "output_type": "execute_result"
    }
   ],
   "source": [
    "{\"messages\": [{\"role\": \"system\", \"content\": \"You are helpful\"}, {\"role\": \"user\", \"content\": \"What's the capital of France?\"}, {\"role\": \"assistant\", \"content\": \"...\"}]}"
   ]
  },
  {
   "cell_type": "code",
   "execution_count": 7,
   "metadata": {},
   "outputs": [],
   "source": [
    "\"\"\" json.dumps(): 将 Python 对象编码成 JSON 字符串。 json.dump(): 将 Python 对象编码成 JSON 字符串，并写入到文件中。json.loads(): 将已编码的 JSON 字符串解码为 Python 对象。json.load(): 读取文件中的 JSON 编码的数据，并解码为 Python 对象。\n",
    "    \"\"\"\n",
    "import os\n",
    "import json\n",
    "import torch\n",
    "torch.cuda.is_available()\n",
    "def json_standard(input_object):\n",
    "\n",
    "    # print(input_object,type(input_object))\n",
    "    return json.dumps(input_object,ensure_ascii=False,indent=4)\n",
    "def read_file(file_path:str):\n",
    "    with open(file_path,\"r\",encoding=\"utf-8\") as i_f:\n",
    "        return json.load(i_f)\n",
    "def write_file(file_path:str,obj,overwrite=False):\n",
    "    if os.path.exists(file_path)==False or overwrite==True:\n",
    "        with open(file_path,\"w\",encoding=\"utf-8\") as o_f:\n",
    "            json.dump(obj,o_f,ensure_ascii=False)\n",
    "        print(f\"写入{file_path}\")\n",
    "    else:\n",
    "        print(f\"{file_path}文件已经存在\")\n",
    "def check_file(file_path:str):\n",
    "    \"\"\"返回该路径下是否存在文件\"\"\"\n",
    "    is_exist=os.path.exists(file_path)\n",
    "    if is_exist:\n",
    "        file_name=file_path.split(\"/\")[-1]\n",
    "        print(f\"{file_name} exist\")\n",
    "    return is_exist\n",
    "\n",
    "import torch\n",
    "import json\n",
    "\n",
    "from transformers import (AutoTokenizer)\n",
    "model_id=\"/home/ckqsudo/code2024/0model/Mistral-7B-Instruct-v0.2\"\n",
    "tokenizer=AutoTokenizer.from_pretrained(model_id)\n",
    "# 这里不设置 trust_remote_code也行\n",
    "tokenizer.padding_size='right'#填充符的位置\n"
   ]
  },
  {
   "cell_type": "code",
   "execution_count": 8,
   "metadata": {},
   "outputs": [],
   "source": [
    "# tokenizer(\"你好啊\")"
   ]
  },
  {
   "cell_type": "code",
   "execution_count": 9,
   "metadata": {},
   "outputs": [],
   "source": [
    "en_data=read_file(\"/home/ckqsudo/code2024/Mistral-7b-finetune/data/en_regular_cache5.json\")"
   ]
  },
  {
   "cell_type": "code",
   "execution_count": 10,
   "metadata": {},
   "outputs": [],
   "source": [
    "def regular_data(cur_data):\n",
    "    for x,item in enumerate(cur_data):\n",
    "        for y,dialog_item in enumerate(item[\"topic_dialog\"][\"dialog\"]):\n",
    "            text=dialog_item[\"text\"]\n",
    "            while text.startswith(\" \"):\n",
    "                text=text[1:]\n",
    "            while text.endswith(\" \"):\n",
    "                text=text[:-1]\n",
    "            cur_data[x][\"topic_dialog\"][\"dialog\"][y][\"text\"]=text\n",
    "regular_data(en_data)"
   ]
  },
  {
   "cell_type": "code",
   "execution_count": 11,
   "metadata": {},
   "outputs": [
    {
     "data": {
      "text/plain": [
       "520"
      ]
     },
     "execution_count": 11,
     "metadata": {},
     "output_type": "execute_result"
    }
   ],
   "source": [
    "len(en_data)"
   ]
  },
  {
   "cell_type": "code",
   "execution_count": 12,
   "metadata": {},
   "outputs": [
    {
     "data": {
      "text/plain": [
       "{'theme': 'cognitive behaviour therapy: exploring cognition through images and thoughts in therapy to uncover emotionally charged thoughts and beliefs.',\n",
       " 'is_same_qa': 0,\n",
       " 'is_same_case': 0,\n",
       " 'background': 'A client experiences anxiety while walking down the high street due to negative self-perceptions.',\n",
       " 'pre_reasoning': 'The term ‘cognition’ includes images as well as thoughts. Some clients might find it difficult to pinpoint their NATs in a specific situation, but the therapist can ask such clients if they had any pictures or images in their minds in that situation which might be more retrievable. Using imagery can help clients to relive past situations in order to uncover the hot (emotionally charged) thoughts associated with these situations.',\n",
       " 'topic_dialog': {'key': 'fewshot',\n",
       "  'unit_id': 0,\n",
       "  'method': 'Cognitive Behaviour Therapy',\n",
       "  'dialog': [{'id': '0-0',\n",
       "    'participant': 'Client',\n",
       "    'text': 'I’m walking down the high street. I feel very uncomfortable. I think everyone is looking at me, so I keep my head down.',\n",
       "    'observation': 'The client describes feeling uncomfortable and believing others are observing them, leading to a self-protective behavior of avoiding eye contact.'},\n",
       "   {'id': '0-1',\n",
       "    'participant': 'Therapist',\n",
       "    'text': 'What would you be seeing if you put your head up?',\n",
       "    'reasoning': 'Encouraging the client to challenge their negative self-perceptions by considering an alternative perspective.'},\n",
       "   {'id': '0-2',\n",
       "    'participant': 'Client',\n",
       "    'text': 'I always keep it down and just rush about to get my shopping over with as quickly as possible.',\n",
       "    'observation': 'The client admits to avoiding eye contact and rushing through tasks, indicating a pattern of behavior driven by anxiety.'},\n",
       "   {'id': '0-3',\n",
       "    'participant': 'Therapist',\n",
       "    'text': 'But imagine putting your head up and looking around. What do you see?',\n",
       "    'reasoning': 'Guiding the client to explore different viewpoints and challenge their automatic responses.'},\n",
       "   {'id': '0-4',\n",
       "    'participant': 'Client',\n",
       "    'text': 'I see them staring at me, judging me. I hate it.',\n",
       "    'reference_labels': '[becoming visibly tense]',\n",
       "    'observation': 'The client expresses discomfort and tension when perceiving judgment from others.'},\n",
       "   {'id': '0-5',\n",
       "    'participant': 'Therapist',\n",
       "    'text': 'What is it that they are judging?',\n",
       "    'reasoning': \"Delving deeper into the client's negative self-perceptions to uncover underlying beliefs.\"},\n",
       "   {'id': '0-6',\n",
       "    'participant': 'Client',\n",
       "    'text': 'My looks.',\n",
       "    'reference_labels': '[becoming tearful]',\n",
       "    'observation': 'The client becomes emotional when disclosing personal insecurities related to appearance.'},\n",
       "   {'id': '0-7',\n",
       "    'participant': 'Therapist',\n",
       "    'text': 'In what way?',\n",
       "    'reasoning': \"Further exploring the client's self-image and the specific aspects causing distress.\"},\n",
       "   {'id': '0-8',\n",
       "    'participant': 'Client',\n",
       "    'text': 'They think I’m ugly, hideous. I look like the elephant woman. They probably make jokes about me and have a good laugh. I can’t bear it.',\n",
       "    'observation': 'The client expresses extreme negative self-perceptions and anticipates ridicule from others, contributing to their anxiety.'},\n",
       "   {'id': '0-9',\n",
       "    'participant': 'Therapist',\n",
       "    'text': 'Are those the thoughts that make you so anxious when you go into the high street?',\n",
       "    'reasoning': \"Connecting the client's negative thoughts about their appearance to the anxiety experienced in public settings.\"},\n",
       "   {'id': '0-10',\n",
       "    'participant': 'Client',\n",
       "    'text': 'Yes.',\n",
       "    'reference_labels': '[quietly]',\n",
       "    'observation': 'The client quietly confirms that their negative self-perceptions are indeed the source of their anxiety in public situations.'}]},\n",
       " 'post_reasoning': 'Lazarus states that an ‘understanding of the role that imagery plays in our daily lives provides a clue to unraveling otherwise insoluble puzzles’. Using the step-up technique, the therapist can help clients visualize future scenarios to uncover underlying worries. When clients reach a cognitive block and respond with ‘I don’t know’, therapists can provide suggestions based on case conceptualization or clinical experience to address the issue.'}"
      ]
     },
     "execution_count": 12,
     "metadata": {},
     "output_type": "execute_result"
    }
   ],
   "source": [
    "en_data[0]"
   ]
  },
  {
   "cell_type": "code",
   "execution_count": 13,
   "metadata": {},
   "outputs": [],
   "source": [
    "from copy import deepcopy"
   ]
  },
  {
   "cell_type": "code",
   "execution_count": 53,
   "metadata": {},
   "outputs": [
    {
     "name": "stdout",
     "output_type": "stream",
     "text": [
      "71 0\n",
      "切分 49 15\n",
      "72 0\n",
      "切分 43 9\n",
      "75 0\n",
      "切分 38 11\n",
      "90 0\n",
      "切分 35 19\n",
      "98 0\n",
      "切分 50 16\n",
      "99 0\n",
      "切分 55 27\n",
      "100 0\n",
      "切分 51 145\n",
      "100 1\n",
      "切分 51 95\n",
      "100 2\n",
      "切分 59 37\n",
      "326 0\n",
      "切分 34 11\n",
      "436 0\n",
      "切分 47 27\n",
      "449 0\n",
      "切分 53 23\n",
      "470 0\n",
      "切分 50 23\n",
      "479 0\n",
      "切分 46 67\n",
      "479 1\n",
      "切分 47 21\n",
      "495 0\n",
      "切分 42 12\n",
      "504 0\n",
      "切分 49 24\n",
      "切分完成 537\n",
      "格式拼接完成 537\n",
      "拷贝完成 537\n",
      " 537\n"
     ]
    }
   ],
   "source": [
    "# from ast import Raise\n",
    "import datasets\n",
    "import copy\n",
    "def dialog_item_str(dialog_item:dict):\n",
    "    \"\"\"将dialog_item 转为str\"\"\"\n",
    "    return dialog_item[\"participant\"]+\": \"+dialog_item[\"text\"]+\"\"\n",
    "\n",
    "def msg_analysis_annotation(msg_item:dict,task_define=str,task_define_dict={\"dialog\":\"Please generate the response of the dialog.\",\"reasoning\":\"Please analysis the reasoning of this response.\",\"observation\":\"Please summarize the observations of this response.\"}):\n",
    "    # print(msg_item)\n",
    "    if \"annotation\" not in msg_item.keys() or task_define not in task_define_dict.keys() and task_define_dict!=\"dialog\":\n",
    "        print(\"!!!!!!!!!!!!!!!!!!!!\",msg_item.keys())\n",
    "        \n",
    "        raise ValueError(\"\")\n",
    "    # change system prompt\n",
    "    msg_item[\"messages\"][0]['content'] = msg_item[\"messages\"][0]['content'].replace(task_define_dict['dialog'], task_define_dict[task_define])\n",
    "    text_observation=''\n",
    "    for idx,item in enumerate(msg_item[\"messages\"]):\n",
    "        if idx!=0:\n",
    "            if task_define==\"observation\" and 'user' in msg_item[\"messages\"][idx]['role']:\n",
    "                text_observation=msg_item[\"annotation\"][idx]['content']+ \" \"\n",
    "            else:\n",
    "                if 'assistant' in msg_item[\"messages\"][idx]['role']:\n",
    "                    # prev user=therapis\n",
    "                    msg_item[\"messages\"][idx-1]['content']+=\" \"+msg_item[\"messages\"][idx]['content']\n",
    "                    \n",
    "                    if task_define==\"reasoning\":\n",
    "                        # prev user=therapist\n",
    "                        # 将对话记录不计算loss\n",
    "                        text_reasoning= msg_item[\"annotation\"][idx]['content'] + \" \"\n",
    "                        annotation_text=text_reasoning\n",
    "                        text_reasoning=''\n",
    "                    elif  task_define==\"observation\":\n",
    "                        #prev user=therapist\n",
    "                        annotation_text=text_observation\n",
    "                        text_observation=''\n",
    "\n",
    "                    msg_item[\"messages\"][idx]['content']= annotation_text\n",
    "                    # change target\n",
    "    return msg_item\n",
    "\n",
    "def msg_add_annotation(msg_item:dict,add_observation=False):\n",
    "    # print(msg_item)\n",
    "    if \"annotation\" not in msg_item.keys():\n",
    "        print(\"!!!!!!!!!!!!!!!!!!!!\",msg_item.keys())\n",
    "        \n",
    "        raise ValueError(\"\")\n",
    "    prefix_observation=\"\"\n",
    "    for idx,item in enumerate(msg_item[\"messages\"]):\n",
    "        if idx!=0:\n",
    "            if add_observation==True and 'user' in msg_item[\"messages\"][idx]['role']:\n",
    "                prefix_observation=\"Observation\"+\": \"+msg_item[\"annotation\"][idx]['content']+ \"\\n\"+\" \"\n",
    "            else:\n",
    "                if 'assistant' in msg_item[\"messages\"][idx]['role']:\n",
    "                    text_reasoning=\"Reasoning\" + \": \" + msg_item[\"annotation\"][idx]['content'] + \"\\n\"+\" \"\n",
    "                    text_with_annotation = prefix_observation + text_reasoning + msg_item[\"messages\"][idx]['content']\n",
    "                    msg_item[\"messages\"][idx]['content']=text_with_annotation\n",
    "    return msg_item\n",
    "    \n",
    "def get_token_len(py_obj:dict,idx=None):\n",
    "    len_counter=0\n",
    "    if \"annotation\" not in py_obj.keys():\n",
    "        raise ValueError()\n",
    "    if idx==None:\n",
    "        idx=len(py_obj[\"messages\"])\n",
    "    len_counter+=len(tokenizer(str(py_obj[\"messages\"][:idx]))['input_ids'])\n",
    "    len_counter+=len(tokenizer(str(py_obj[\"annotation\"][:idx]))['input_ids'])\n",
    "    return len_counter\n",
    "def check_msg_format(msg_item):\n",
    "    role_list=[item[\"role\"] for item in msg_item[\"messages\"]]\n",
    "    if len(set(role_list))==1:\n",
    "        return False\n",
    "    return True\n",
    "\n",
    "def chat_assistant_format(msg_item):\n",
    "    # list 中必须要有一个\"assistant\"，例子中必须要是 user assistant user的形式\n",
    "    \n",
    "    new_annotation_list,new_msg_list=[],[]\n",
    "    for idx,item in enumerate(msg_item[\"messages\"]):\n",
    "        if len(new_msg_list)!=0 and new_msg_list[-1][\"role\"]==msg_item[\"messages\"][idx][\"role\"]: # 如果存在重复项\n",
    "            if new_msg_list[-1][\"content\"].startswith(\"Therapist:\") and msg_item[\"messages\"][idx][\"content\"].startswith(\"Therapist:\"):\n",
    "                # Therapist拼接\n",
    "                # print(new_msg_list[-1][\"content\"],item[\"content\"])\n",
    "                new_msg_list[-1][\"content\"]+=\" \"+item[\"content\"][len(\"Therapist:\"):]\n",
    "                new_annotation_list[-1][\"content\"]+=\" \"+msg_item[\"annotation\"][idx][\"content\"]\n",
    "            else:\n",
    "                # Client 拼接\n",
    "                new_msg_list[-1][\"content\"]+=\" \"+item[\"content\"]\n",
    "                new_annotation_list[-1][\"content\"]+=\" \"+msg_item[\"annotation\"][idx][\"content\"]\n",
    "            # 如果相等则拼接 一定要确保各异\n",
    "        else:\n",
    "            new_msg_list.append(msg_item[\"messages\"][idx])\n",
    "            new_annotation_list.append(msg_item[\"annotation\"][idx])\n",
    "    msg_item[\"messages\"]=new_msg_list\n",
    "    msg_item[\"annotation\"]=new_annotation_list\n",
    "    return msg_item\n",
    "def limit_incontext_windows(max_seq_len,tokenizer,msg_item,margin=100):\n",
    "    if max_seq_len<1000:\n",
    "        raise ValueError(\"\")\n",
    "    # 将返回一个限制长度的messages 和一个没有限制长度的messages\n",
    "    idx=len(msg_item[\"messages\"])\n",
    "    while get_token_len(msg_item,idx)>max_seq_len-margin:\n",
    "        idx=idx-1\n",
    "    if len(msg_item[\"annotation\"][idx:])==1 and len(msg_item[\"annotation\"][:idx])>9:\n",
    "        idx-=4\n",
    "    old_msg_item={\n",
    "        \"messages\": msg_item[\"messages\"][0:idx],\n",
    "        \"annotation\": msg_item[\"annotation\"][0:idx],\n",
    "        \"background\":msg_item[\"background\"]\n",
    "    }\n",
    "    # \"annotation\":[{\"role\":\"pre_observation\",\"content\":\"\"}]\n",
    "    new_msg_item={\n",
    "        \"messages\": msg_item[\"messages\"][idx:],\n",
    "        \"annotation\": msg_item[\"annotation\"][idx:],\n",
    "        \"background\":msg_item[\"background\"]\n",
    "    }# therapist 开头的\n",
    "    dialog_history_str=\" \".join([item[\"role\"]+\":\"+item[\"content\"] for item in old_msg_item[\"messages\"][-3:]])\n",
    "    new_msg_item[\"annotation\"].insert(0,{\"role\":\"pre_observation\",\"content\":\"\"})\n",
    "    new_msg_item[\"messages\"].insert(0,\n",
    "                                    {\"role\": \"user\", \"content\": \"\"\"You are a friendly and professional AI psychotherapist who always provides useful emotional support. There is a real psychological counseling case. There is a background: \"\"\"+msg_item['background']+\"\"\" Please generate the response of the dialog. There is the dialog history: \"\"\"+dialog_history_str})\n",
    "    print(\"切分\",len(old_msg_item[\"messages\"]),len(new_msg_item[\"messages\"]))\n",
    "    return old_msg_item,new_msg_item\n",
    "\n",
    "def mistral_data_preprocess(idx,topic_dialog,prefix_unit):\n",
    "    # User\n",
    "    system_prompt=\"\"\"You are a friendly and professional AI psychotherapist who always provides useful emotional support. There is a real psychological counseling case. There is a background: \"\"\"+topic_dialog['background']+\"\"\" Please generate the response of the dialog. \"\"\"\n",
    "    ## 如果开头为Therapist 就用对话历史\n",
    "    if \"Therapist\" in topic_dialog[\"topic_dialog\"][\"dialog\"][0][\"participant\"] and idx!=0:\n",
    "        if topic_dialog[\"is_same_qa\"]==1 or topic_dialog[\"is_same_case\"]==1:\n",
    "            system_prompt+=\"There is the dialog history: \"\n",
    "            for dialog_item in prefix_unit[\"topic_dialog\"][\"dialog\"][-3:]:\n",
    "                system_prompt+=dialog_item_str(dialog_item)+\" \"\n",
    "    tmp_result={\"messages\": [\n",
    "    {\"role\": \"user\", \"content\": system_prompt},\n",
    "    ],          \"annotation\":[\n",
    "    {\"role\":\"pre_observation\",\"content\":\"\"}],\n",
    "    \"background\":topic_dialog['background']}\n",
    "    \n",
    "    for idx,dialog_item in enumerate(topic_dialog[\"topic_dialog\"][\"dialog\"]):\n",
    "        if \"Therapist\" in dialog_item[\"participant\"]:\n",
    "            # print(dialog_item.keys())\n",
    "            tmp_result[\"messages\"].append({\"role\": \"assistant\", \"content\": dialog_item_str(dialog_item)})\n",
    "            tmp_result[\"annotation\"].append({\"role\": \"reasoning\", \"content\": dialog_item['reasoning']})\n",
    "        else:\n",
    "            tmp_result[\"messages\"].append({\"role\": \"user\", \"content\": dialog_item_str(dialog_item)})\n",
    "            tmp_result[\"annotation\"].append({\"role\": \"observation\", \"content\": dialog_item[\"observation\"]})\n",
    "    \"\"\"注意！：最后一定使用函数使得集合符合User/assistant/user/assistant的形式\"\"\"\n",
    "    return tmp_result\n",
    "\n",
    "def data_preprocess_main(cur_data,tokenizer,max_seq_len):\n",
    "    msg_list=[]\n",
    "    for idx,item in enumerate(cur_data[:]):\n",
    "        msg_item=mistral_data_preprocess(idx=idx,topic_dialog=item,prefix_unit=cur_data[idx-1])\n",
    "        msg_item=chat_assistant_format(msg_item)\n",
    "        msg_list.append(msg_item)\n",
    "    result_msg_list=[]\n",
    "    for idx,msg_item in enumerate(msg_list):\n",
    "        counter=0\n",
    "        while get_token_len(msg_item)>max_seq_len:\n",
    "            print(idx,counter)\n",
    "            counter+=1\n",
    "            old_msg_item,new_msg_item=limit_incontext_windows(max_seq_len,tokenizer,msg_item)\n",
    "            old_msg_item=chat_assistant_format(old_msg_item)\n",
    "            result_msg_list.append(old_msg_item)\n",
    "            msg_item=new_msg_item.copy()\n",
    "        msg_item=chat_assistant_format(msg_item)\n",
    "        result_msg_list.append(msg_item)\n",
    "    print(\"切分完成\",len(result_msg_list))\n",
    "    for idx,item in enumerate(result_msg_list):\n",
    "        result_msg_list[idx]=chat_assistant_format(result_msg_list[idx])\n",
    "        if check_msg_format(result_msg_list[idx])==False:\n",
    "            print(idx)\n",
    "            raise ValueError(\"\")\n",
    "    print(\"格式拼接完成\",len(result_msg_list))\n",
    "\n",
    "    dialog_format_list=[pure_dialog, merge_r_dialog, merge_o_r_dialog, only_r_task, only_o_task] = [copy.deepcopy(result_msg_list) for _ in range(5)]\n",
    "    # 列表是浅拷贝\n",
    "    print(\"拷贝完成\",len(pure_dialog))\n",
    "    for idx,_ in enumerate(pure_dialog):\n",
    "        merge_r_dialog[idx]=msg_add_annotation(merge_r_dialog[idx],add_observation=False)\n",
    "        merge_o_r_dialog[idx]=msg_add_annotation(merge_o_r_dialog[idx],add_observation=True)\n",
    "        only_r_task[idx]=msg_analysis_annotation(only_r_task[idx],task_define=\"reasoning\")\n",
    "        only_o_task[idx]=msg_analysis_annotation(only_o_task[idx],task_define=\"observation\")\n",
    "        for x,_ in enumerate(dialog_format_list):\n",
    "            if \"background\" in dialog_format_list[x][idx].keys():\n",
    "                del dialog_format_list[x][idx][\"background\"]# sb 的 GPT\n",
    "            if \"annotation\" in dialog_format_list[x][idx].keys():\n",
    "                del dialog_format_list[x][idx][\"annotation\"]# sb 的 GPT\n",
    "    print(\"\",len(pure_dialog))\n",
    "    return dialog_format_list\n",
    "# def regular_data()\n",
    "pure_dialog,annote_dialog,annote2_dialog,only_r_dialog,only_o_dialog=data_preprocess_main(en_data,tokenizer,max_seq_len=4096-300)"
   ]
  },
  {
   "cell_type": "code",
   "execution_count": 54,
   "metadata": {},
   "outputs": [
    {
     "data": {
      "text/plain": [
       "([{'role': 'assistant',\n",
       "   'content': 'Therapist: Encouraging that you are both motivated. Focus on maintaining motivation and identifying moments of higher optimism.'}],\n",
       " [{'role': 'assistant',\n",
       "   'content': \"Reasoning: The therapist acknowledges the couple's shared motivation, normalizes their feelings of low optimism, and encourages them to focus on sustaining their motivation while recognizing instances of increased optimism for progress in therapy.\\n Therapist: Encouraging that you are both motivated. Focus on maintaining motivation and identifying moments of higher optimism.\"}],\n",
       " [{'role': 'assistant',\n",
       "   'content': \"Observation: Dick expresses his high motivation to work on the marriage but acknowledges a lack of optimism, indicating a realistic self-assessment of their current situation. Karen echoes Dick's sentiment of being motivated yet lacking optimism, showing a shared perspective on their marital challenges and the need for improvement.\\n Reasoning: The therapist acknowledges the couple's shared motivation, normalizes their feelings of low optimism, and encourages them to focus on sustaining their motivation while recognizing instances of increased optimism for progress in therapy.\\n Therapist: Encouraging that you are both motivated. Focus on maintaining motivation and identifying moments of higher optimism.\"}])"
      ]
     },
     "execution_count": 54,
     "metadata": {},
     "output_type": "execute_result"
    }
   ],
   "source": [
    "show_idx=45\n",
    "pure_dialog[show_idx]['messages'][3:5],annote_dialog[show_idx]['messages'][3:5],annote2_dialog[show_idx]['messages'][3:5]"
   ]
  },
  {
   "cell_type": "code",
   "execution_count": 55,
   "metadata": {},
   "outputs": [
    {
     "data": {
      "text/plain": [
       "([{'role': 'user',\n",
       "   'content': 'Dick: I am highly motivated to save our marriage but lack optimism. I rate us low in optimism for improving our relationship. Karen: I am also highly motivated but lack optimism. Our scores align closely. Therapist: Encouraging that you are both motivated. Focus on maintaining motivation and identifying moments of higher optimism.'},\n",
       "  {'role': 'assistant',\n",
       "   'content': \"The therapist acknowledges the couple's shared motivation, normalizes their feelings of low optimism, and encourages them to focus on sustaining their motivation while recognizing instances of increased optimism for progress in therapy. \"}],\n",
       " [{'role': 'user',\n",
       "   'content': 'Dick: I am highly motivated to save our marriage but lack optimism. I rate us low in optimism for improving our relationship. Karen: I am also highly motivated but lack optimism. Our scores align closely. Therapist: Encouraging that you are both motivated. Focus on maintaining motivation and identifying moments of higher optimism.'},\n",
       "  {'role': 'assistant',\n",
       "   'content': \"Dick expresses his high motivation to work on the marriage but acknowledges a lack of optimism, indicating a realistic self-assessment of their current situation. Karen echoes Dick's sentiment of being motivated yet lacking optimism, showing a shared perspective on their marital challenges and the need for improvement. \"}])"
      ]
     },
     "execution_count": 55,
     "metadata": {},
     "output_type": "execute_result"
    }
   ],
   "source": [
    "only_r_dialog[show_idx]['messages'][2:5],only_o_dialog[show_idx]['messages'][2:5]"
   ]
  },
  {
   "cell_type": "code",
   "execution_count": 56,
   "metadata": {},
   "outputs": [
    {
     "data": {
      "text/plain": [
       "(537, 537, 537)"
      ]
     },
     "execution_count": 56,
     "metadata": {},
     "output_type": "execute_result"
    }
   ],
   "source": [
    "len(pure_dialog),len(annote_dialog),len(annote2_dialog)"
   ]
  },
  {
   "cell_type": "code",
   "execution_count": 57,
   "metadata": {},
   "outputs": [
    {
     "data": {
      "text/plain": [
       "(537, 537, 537)"
      ]
     },
     "execution_count": 57,
     "metadata": {},
     "output_type": "execute_result"
    }
   ],
   "source": [
    "from datasets import Dataset\n",
    "# chat_pure_dialog,annote_dialog\n",
    "\n",
    "pure_dialog_64= Dataset.from_list(pure_dialog)\n",
    "annotate_64= Dataset.from_list(annote_dialog)\n",
    "annotate_65_2= Dataset.from_list(annote2_dialog)\n",
    "only_r_67=Dataset.from_list(only_r_dialog)\n",
    "only_o_67=Dataset.from_list(only_o_dialog)\n",
    "len(annotate_64['messages']),len(pure_dialog_64['messages']),len(annotate_65_2['messages'])"
   ]
  },
  {
   "cell_type": "code",
   "execution_count": 58,
   "metadata": {},
   "outputs": [],
   "source": [
    "check_list=[]\n",
    "for x,item in enumerate(only_r_67[\"messages\"]):\n",
    "    check_str=\"\"\n",
    "    for idx,dialog_item in enumerate(item):\n",
    "        check_str+=dialog_item[\"role\"]\n",
    "        # print(tokenizer.apply_chat_template(item))\n",
    "    if check_str.startswith('user')==False:\n",
    "        print(check_str)\n",
    "    if 'useruser' in check_str:\n",
    "        print(idx,x,check_str)\n",
    "    if 'assistantassistant' in check_str:\n",
    "        print(check_str)\n",
    "    if 'assistant' not in check_str:\n",
    "        print('assistant',x,check_str)\n",
    "    if 'user' not in check_str:\n",
    "        print('user',x,check_str)"
   ]
  },
  {
   "cell_type": "code",
   "execution_count": 59,
   "metadata": {},
   "outputs": [
    {
     "data": {
      "text/plain": [
       "537"
      ]
     },
     "execution_count": 59,
     "metadata": {},
     "output_type": "execute_result"
    }
   ],
   "source": [
    "len(annotate_64[\"messages\"])"
   ]
  },
  {
   "cell_type": "code",
   "execution_count": 61,
   "metadata": {},
   "outputs": [
    {
     "data": {
      "application/vnd.jupyter.widget-view+json": {
       "model_id": "c7ad9d4d1ec84fef9c7836e975886895",
       "version_major": 2,
       "version_minor": 0
      },
      "text/plain": [
       "Saving the dataset (0/1 shards):   0%|          | 0/537 [00:00<?, ? examples/s]"
      ]
     },
     "metadata": {},
     "output_type": "display_data"
    },
    {
     "data": {
      "application/vnd.jupyter.widget-view+json": {
       "model_id": "19b044a96b2b48aebc1f7673794bd597",
       "version_major": 2,
       "version_minor": 0
      },
      "text/plain": [
       "Saving the dataset (0/1 shards):   0%|          | 0/537 [00:00<?, ? examples/s]"
      ]
     },
     "metadata": {},
     "output_type": "display_data"
    }
   ],
   "source": [
    "prefix=\"/home/ckqsudo/code2024/Mistral-7b-finetune/hf\"\n",
    "# pure_dialog_64.save_to_disk(\"/home/ckqsudo/code2024/Mistral-7b-finetune/hf_en_pure_dialog_dataset_3\")\n",
    "# annotate_64.save_to_disk(\"/home/ckqsudo/code2024/Mistral-7b-finetune/hf_en_reasoning_dataset_3\")\n",
    "# annotate_65_2.save_to_disk(\"/home/ckqsudo/code2024/Mistral-7b-finetune/hf_en_observation_reasoning_dataset_3\")\n",
    "only_o_67.save_to_disk(f\"{prefix}_en_pure_observation_dataset_3\")\n",
    "only_r_67.save_to_disk(f\"{prefix}_en_pure_reasoning_dataset_3\")"
   ]
  },
  {
   "cell_type": "code",
   "execution_count": 81,
   "metadata": {},
   "outputs": [
    {
     "data": {
      "application/vnd.jupyter.widget-view+json": {
       "model_id": "054d94022f9740f3999a31d758c1a505",
       "version_major": 2,
       "version_minor": 0
      },
      "text/plain": [
       "Saving the dataset (0/1 shards):   0%|          | 0/537 [00:00<?, ? examples/s]"
      ]
     },
     "metadata": {},
     "output_type": "display_data"
    }
   ],
   "source": []
  },
  {
   "cell_type": "code",
   "execution_count": 13,
   "metadata": {},
   "outputs": [
    {
     "data": {
      "application/vnd.jupyter.widget-view+json": {
       "model_id": "45c588364ca344c89b4fbaac1a40a59f",
       "version_major": 2,
       "version_minor": 0
      },
      "text/plain": [
       "Creating json from Arrow format:   0%|          | 0/1 [00:00<?, ?ba/s]"
      ]
     },
     "metadata": {},
     "output_type": "display_data"
    },
    {
     "data": {
      "text/plain": [
       "1031644"
      ]
     },
     "execution_count": 13,
     "metadata": {},
     "output_type": "execute_result"
    }
   ],
   "source": [
    "\n",
    "\n",
    "# re=[]\n",
    "# for item in chat_format_dialog[\"text\"]:\n",
    "#     re.extend([list(d_i.keys()) for d_i in item[\"messages\"]])\n",
    "# a=[]\n",
    "# for r in re:\n",
    "#     a.extend(r)\n",
    "# set(a)"
   ]
  }
 ],
 "metadata": {
  "kernelspec": {
   "display_name": "trl",
   "language": "python",
   "name": "python3"
  },
  "language_info": {
   "codemirror_mode": {
    "name": "ipython",
    "version": 3
   },
   "file_extension": ".py",
   "mimetype": "text/x-python",
   "name": "python",
   "nbconvert_exporter": "python",
   "pygments_lexer": "ipython3",
   "version": "3.9.0"
  }
 },
 "nbformat": 4,
 "nbformat_minor": 2
}
