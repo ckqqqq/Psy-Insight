{
 "cells": [
  {
   "cell_type": "code",
   "execution_count": 2,
   "metadata": {},
   "outputs": [],
   "source": [
    "import json\n",
    "english_input_file_path=\"/home/ckqsudo/code2024/0dataset/E-bed/English/z2_打上标记并分隔participant/输入文件夹/English_proc.json\"\n",
    "with open(english_input_file_path,\"r\",encoding=\"utf-8\") as i_f:\n",
    "    en_data=json.load(i_f)\n"
   ]
  },
  {
   "cell_type": "code",
   "execution_count": 3,
   "metadata": {},
   "outputs": [
    {
     "data": {
      "text/plain": [
       "2824"
      ]
     },
     "execution_count": 3,
     "metadata": {},
     "output_type": "execute_result"
    }
   ],
   "source": [
    "len(en_data)"
   ]
  },
  {
   "cell_type": "code",
   "execution_count": 6,
   "metadata": {},
   "outputs": [],
   "source": [
    "total_turn=0\n",
    "total_supporter_turn=0\n",
    "total_seeker_turn=0\n",
    "for x,item in enumerate(en_data):\n",
    "    if item[\"key\"]==\"fewshot\":\n",
    "        for x,dialog_item in enumerate(item[\"dialog\"]):\n",
    "            if dialog_item[\"speaker\"]==\"seeker\":\n",
    "                total_seeker_turn+=1\n",
    "            else:\n",
    "                total_supporter_turn+=1\n",
    "\n",
    "total_turn=(total_seeker_turn+total_supporter_turn)//2"
   ]
  },
  {
   "cell_type": "code",
   "execution_count": 7,
   "metadata": {},
   "outputs": [
    {
     "data": {
      "text/plain": [
       "(3004, 2987, 3022)"
      ]
     },
     "execution_count": 7,
     "metadata": {},
     "output_type": "execute_result"
    }
   ],
   "source": [
    "total_turn,total_seeker_turn,total_supporter_turn"
   ]
  },
  {
   "cell_type": "code",
   "execution_count": 2,
   "metadata": {},
   "outputs": [],
   "source": [
    "import json\n",
    "chinese_input_file_path=\"/home/ckqsudo/code2024/0dataset/E-bed/Chinese/中文数据_处理错reasoning_分离长对话数据_分离label_对话人.json\"\n",
    "with open(chinese_input_file_path,\"r\",encoding=\"utf-8\") as i_f:\n",
    "    cn_data=json.load(i_f)\n"
   ]
  },
  {
   "cell_type": "code",
   "execution_count": 3,
   "metadata": {},
   "outputs": [],
   "source": [
    "chinese_seeker_turn,chinese_supporter_turn=0,0\n",
    "\n",
    "for x,item in enumerate(cn_data):\n",
    "    if item[\"key\"]==\"fewshot\":\n",
    "        for x,dialog_item in enumerate(item[\"dialog\"]):\n",
    "            if dialog_item[\"speaker\"]==\"seeker\":\n",
    "                chinese_seeker_turn+=1\n",
    "            else:\n",
    "                chinese_supporter_turn+=1"
   ]
  },
  {
   "cell_type": "code",
   "execution_count": 5,
   "metadata": {},
   "outputs": [
    {
     "data": {
      "text/plain": [
       "(2940, 2998, 2883)"
      ]
     },
     "execution_count": 5,
     "metadata": {},
     "output_type": "execute_result"
    }
   ],
   "source": [
    "(chinese_supporter_turn+chinese_seeker_turn)//2,chinese_supporter_turn,chinese_seeker_turn"
   ]
  }
 ],
 "metadata": {
  "kernelspec": {
   "display_name": "Python 3 (ipykernel)",
   "language": "python",
   "name": "python3"
  },
  "language_info": {
   "codemirror_mode": {
    "name": "ipython",
    "version": 3
   },
   "file_extension": ".py",
   "mimetype": "text/x-python",
   "name": "python",
   "nbconvert_exporter": "python",
   "pygments_lexer": "ipython3",
   "version": "3.9.0"
  }
 },
 "nbformat": 4,
 "nbformat_minor": 2
}
